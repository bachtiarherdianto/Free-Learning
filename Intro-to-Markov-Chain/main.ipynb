{
  "nbformat": 4,
  "nbformat_minor": 0,
  "metadata": {
    "colab": {
      "name": "markov-chain.ipynb",
      "provenance": [],
      "collapsed_sections": []
    },
    "kernelspec": {
      "name": "python3",
      "display_name": "Python 3"
    },
    "language_info": {
      "name": "python"
    }
  },
  "cells": [
    {
      "cell_type": "markdown",
      "source": [
        "# **Markov Chains are an excellent way to do it**"
      ],
      "metadata": {
        "id": "l9MoYI5XCPH3"
      }
    },
    {
      "cell_type": "markdown",
      "source": [
        "## **Introduction**"
      ],
      "metadata": {
        "id": "gG3hIQtxCUq6"
      }
    },
    {
      "cell_type": "markdown",
      "source": [
        "The idea that is behind the Markov Chains is simple: _\"everything that will happen in the future only depends on what is happening right now.\"_ In mathematical terms, we say that there is a sequence of stochastic variables $x_0$, $x_1$, …, $x_n$ that can take values in a certain set A. Then we say that, if the sequence of an event is a Markov Chain, we have:"
      ],
      "metadata": {
        "id": "crTM7TknCY6s"
      }
    },
    {
      "cell_type": "markdown",
      "source": [
        "$$P(x_n = a_n|x_n-1 = a_n-1, x_n-1 = a_n-1, ..., x_0 = a_0) = P(x_n=a_n|x_n-1=a_n-1)$$"
      ],
      "metadata": {
        "id": "80tmHGJuDV6x"
      }
    },
    {
      "cell_type": "markdown",
      "source": [
        "And it may sound complicated but it is nothing more than the concept expressed above.\n",
        "<br>\n",
        "Another assumption that is made is that the equation is valid for every step (not only the last one), and that the probability is always the same (even though, formally, this is true only for _homogeneous Markov chains_).\n",
        "<br>\n",
        "Now, the set of possible states A is usually indicated as the sample space S, and you can describe the probability of going from a state x in S to a state y in S with the so called **transition probability**."
      ],
      "metadata": {
        "id": "nt5AE49NEK4F"
      }
    },
    {
      "cell_type": "code",
      "execution_count": 1,
      "metadata": {
        "id": "coJ3w8elCHqV"
      },
      "outputs": [],
      "source": [
        "# import all packages\n",
        "import matplotlib.pyplot as plt\n",
        "import numpy as np\n",
        "import pandas as pd\n",
        "import seaborn as sns\n",
        "plt.style.use(\"ggplot\")\n",
        "plt.rcParams[\"font.family\"] = \"sans-serif\" \n",
        "plt.rcParams[\"font.serif\"] = \"Ubuntu\" \n",
        "plt.rcParams[\"font.monospace\"] = \"Ubuntu Mono\" \n",
        "plt.rcParams[\"font.size\"] = 14 \n",
        "plt.rcParams[\"axes.labelsize\"] = 12 \n",
        "plt.rcParams[\"axes.labelweight\"] = \"bold\" \n",
        "plt.rcParams[\"axes.titlesize\"] = 12 \n",
        "plt.rcParams[\"xtick.labelsize\"] = 12 \n",
        "plt.rcParams[\"ytick.labelsize\"] = 12 \n",
        "plt.rcParams[\"legend.fontsize\"] = 12 \n",
        "plt.rcParams[\"figure.titlesize\"] = 12 \n",
        "plt.rcParams[\"image.cmap\"] = \"jet\" \n",
        "plt.rcParams[\"image.interpolation\"] = \"none\" \n",
        "plt.rcParams[\"figure.figsize\"] = (12, 10) \n",
        "plt.rcParams[\"axes.grid\"]=False\n",
        "plt.rcParams[\"lines.linewidth\"] = 2 \n",
        "plt.rcParams[\"lines.markersize\"] = 8\n",
        "colors = [\"xkcd:pale orange\",\n",
        "          \"xkcd:sea blue\", \n",
        "          \"xkcd:pale red\", \n",
        "          \"xkcd:sage green\", \n",
        "          \"xkcd:terra cotta\", \n",
        "          \"xkcd:dull purple\", \n",
        "          \"xkcd:teal\", \n",
        "          \"xkcd: goldenrod\", \n",
        "          \"xkcd:cadet blue\",\n",
        "          \"xkcd:scarlet\"]"
      ]
    },
    {
      "cell_type": "markdown",
      "source": [
        "## **Case 1: Simple Random Walks**"
      ],
      "metadata": {
        "id": "sNfZuhTBFKQ0"
      }
    },
    {
      "cell_type": "markdown",
      "source": [
        "From image below, assume that the first state is $0$, then you jump from $0$ to $1$ with probability $0.5$ and jump from $0$ to $-1$ with probability $0.5$. Then, you do the same thing with $x_1$, $x_2$, $...$, $x_n$. Hence, consider $S(n)$ to be the state at time $n$.\n",
        "<br>\n",
        "By a _Markov chain_, it is possible to prove that the probability of being in a certain state, i.e. an integer number $x$, at time $t+1$ only depends on the state at time $t$. "
      ],
      "metadata": {
        "id": "yBvbePKFFVfx"
      }
    },
    {
      "cell_type": "markdown",
      "source": [
        "![Random Walks](https://miro.medium.com/max/402/1*23JFOeEx5rtPOL-NbHENnw.png)"
      ],
      "metadata": {
        "id": "mvMAmqHaHYSQ"
      }
    },
    {
      "cell_type": "code",
      "source": [
        "start = 0\n",
        "x = []\n",
        "n = 10000\n",
        "for i in range(n):\n",
        "    step = np.random.choice([-1,1],p=[0.5,0.5])\n",
        "    start = start + step\n",
        "    x.append(start)"
      ],
      "metadata": {
        "id": "gD3JvjkBC6JZ"
      },
      "execution_count": 2,
      "outputs": []
    },
    {
      "cell_type": "code",
      "source": [
        "plt.plot(x)\n",
        "plt.xlabel('Steps',fontsize=10)\n",
        "plt.ylabel(r'$S(n)$',fontsize=20)"
      ],
      "metadata": {
        "colab": {
          "base_uri": "https://localhost:8080/",
          "height": 300
        },
        "id": "sTpmXC0qEnHm",
        "outputId": "dda24ddd-c7da-4315-9f9a-4d69b0654029"
      },
      "execution_count": 3,
      "outputs": [
        {
          "output_type": "execute_result",
          "data": {
            "text/plain": [
              "Text(0, 0.5, '$S(n)$')"
            ]
          },
          "metadata": {},
          "execution_count": 3
        },
        {
          "output_type": "display_data",
          "data": {
            "text/plain": [
              "<Figure size 432x288 with 1 Axes>"
            ],
            "image/png": "[encoded data removed]"
          },
          "metadata": {
            "needs_background": "light"
          }
        }
      ]
    },
    {
      "cell_type": "markdown",
      "source": [
        "## **Case 2: Gambler's Ruin Chain**"
      ],
      "metadata": {
        "id": "bm8PZntnQBof"
      }
    },
    {
      "cell_type": "markdown",
      "source": [
        "Conceptually, it is very similar to the random walk: you start from a state $x$ and you can go to a state $y=x+1$ with probability $p$ or to a state $y=x-1$ with probability $1-p$."
      ],
      "metadata": {
        "id": "3Chp_OnGd2tt"
      }
    },
    {
      "cell_type": "markdown",
      "source": [
        "![Gambler's Ruin Chain](https://miro.medium.com/max/700/1*ciBoAIjKiDm0nAoyLu_xDA.png)"
      ],
      "metadata": {
        "id": "ZxxWkqaoHBCS"
      }
    },
    {
      "cell_type": "markdown",
      "source": [
        "The interesting part is that when you arrive at $1$ or $N$, you are basically stuck. You can do nothing more than stay in that state forever. Hence, assume that $p=0.5$ we can calculate several following condition, such as"
      ],
      "metadata": {
        "id": "E5vk7f2jeTR2"
      }
    },
    {
      "cell_type": "markdown",
      "source": [
        "### Question 1: Let's say we start from state 3. What is the probability of ending up in state 5 after 2 steps?"
      ],
      "metadata": {
        "id": "kPgq865-XwkB"
      }
    },
    {
      "cell_type": "markdown",
      "source": [
        "The answer is follow"
      ],
      "metadata": {
        "id": "hVtQN0epYAd_"
      }
    },
    {
      "cell_type": "markdown",
      "source": [
        "$p^{(2)}(3,5)=p(3,4) p(4,5)=p^{2}$"
      ],
      "metadata": {
        "id": "2h0IoR0JYEob"
      }
    },
    {
      "cell_type": "markdown",
      "source": [
        "In this case, it would be $p^{2}=0.5^{2}=0.25$"
      ],
      "metadata": {
        "id": "BDHQWLKcYehz"
      }
    },
    {
      "cell_type": "markdown",
      "source": [
        "### Question 2: Let's say we start from state 3. What is the probability of ending up in state 1 after 2 steps?"
      ],
      "metadata": {
        "id": "cF_I8I4mYt7H"
      }
    },
    {
      "cell_type": "markdown",
      "source": [
        "Again, this is just the probability of going from state 3 to state 2 and then going from state 2 to state 1, as follow"
      ],
      "metadata": {
        "id": "u3uWsMkDb_ow"
      }
    },
    {
      "cell_type": "markdown",
      "source": [
        "$p^{(2)}(3,1)=p(3,2) p(2,1)=(1-p)^{2}$"
      ],
      "metadata": {
        "id": "MYtFNWIQZBYW"
      }
    },
    {
      "cell_type": "markdown",
      "source": [
        "Hence, it would be $(1-p)^{2}=(1-0.5)^{2}=0.25$"
      ],
      "metadata": {
        "id": "EUtF2YmsZK-8"
      }
    },
    {
      "cell_type": "markdown",
      "source": [
        "Also, it could be calculated with another way, as follow"
      ],
      "metadata": {
        "id": "IrYUre0uZck2"
      }
    },
    {
      "cell_type": "markdown",
      "source": [
        "$p^{(2)}(3,3)=1-p^{(2)}(3,1)-p^{(2)}(3,5)=-2p^{(2)}+2p=-2*0.5^{(2)}+2*0.5=0.5$"
      ],
      "metadata": {
        "id": "9e6Scu-Ycysj"
      }
    },
    {
      "cell_type": "markdown",
      "source": [
        "### Python Application for Infinite Times Repeated"
      ],
      "metadata": {
        "id": "H5phirTmdimC"
      }
    },
    {
      "cell_type": "code",
      "source": [
        "def gamblersruinchain(start,first,last,n):\n",
        "    for k in range(n):\n",
        "        if start==first or start==last:\n",
        "            start = start\n",
        "        else:\n",
        "            step = np.random.choice([-1,1],p=[0.5,0.5])\n",
        "            start = start + step\n",
        "    return start"
      ],
      "metadata": {
        "id": "8BZbzhadEvah"
      },
      "execution_count": 4,
      "outputs": []
    },
    {
      "cell_type": "markdown",
      "source": [
        "This function, given:\n",
        "* a **starting point**, `start` (e.g. $3$)\n",
        "* the **first possible value**, `first` (e.g. $0$)\n",
        "* **the last possible value**, `last` (e.g. $5$)"
      ],
      "metadata": {
        "id": "2jzRAhjpfHO6"
      }
    },
    {
      "cell_type": "markdown",
      "source": [
        "If we repeat an experiment infinite time, say $n=100000$, we should be able to verify the occurrences suggested by the probability values."
      ],
      "metadata": {
        "id": "_XRtKiWwg7-M"
      }
    },
    {
      "cell_type": "code",
      "source": [
        "state_list = []\n",
        "for i in range(100000):\n",
        "    state_list.append(gamblersruinchain(3,0,5,2))\n",
        "data_state = pd.DataFrame({'Final State':state_list})\n",
        "data_occ = pd.DataFrame(data_state.value_counts('Final State')).rename(columns={0:'Count'})\n",
        "data_occ['Count'] = data_occ['Count']/100000\n",
        "sns.barplot(x=data_occ.index,y=data_occ['Count'],palette='plasma')\n",
        "plt.ylabel('Normalized Count')"
      ],
      "metadata": {
        "colab": {
          "base_uri": "https://localhost:8080/",
          "height": 303
        },
        "id": "czQfHbSxE02f",
        "outputId": "c13b7456-7f80-40db-9f1c-489157f2a639"
      },
      "execution_count": 5,
      "outputs": [
        {
          "output_type": "execute_result",
          "data": {
            "text/plain": [
              "Text(0, 0.5, 'Normalized Count')"
            ]
          },
          "metadata": {},
          "execution_count": 5
        },
        {
          "output_type": "display_data",
          "data": {
            "text/plain": [
              "<Figure size 432x288 with 1 Axes>"
            ],
            "image/png": "[encoded data removed]"
          },
          "metadata": {
            "needs_background": "light"
          }
        }
      ]
    },
    {
      "cell_type": "markdown",
      "source": [
        "## **Case 3: Graphical Markov Chain**"
      ],
      "metadata": {
        "id": "zw_lS6wVSe-2"
      }
    },
    {
      "cell_type": "markdown",
      "source": [
        "![Custom Markov Chain](https://miro.medium.com/max/700/1*xnPUZVTCyGf8kdZdiHN9KQ.png)"
      ],
      "metadata": {
        "id": "xBa7uvfGG3Vu"
      }
    },
    {
      "cell_type": "markdown",
      "source": [
        "When there is an arrow between two nodes (let's say $A$ and $B$), it means that we can go from node $A$ to node $B$ with a certain probability, for example: it is possible to go from state $A$ to state $B$ with probability $0.5$.\n",
        "<br>\n",
        "Also, the above model could be summarize as **Markov matrix / transition matrix** as"
      ],
      "metadata": {
        "id": "YGszF1jiytZQ"
      }
    },
    {
      "cell_type": "code",
      "source": [
        "state_1 = [0.2,0.5,0.3,0,0]\n",
        "state_2 = [0,0.5,0.5,0,0]\n",
        "state_3 = [0,0,1,0,0]\n",
        "state_4 = [0,0,0,0,1]\n",
        "state_5 = [0,0,0,0.5,0.5]\n",
        "trans_matrix = [state_1,state_2,state_3,state_4,state_5]\n",
        "trans_matrix = np.array(trans_matrix)\n",
        "trans_matrix"
      ],
      "metadata": {
        "colab": {
          "base_uri": "https://localhost:8080/"
        },
        "id": "xCLSLdCoFMaR",
        "outputId": "ed8d0062-c0cf-486a-afb4-f33009c0e3dd"
      },
      "execution_count": 6,
      "outputs": [
        {
          "output_type": "execute_result",
          "data": {
            "text/plain": [
              "array([[0.2, 0.5, 0.3, 0. , 0. ],\n",
              "       [0. , 0.5, 0.5, 0. , 0. ],\n",
              "       [0. , 0. , 1. , 0. , 0. ],\n",
              "       [0. , 0. , 0. , 0. , 1. ],\n",
              "       [0. , 0. , 0. , 0.5, 0.5]])"
            ]
          },
          "metadata": {},
          "execution_count": 6
        }
      ]
    },
    {
      "cell_type": "markdown",
      "source": [
        "If we look at the model closely, we can see that if we move from state $2$ to state $3$. Could we ever go back to state $2$? The answer is no.\n",
        "<br>\n",
        "The same is valid for state $3$ and state $1$. State $1$, $3$ and $2$ are thus defined **transient states**.\n",
        "<br>\n",
        "On the other hand, if we start from state $4$, it is always possible that, at a certain time, we move to state $4$. The same is valid for state $5$. These states are known as **recurrent states**.\n",
        "<br>\n",
        "Let’s doing several experiment so that we can properly understand this concept."
      ],
      "metadata": {
        "id": "OmNA-tkZH9DG"
      }
    },
    {
      "cell_type": "markdown",
      "source": [
        "Intuitively, we can see that the probability of not coming back to state $2$ starting from state $2$ tends to $0$ as the number of steps goes to infinity.\n",
        "<br>\n",
        "In fact, the probability that, starting from state $2$ we find ourselves in state $2$ after $N$ step is the following:"
      ],
      "metadata": {
        "id": "nsLc2WR_JDyo"
      }
    },
    {
      "cell_type": "markdown",
      "source": [
        "$p^{(N)}(2,2) = (0.5)^N$"
      ],
      "metadata": {
        "id": "vfOLHGc_JcLa"
      }
    },
    {
      "cell_type": "markdown",
      "source": [
        "In fact, if we move from state $2$ to state $3$ it is impossible that we go back to state $2$. \n",
        "<br>\n",
        "Let’s define this theoretical function as `t(N)`, and plot it:"
      ],
      "metadata": {
        "id": "cycNrNaYJREF"
      }
    },
    {
      "cell_type": "code",
      "source": [
        "def t(N):\n",
        "    step = np.arange(1,N+1,1)\n",
        "    y = []\n",
        "    for s in step:\n",
        "        v = 0.5**s\n",
        "        y.append(v)\n",
        "    return y"
      ],
      "metadata": {
        "id": "CGOuAWD_FRX6"
      },
      "execution_count": 7,
      "outputs": []
    },
    {
      "cell_type": "code",
      "source": [
        "plt.plot(t(10))\n",
        "plt.ylabel(r'$t(N-1)$',fontsize=20)\n",
        "plt.xlabel(r'$N-1$',fontsize=20)"
      ],
      "metadata": {
        "colab": {
          "base_uri": "https://localhost:8080/",
          "height": 309
        },
        "id": "fBCVY6SNFUJk",
        "outputId": "2d7a2cae-499f-4c56-e6a0-8d4925ef76c2"
      },
      "execution_count": 8,
      "outputs": [
        {
          "output_type": "execute_result",
          "data": {
            "text/plain": [
              "Text(0.5, 0, '$N-1$')"
            ]
          },
          "metadata": {},
          "execution_count": 8
        },
        {
          "output_type": "display_data",
          "data": {
            "text/plain": [
              "<Figure size 432x288 with 1 Axes>"
            ],
            "image/png": "[encoded data removed]"
          },
          "metadata": {
            "needs_background": "light"
          }
        }
      ]
    },
    {
      "cell_type": "markdown",
      "source": [
        "Now, let’s use the Markov Chain and see if we verify the same results.\n",
        "<br>\n",
        "We start from state $2$ and we verify after $N$ step the probability of being in state $2$. *The probability, in this case, is just the ratio between the number of $2$ in the final state and the number of occurrences*. To be consistent, the number of occurrences needs to tend to infinity. Let’s consider $1000$ tests.\n",
        "<br>\n",
        "This is the function we are going to use:"
      ],
      "metadata": {
        "id": "z94TcXZCJodb"
      }
    },
    {
      "cell_type": "code",
      "source": [
        "def prob(N):\n",
        "    states = np.arange(1,6,1)\n",
        "    steps = np.arange(1,N+1,1)\n",
        "    n=1000\n",
        "    state_collection = []\n",
        "    for k in range(n):\n",
        "        start = 2 \n",
        "        for i in range(N):\n",
        "            start = np.random.choice(states,p=trans_matrix[start-1])\n",
        "        if start==2:\n",
        "            state_collection.append(1)\n",
        "        else:\n",
        "            state_collection.append(0)\n",
        "    state_collection = np.array(state_collection)\n",
        "    return state_collection.sum()/n"
      ],
      "metadata": {
        "id": "RcFnLIjcFV0e"
      },
      "execution_count": 9,
      "outputs": []
    },
    {
      "cell_type": "markdown",
      "source": [
        "Let’s use this function for various $N$ and call this `p(N)`:"
      ],
      "metadata": {
        "id": "JlMwrKnkJ7eF"
      }
    },
    {
      "cell_type": "code",
      "source": [
        "def p(N):\n",
        "    step = np.arange(1,N+1,1)\n",
        "    y = []\n",
        "    for s in step:\n",
        "        v = prob(s)\n",
        "        y.append(v)\n",
        "    return y"
      ],
      "metadata": {
        "id": "WvnBJK0oFYva"
      },
      "execution_count": 10,
      "outputs": []
    },
    {
      "cell_type": "code",
      "source": [
        "p_20 = p(20)\n",
        "plt.plot(t(20),label=r'Theory, $t(N-1)$')\n",
        "plt.plot(p_20,'x',label=r'Simulation, $p(N-1)$',color='navy')\n",
        "plt.ylabel(r'Result',fontsize=10)\n",
        "plt.xlabel(r'$N-1$',fontsize=20)\n",
        "plt.legend()"
      ],
      "metadata": {
        "colab": {
          "base_uri": "https://localhost:8080/",
          "height": 309
        },
        "id": "ROh8KW5bFa2Z",
        "outputId": "b1a1119f-0cc9-4cd8-ac0e-da5f41b0ec7e"
      },
      "execution_count": 11,
      "outputs": [
        {
          "output_type": "execute_result",
          "data": {
            "text/plain": [
              "<matplotlib.legend.Legend at 0x7fd7fc340590>"
            ]
          },
          "metadata": {},
          "execution_count": 11
        },
        {
          "output_type": "display_data",
          "data": {
            "text/plain": [
              "<Figure size 432x288 with 1 Axes>"
            ],
            "image/png": "[encoded data removed]"
          },
          "metadata": {
            "needs_background": "light"
          }
        }
      ]
    },
    {
      "cell_type": "markdown",
      "source": [
        "As it is possible to see, we have used the transition matrix to do this simulation. **We can use the transition matrix to evaluate all the properties of the Markov Chain we are considering**."
      ],
      "metadata": {
        "id": "xTWFpgkqKCcD"
      }
    },
    {
      "cell_type": "markdown",
      "source": [
        "## **Case 4: Weather Forecasting**"
      ],
      "metadata": {
        "id": "SZ52vHSaQe_u"
      }
    },
    {
      "cell_type": "markdown",
      "source": [
        "![Weather Forecast](https://www.upgrad.com/blog/wp-content/uploads/2020/03/1_udOn3pR6SqrKU37KujfdPg.png)"
      ],
      "metadata": {
        "id": "TRGFMVCxQj17"
      }
    },
    {
      "cell_type": "markdown",
      "source": [
        "In the graphical representation shown above, say the _current observed state_ of the random variable is $sunny$. The probability of the random variable taking the value $sunny$ at the next time instance is $0.8$. It can also take the value $snowy$ with a probability of $0.01$, or $rainy$ with a probability of $0.19$. An important thing to note here is that the probability values existing in a state will always sum up to $1$."
      ],
      "metadata": {
        "id": "HHIjyLBDKVwp"
      }
    },
    {
      "cell_type": "code",
      "source": [
        "class MarkovChain(object):\n",
        "  def __init__(self, trans_matrix, states):\n",
        "    \"\"\" initialize the MarkovChain class\n",
        "        parameter: trans_matrix: 2-D array\n",
        "                                 an array representing the probabilities\n",
        "                                 of change of state in the system\n",
        "                   states: 1-D array\n",
        "                           an array representing the states of the system,\n",
        "                           it needs to be in the same order as trans_matrix \"\"\"\n",
        "    self.trans_matrix = np.atleast_2d(trans_matrix)\n",
        "    self.states = states\n",
        "    self.index_dict = {self.states[index] : index for index in range(len(self.states))}\n",
        "    self.state_dict = {index : self.states[index] for index in range(len(self.states))}\n",
        "  \n",
        "  def next_state(self, current_state):\n",
        "    \"\"\" returns the state of the random variable at the next time instance\n",
        "        parameter: current_state: str\n",
        "                                  the state of the system \"\"\"\n",
        "    return np.random.choice(\n",
        "        self.states,\n",
        "        p = self.trans_matrix[self.index_dict[current_state], :]\n",
        "    )\n",
        "\n",
        "  def generate_state(self, current_state, no_of_future=10):\n",
        "    \"\"\" generates the next states of the system\n",
        "        parameter: current_state: str\n",
        "                                  the state of the current random variable\n",
        "                   no_of_future: int\n",
        "                                 the number of future states to generate \"\"\"\n",
        "    future_states = []\n",
        "    for i in range(no_of_future):\n",
        "      next = self.next_state(current_state)\n",
        "      future_states.append(next)\n",
        "      current_state = next\n",
        "    \n",
        "    return future_states"
      ],
      "metadata": {
        "id": "EYU0qMpLFciP"
      },
      "execution_count": 31,
      "outputs": []
    },
    {
      "cell_type": "markdown",
      "source": [
        "Having defined the `MarkovChain` class, let us try coding the weather prediction"
      ],
      "metadata": {
        "id": "Sjo6iyDhKvi1"
      }
    },
    {
      "cell_type": "code",
      "source": [
        "markov_matrix = [\n",
        "    [0.8, 0.19, 0.01],\n",
        "    [0.2, 0.7, 0.1],\n",
        "    [0.1, 0.2, 0.7]\n",
        "]\n",
        "\n",
        "states_list = ['Sunny', 'Rainy', 'Snowy']"
      ],
      "metadata": {
        "id": "lizc93M5wAhE"
      },
      "execution_count": 32,
      "outputs": []
    },
    {
      "cell_type": "code",
      "source": [
        "wheater_forecast = MarkovChain(markov_matrix, states_list)"
      ],
      "metadata": {
        "id": "7w27Y4rXwvaM"
      },
      "execution_count": 33,
      "outputs": []
    },
    {
      "cell_type": "code",
      "source": [
        "wheater_forecast.next_state(current_state='Sunny')"
      ],
      "metadata": {
        "colab": {
          "base_uri": "https://localhost:8080/",
          "height": 36
        },
        "id": "G_ApS-rpw4ve",
        "outputId": "bd736c8a-8e20-4202-99a3-4473e568e269"
      },
      "execution_count": 34,
      "outputs": [
        {
          "output_type": "execute_result",
          "data": {
            "text/plain": [
              "'Rainy'"
            ],
            "application/vnd.google.colaboratory.intrinsic+json": {
              "type": "string"
            }
          },
          "metadata": {},
          "execution_count": 34
        }
      ]
    },
    {
      "cell_type": "code",
      "source": [
        "wheater_forecast.next_state(current_state='Rainy')"
      ],
      "metadata": {
        "colab": {
          "base_uri": "https://localhost:8080/",
          "height": 36
        },
        "id": "8jm0_ftexBAn",
        "outputId": "d51d3010-ee64-4aef-9456-7778564ab695"
      },
      "execution_count": 35,
      "outputs": [
        {
          "output_type": "execute_result",
          "data": {
            "text/plain": [
              "'Rainy'"
            ],
            "application/vnd.google.colaboratory.intrinsic+json": {
              "type": "string"
            }
          },
          "metadata": {},
          "execution_count": 35
        }
      ]
    },
    {
      "cell_type": "code",
      "source": [
        "wheater_forecast.next_state(current_state='Snowy')"
      ],
      "metadata": {
        "colab": {
          "base_uri": "https://localhost:8080/",
          "height": 36
        },
        "id": "QibHaalVxIgE",
        "outputId": "604de274-95a7-4fac-f6b2-e776b62f5f42"
      },
      "execution_count": 36,
      "outputs": [
        {
          "output_type": "execute_result",
          "data": {
            "text/plain": [
              "'Snowy'"
            ],
            "application/vnd.google.colaboratory.intrinsic+json": {
              "type": "string"
            }
          },
          "metadata": {},
          "execution_count": 36
        }
      ]
    },
    {
      "cell_type": "code",
      "source": [
        "wheater_forecast.generate_state(current_state='Snowy', no_of_future=10)"
      ],
      "metadata": {
        "colab": {
          "base_uri": "https://localhost:8080/"
        },
        "id": "KqtFAg9yxKbs",
        "outputId": "075997d0-57ea-4218-baa2-27e0aea2c20a"
      },
      "execution_count": 37,
      "outputs": [
        {
          "output_type": "execute_result",
          "data": {
            "text/plain": [
              "['Snowy',\n",
              " 'Snowy',\n",
              " 'Snowy',\n",
              " 'Snowy',\n",
              " 'Snowy',\n",
              " 'Snowy',\n",
              " 'Snowy',\n",
              " 'Rainy',\n",
              " 'Rainy',\n",
              " 'Sunny']"
            ]
          },
          "metadata": {},
          "execution_count": 37
        }
      ]
    },
    {
      "cell_type": "code",
      "source": [
        ""
      ],
      "metadata": {
        "id": "3hu3TARgxcEV"
      },
      "execution_count": null,
      "outputs": []
    }
  ]
}