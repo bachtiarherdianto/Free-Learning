{
  "nbformat": 4,
  "nbformat_minor": 0,
  "metadata": {
    "colab": {
      "name": "MyAgentBasedModeling.ipynb",
      "provenance": []
    },
    "kernelspec": {
      "name": "python3",
      "display_name": "Python 3"
    },
    "language_info": {
      "name": "python"
    }
  },
  "cells": [
    {
      "cell_type": "markdown",
      "source": [
        "# Basic Agent Based Modelling"
      ],
      "metadata": {
        "id": "HM6AK3h-1umG"
      }
    },
    {
      "cell_type": "markdown",
      "source": [
        "source: https://youtube.com/playlist?list=PLD4TWcPfbZO9HmaSutF_R2Y2RmiNDxvaP"
      ],
      "metadata": {
        "id": "2n4cuE9M1gZR"
      }
    },
    {
      "cell_type": "markdown",
      "source": [
        "## Lecture 1: Introduction to simulation"
      ],
      "metadata": {
        "id": "bqN-pBCg10J9"
      }
    },
    {
      "cell_type": "code",
      "source": [
        "import numpy as np;\n",
        "import matplotlib.pyplot as plt;\n",
        "plt.style.use(\"ggplot\");"
      ],
      "metadata": {
        "id": "HyJJsonM1k9Q"
      },
      "execution_count": null,
      "outputs": []
    },
    {
      "cell_type": "markdown",
      "source": [
        "### 1. Data manipulation"
      ],
      "metadata": {
        "id": "vsvK1N-R2P1R"
      }
    },
    {
      "cell_type": "markdown",
      "source": [
        "1. Changing primitive data types does not effect other agents\n",
        "2. Changing data within **a shared reference object** effect all"
      ],
      "metadata": {
        "id": "V9fjtzuE2S-d"
      }
    },
    {
      "cell_type": "code",
      "source": [
        "class Data():\n",
        "  def __init__(self, v) -> None:\n",
        "    self.v = v;\n",
        "\n",
        "class Agent():\n",
        "  def __init__(self, v, data) -> None:\n",
        "    self.v = v;\n",
        "    self.data = data;"
      ],
      "metadata": {
        "id": "rVVOEWsc160N"
      },
      "execution_count": null,
      "outputs": []
    },
    {
      "cell_type": "code",
      "source": [
        "v, data = 1, Data(1);\n",
        "\n",
        "A = Agent(v, data);\n",
        "B = Agent(v, data);\n",
        "\n",
        "print(\"A.v: \", A.v, \"A.data.v: \", A.data.v);\n",
        "print(\"B.v: \", B.v, \"B.data.v: \", B.data.v);"
      ],
      "metadata": {
        "colab": {
          "base_uri": "https://localhost:8080/"
        },
        "id": "_T_6i0Xa2znD",
        "outputId": "dd562669-7c5c-4d3d-de83-285464da58a0"
      },
      "execution_count": null,
      "outputs": [
        {
          "output_type": "stream",
          "name": "stdout",
          "text": [
            "A.v:  1 A.data.v:  1\n",
            "B.v:  1 B.data.v:  1\n"
          ]
        }
      ]
    },
    {
      "cell_type": "code",
      "source": [
        "# only A is modified\n",
        "A.v = 2;\n",
        "A.data.v = 3;\n",
        "\n",
        "# changing data within a shared reference object A.data.v effect all A and B\n",
        "print(\"A.v: \", A.v, \"A.data.v: \", A.data.v);\n",
        "print(\"B.v: \", B.v, \"B.data.v: \", B.data.v);"
      ],
      "metadata": {
        "colab": {
          "base_uri": "https://localhost:8080/"
        },
        "id": "ovZwVF6E7Tnq",
        "outputId": "46270d5b-b061-48ee-c271-120123fde694"
      },
      "execution_count": null,
      "outputs": [
        {
          "output_type": "stream",
          "name": "stdout",
          "text": [
            "A.v:  2 A.data.v:  3\n",
            "B.v:  1 B.data.v:  3\n"
          ]
        }
      ]
    },
    {
      "cell_type": "markdown",
      "source": [
        "### 2. Agent Class Contagion"
      ],
      "metadata": {
        "id": "H89MfNrc8n30"
      }
    },
    {
      "cell_type": "markdown",
      "source": [
        "#### Social Simulation of Infection"
      ],
      "metadata": {
        "id": "XdvMk3LzBPRW"
      }
    },
    {
      "cell_type": "markdown",
      "source": [
        "##### Agent:\n",
        "- Data: `(int) ID`, `(boolean) infected`\n",
        "- Method: `hand_shake`"
      ],
      "metadata": {
        "id": "hp_ehTBSBZFk"
      }
    },
    {
      "cell_type": "code",
      "source": [
        "from traitlets.traitlets import Bool\n",
        "class Agent():\n",
        "  def __init__(self, ID, infected = False) -> None:\n",
        "    self.ID = ID;\n",
        "    self.infected = infected;\n",
        "  \n",
        "  def hand_shake(self, other_agent) -> bool:\n",
        "    if (other_agent.infected == True):\n",
        "      self.infected = True;"
      ],
      "metadata": {
        "id": "bKqfmJTJCnd1"
      },
      "execution_count": null,
      "outputs": []
    },
    {
      "cell_type": "markdown",
      "source": [
        "###### Scenario 2 agents"
      ],
      "metadata": {
        "id": "ZyLQwN-HEmml"
      }
    },
    {
      "cell_type": "code",
      "source": [
        "U = Agent(ID = 9);\n",
        "H = Agent(ID = 7, infected = True);"
      ],
      "metadata": {
        "id": "uC0xKjgcDR70"
      },
      "execution_count": null,
      "outputs": []
    },
    {
      "cell_type": "code",
      "source": [
        "U.infected  # is agent U infected?"
      ],
      "metadata": {
        "colab": {
          "base_uri": "https://localhost:8080/"
        },
        "id": "EB4LXzOIDdmc",
        "outputId": "2230d704-83d7-415a-8a80-2b28f0b59372"
      },
      "execution_count": null,
      "outputs": [
        {
          "output_type": "execute_result",
          "data": {
            "text/plain": [
              "False"
            ]
          },
          "metadata": {},
          "execution_count": 100
        }
      ]
    },
    {
      "cell_type": "code",
      "source": [
        "H.infected  # is agent H infected?"
      ],
      "metadata": {
        "colab": {
          "base_uri": "https://localhost:8080/"
        },
        "id": "AgFkMYYGDhme",
        "outputId": "39bdc300-e750-44a1-e59d-ecb111b1b410"
      },
      "execution_count": null,
      "outputs": [
        {
          "output_type": "execute_result",
          "data": {
            "text/plain": [
              "True"
            ]
          },
          "metadata": {},
          "execution_count": 101
        }
      ]
    },
    {
      "cell_type": "code",
      "source": [
        "U.hand_shake(H);    # H infect U by hand_shake() method\n",
        "U.infected          # is agent U infected after the hand_shake()?"
      ],
      "metadata": {
        "colab": {
          "base_uri": "https://localhost:8080/"
        },
        "id": "1qVSUSEvDm9m",
        "outputId": "bb39760a-fdec-4f94-8427-aa29c5ccb76c"
      },
      "execution_count": null,
      "outputs": [
        {
          "output_type": "execute_result",
          "data": {
            "text/plain": [
              "True"
            ]
          },
          "metadata": {},
          "execution_count": 102
        }
      ]
    },
    {
      "cell_type": "markdown",
      "source": [
        "###### Scenario 3 agents"
      ],
      "metadata": {
        "id": "-ii-q65fEtjg"
      }
    },
    {
      "cell_type": "code",
      "source": [
        "U = Agent(ID = 9);\n",
        "I = Agent(ID = 8);\n",
        "H = Agent(ID = 7, infected = True);"
      ],
      "metadata": {
        "id": "o_J9yr1_EvR1"
      },
      "execution_count": null,
      "outputs": []
    },
    {
      "cell_type": "code",
      "source": [
        "I.infected  # is agent I infected?"
      ],
      "metadata": {
        "colab": {
          "base_uri": "https://localhost:8080/"
        },
        "id": "olb6PA1ibwgQ",
        "outputId": "267e7960-3f01-46fd-8521-078e52d696f1"
      },
      "execution_count": null,
      "outputs": [
        {
          "output_type": "execute_result",
          "data": {
            "text/plain": [
              "False"
            ]
          },
          "metadata": {},
          "execution_count": 104
        }
      ]
    },
    {
      "cell_type": "code",
      "source": [
        "U.hand_shake(I);    # U hand_shake() with I\n",
        "I.infected          # is agent I infected after the hand_shake()?"
      ],
      "metadata": {
        "colab": {
          "base_uri": "https://localhost:8080/"
        },
        "id": "ckrMI1SYb2uv",
        "outputId": "2e6152e3-d620-4a45-f86f-ce6167a0ae9c"
      },
      "execution_count": null,
      "outputs": [
        {
          "output_type": "execute_result",
          "data": {
            "text/plain": [
              "False"
            ]
          },
          "metadata": {},
          "execution_count": 105
        }
      ]
    },
    {
      "cell_type": "code",
      "source": [
        "H.infected  # is agent H infected?"
      ],
      "metadata": {
        "colab": {
          "base_uri": "https://localhost:8080/"
        },
        "id": "mzmx9mXHb2io",
        "outputId": "dd111ec3-1295-4b70-da42-bf948dcf9072"
      },
      "execution_count": null,
      "outputs": [
        {
          "output_type": "execute_result",
          "data": {
            "text/plain": [
              "True"
            ]
          },
          "metadata": {},
          "execution_count": 106
        }
      ]
    },
    {
      "cell_type": "code",
      "source": [
        "I.hand_shake(H);    # I hand_shake() with H\n",
        "I.infected          # is agent I infected after the hand_shake()?"
      ],
      "metadata": {
        "colab": {
          "base_uri": "https://localhost:8080/"
        },
        "id": "UFGDiarxb2Tg",
        "outputId": "af1c3d00-a28d-48b9-da16-7be1d151d4f7"
      },
      "execution_count": null,
      "outputs": [
        {
          "output_type": "execute_result",
          "data": {
            "text/plain": [
              "True"
            ]
          },
          "metadata": {},
          "execution_count": 107
        }
      ]
    },
    {
      "cell_type": "markdown",
      "source": [
        "### 3. World Class Contagion"
      ],
      "metadata": {
        "id": "rNmYK7Xe8suF"
      }
    },
    {
      "cell_type": "markdown",
      "source": [
        "##### World:\n",
        "- Data: `(list) population_of_agents`\n",
        "- Method: `run`"
      ],
      "metadata": {
        "id": "UX5ringOBgaz"
      }
    },
    {
      "cell_type": "code",
      "source": [
        "# default value\n",
        "no_of_population = 40;\n",
        "no_of_max_iteration = 100;\n",
        "\n",
        "class World():\n",
        "  def __init__(self, N = no_of_population) -> None:\n",
        "    self.N = N;\n",
        "    self.population = [Agent(ID = i) for i in range(self.N)];\n",
        "\n",
        "    poor_guy = self.population[0];\n",
        "    poor_guy.infected = True;\n",
        "\n",
        "    # store no. of infected agent\n",
        "    self.contagion = [self.get_number_of_infected()]; \n",
        "  \n",
        "  def get_number_of_infected(self) -> int:\n",
        "    return np.sum([i.infected for i in self.population]);\n",
        "  \n",
        "  def run(self, time = no_of_max_iteration) -> None:\n",
        "    for i in range(time):\n",
        "      # randomly select a pair agent to interact\n",
        "      A, B = np.random.choice(self.population, 2, replace=False);\n",
        "      A.hand_shake(B);\n",
        "      B.hand_shake(A);\n",
        "\n",
        "      self.contagion.append(self.get_number_of_infected());"
      ],
      "metadata": {
        "id": "PmxZ3Fv38vou"
      },
      "execution_count": null,
      "outputs": []
    },
    {
      "cell_type": "code",
      "source": [
        "simulation = World(N = 500);\n",
        "simulation.run(time = 100);\n",
        "\n",
        "# plot it\n",
        "plt.plot(simulation.contagion);\n",
        "plt.xlabel(\"Time\"); plt.ylabel(\"No. of Infected\");\n",
        "plt.show();"
      ],
      "metadata": {
        "colab": {
          "base_uri": "https://localhost:8080/",
          "height": 282
        },
        "id": "qmwhuAI1d_Qo",
        "outputId": "6ef6196e-21ff-4718-ff98-a57cc845e95b"
      },
      "execution_count": null,
      "outputs": [
        {
          "output_type": "display_data",
          "data": {
            "image/png": "[encoded data removed]",
            "text/plain": [
              "<Figure size 432x288 with 1 Axes>"
            ]
          },
          "metadata": {
            "needs_background": "light"
          }
        }
      ]
    },
    {
      "cell_type": "markdown",
      "source": [
        "### 4. Infection Simulation"
      ],
      "metadata": {
        "id": "-U4NYVaE8x2g"
      }
    },
    {
      "cell_type": "code",
      "source": [
        "# default value\n",
        "no_of_population = 40;\n",
        "no_of_max_iteration = 100;\n",
        "\n",
        "class World():\n",
        "  def __init__(self, N = no_of_population) -> None:\n",
        "    self.N = N;\n",
        "    self.population = [Agent(ID = i) for i in range(self.N)];\n",
        "\n",
        "    poor_guy = self.population[0];\n",
        "    poor_guy.infected = True;\n",
        "\n",
        "    # store no. of infected agent\n",
        "    self.contagion = [self.get_number_of_infected()]; \n",
        "  \n",
        "  def get_number_of_infected(self) -> int:\n",
        "    return np.sum([i.infected for i in self.population]);\n",
        "  \n",
        "  def run(self, time = no_of_max_iteration) -> None:\n",
        "    for i in range(time):\n",
        "      # randomly select a pair agent to interact\n",
        "      A, B = np.random.choice(self.population, 2, replace=False);\n",
        "      A.hand_shake(B);\n",
        "      B.hand_shake(A);\n",
        "\n",
        "      self.contagion.append(self.get_number_of_infected());"
      ],
      "metadata": {
        "id": "tOfmbM-X8zU6"
      },
      "execution_count": null,
      "outputs": []
    },
    {
      "cell_type": "code",
      "source": [
        "# what is the probability to taking infected agent?\n",
        "# prob(infected) = 1 - prob(non-infected) = 1 - (prob_infected_interaction * prob_non_infected_interaction)\n",
        "no_of_population = 500;\n",
        "no_of_initial_infected = 1;\n",
        "prob_infected = 1 - (((no_of_population - no_of_initial_infected)/no_of_population)*((no_of_population - 2 * no_of_initial_infected)/(no_of_population - no_of_initial_infected)));\n",
        "prob_infected"
      ],
      "metadata": {
        "colab": {
          "base_uri": "https://localhost:8080/"
        },
        "id": "9UtH_7sbkbTc",
        "outputId": "0f43522a-74bb-4e11-b878-e0dd162ab8cd"
      },
      "execution_count": null,
      "outputs": [
        {
          "output_type": "execute_result",
          "data": {
            "text/plain": [
              "0.0040000000000000036"
            ]
          },
          "metadata": {},
          "execution_count": 111
        }
      ]
    },
    {
      "cell_type": "code",
      "source": [
        "simulation = World(N = 500);\n",
        "simulation.run(time = 1000);\n",
        "\n",
        "# plot it\n",
        "plt.plot(simulation.contagion);\n",
        "plt.xlabel(\"Time\"); plt.ylabel(\"No. of Infected\");\n",
        "plt.show();"
      ],
      "metadata": {
        "colab": {
          "base_uri": "https://localhost:8080/",
          "height": 282
        },
        "id": "Cw2yDXdrl5jN",
        "outputId": "fd602f93-73ac-4fb7-ddcf-dd74689e9a68"
      },
      "execution_count": null,
      "outputs": [
        {
          "output_type": "display_data",
          "data": {
            "image/png": "[encoded data removed]",
            "text/plain": [
              "<Figure size 432x288 with 1 Axes>"
            ]
          },
          "metadata": {
            "needs_background": "light"
          }
        }
      ]
    },
    {
      "cell_type": "code",
      "source": [
        "# saturated condition\n",
        "simulation = World(N = 500);\n",
        "simulation.run(time = 5000);\n",
        "\n",
        "# plot it\n",
        "plt.plot(simulation.contagion);\n",
        "plt.xlabel(\"Time\"); plt.ylabel(\"No. of Infected\");\n",
        "plt.show();"
      ],
      "metadata": {
        "colab": {
          "base_uri": "https://localhost:8080/",
          "height": 282
        },
        "id": "rhcFAvZSmbsg",
        "outputId": "89e2cfe1-2e4b-4425-a928-f5c667600573"
      },
      "execution_count": null,
      "outputs": [
        {
          "output_type": "display_data",
          "data": {
            "image/png": "[encoded data removed]",
            "text/plain": [
              "<Figure size 432x288 with 1 Axes>"
            ]
          },
          "metadata": {
            "needs_background": "light"
          }
        }
      ]
    },
    {
      "cell_type": "markdown",
      "source": [
        "## Lecture 2: Culture model"
      ],
      "metadata": {
        "id": "mQEf9PHj8mJ1"
      }
    },
    {
      "cell_type": "code",
      "source": [
        "import numpy as np;\n",
        "import random;\n",
        "from PIL import Image;\n",
        "\n",
        "import matplotlib.pyplot as plt;\n",
        "plt.style.use(\"ggplot\");\n",
        "%matplotlib inline"
      ],
      "metadata": {
        "id": "m5qqMRkpApbb"
      },
      "execution_count": null,
      "outputs": []
    },
    {
      "cell_type": "markdown",
      "source": [
        "### 1. Into to Code"
      ],
      "metadata": {
        "id": "u95SwrCHAreO"
      }
    },
    {
      "cell_type": "code",
      "source": [
        "\"\"\" Similarity:\n",
        "    - Geographic similarity: nearby neighbors becomes similar\n",
        "    - Ideological similarity: people of similar interests becomes more similar \"\"\"\n",
        "\n",
        "\"\"\" RGB Coloring (represent 3 values of culture) ∊ {0, 255}\n",
        "    [0,     0,    0]  >> Black\n",
        "    [0,     0,  255]  >> Blue\n",
        "    [255, 255,  255]  >> White \"\"\"\n",
        "\n",
        "dimension = 50;\n",
        "value = 3;\n",
        "\n",
        "env = np.zeros([dimension, dimension, value], dtype = np.uint8);   # [0, 0, 0] >> Black\n",
        "plt.imshow(env);"
      ],
      "metadata": {
        "id": "TWyzQYXGAsPJ",
        "colab": {
          "base_uri": "https://localhost:8080/",
          "height": 267
        },
        "outputId": "aa5d793d-9179-4e58-b6c5-0e519565edba"
      },
      "execution_count": null,
      "outputs": [
        {
          "output_type": "display_data",
          "data": {
            "image/png": "[encoded data removed]",
            "text/plain": [
              "<Figure size 432x288 with 1 Axes>"
            ]
          },
          "metadata": {
            "needs_background": "light"
          }
        }
      ]
    },
    {
      "cell_type": "code",
      "source": [
        "# changes the color partially\n",
        "env[:,30:] = [0, 0, 255];  # as Blue\n",
        "plt.imshow(env);"
      ],
      "metadata": {
        "colab": {
          "base_uri": "https://localhost:8080/",
          "height": 267
        },
        "id": "MBS7NXIbF2Aw",
        "outputId": "da102376-8e66-489c-db38-c6da2969dab8"
      },
      "execution_count": null,
      "outputs": [
        {
          "output_type": "display_data",
          "data": {
            "image/png": "[encoded data removed]",
            "text/plain": [
              "<Figure size 432x288 with 1 Axes>"
            ]
          },
          "metadata": {
            "needs_background": "light"
          }
        }
      ]
    },
    {
      "cell_type": "code",
      "source": [
        "# changes the color in specific coordinate\n",
        "\n",
        "def get_coordinate(x1, x2, delta = 10) -> list:\n",
        "  return x1*delta, (x1 + 1)*delta, x2*delta, (x2 + 1)*delta;\n",
        "\n",
        "val1, val2, val3, val4 = get_coordinate(x1 = 2, x2 = 1);\n",
        "env[val1:val2, val3:val4] = [255, 0, 0];   # Red\n",
        "plt.imshow(env);"
      ],
      "metadata": {
        "colab": {
          "base_uri": "https://localhost:8080/",
          "height": 267
        },
        "id": "rU25p8kLGNAt",
        "outputId": "21ad29f3-a851-47ba-da52-479c63ffbffb"
      },
      "execution_count": null,
      "outputs": [
        {
          "output_type": "display_data",
          "data": {
            "image/png": "[encoded data removed]",
            "text/plain": [
              "<Figure size 432x288 with 1 Axes>"
            ]
          },
          "metadata": {
            "needs_background": "light"
          }
        }
      ]
    },
    {
      "cell_type": "code",
      "source": [
        "# changes the color in specific coordinate\n",
        "val1, val2, val3, val4 = get_coordinate(x1 = 4, x2 = 0);\n",
        "env[val1:val2, val3:val4] = [0, 255, 0];   # Green\n",
        "plt.imshow(env);"
      ],
      "metadata": {
        "colab": {
          "base_uri": "https://localhost:8080/",
          "height": 267
        },
        "id": "PloLWv5gIIll",
        "outputId": "5df028db-9eb2-4fac-d13f-cc66fb820241"
      },
      "execution_count": null,
      "outputs": [
        {
          "output_type": "display_data",
          "data": {
            "image/png": "[encoded data removed]",
            "text/plain": [
              "<Figure size 432x288 with 1 Axes>"
            ]
          },
          "metadata": {
            "needs_background": "light"
          }
        }
      ]
    },
    {
      "cell_type": "code",
      "source": [
        "# changes the color in specific coordinate\n",
        "val1, val2, val3, val4 = get_coordinate(x1 = 4, x2 = 1);\n",
        "env[val1:val2, val3:val4] = [255, 255, 255];   # Green\n",
        "plt.imshow(env);"
      ],
      "metadata": {
        "colab": {
          "base_uri": "https://localhost:8080/",
          "height": 267
        },
        "id": "6qVc4ajUIWmb",
        "outputId": "9bc4657f-a5eb-4e42-d062-8fc0db8c11a9"
      },
      "execution_count": null,
      "outputs": [
        {
          "output_type": "display_data",
          "data": {
            "image/png": "[encoded data removed]",
            "text/plain": [
              "<Figure size 432x288 with 1 Axes>"
            ]
          },
          "metadata": {
            "needs_background": "light"
          }
        }
      ]
    },
    {
      "cell_type": "markdown",
      "source": [
        "### 2. Code Environment"
      ],
      "metadata": {
        "id": "UQF21S24AuDO"
      }
    },
    {
      "cell_type": "markdown",
      "source": [
        "####2.1. Method for coloring"
      ],
      "metadata": {
        "id": "HkHEsPnwzkHw"
      }
    },
    {
      "cell_type": "code",
      "source": [
        "dimension = 50;\n",
        "value = 3;\n",
        "\n",
        "env = np.zeros([dimension, dimension, value], dtype = np.uint8);   # [0, 0, 0] >> Black\n",
        "plt.imshow(env);"
      ],
      "metadata": {
        "id": "xv6R_FonAu0L",
        "colab": {
          "base_uri": "https://localhost:8080/",
          "height": 267
        },
        "outputId": "db325fa2-0835-4d80-9c0c-5c1a0bdcc956"
      },
      "execution_count": null,
      "outputs": [
        {
          "output_type": "display_data",
          "data": {
            "image/png": "[encoded data removed]",
            "text/plain": [
              "<Figure size 432x288 with 1 Axes>"
            ]
          },
          "metadata": {
            "needs_background": "light"
          }
        }
      ]
    },
    {
      "cell_type": "code",
      "source": [
        "def get_coordinate(x1, x2, delta = 10) -> list:\n",
        "  return x1*delta, (x1 + 1)*delta, x2*delta, (x2 + 1)*delta;\n",
        "  \n",
        "def set_color(env = env, x1 = 0, x2 = 0, delta = 10, colors = [0, 0, 0]) -> None:\n",
        "  val1, val2, val3, val4 = get_coordinate(x1 = x1, x2 = x2);\n",
        "  env[val1:val2, val3:val4] = colors;"
      ],
      "metadata": {
        "id": "PGvcQTyyJIGX"
      },
      "execution_count": null,
      "outputs": []
    },
    {
      "cell_type": "code",
      "source": [
        "green = [0, 255, 0];\n",
        "set_color(x1 = 0, x2 = 0, colors = green);\n",
        "\n",
        "blue = [0, 0, 255];\n",
        "set_color(x1 = 1, x2 = 0, colors = blue);\n",
        "\n",
        "plt.imshow(env);"
      ],
      "metadata": {
        "colab": {
          "base_uri": "https://localhost:8080/",
          "height": 267
        },
        "id": "ko4IgQdOJuJC",
        "outputId": "9bb14a26-41e8-4290-de05-293d336f2c49"
      },
      "execution_count": null,
      "outputs": [
        {
          "output_type": "display_data",
          "data": {
            "image/png": "[encoded data removed]",
            "text/plain": [
              "<Figure size 432x288 with 1 Axes>"
            ]
          },
          "metadata": {
            "needs_background": "light"
          }
        }
      ]
    },
    {
      "cell_type": "markdown",
      "source": [
        "####2.2. Method to find neighbors coordinate"
      ],
      "metadata": {
        "id": "F-2nTgWFzvd0"
      }
    },
    {
      "cell_type": "code",
      "source": [
        "# find the neighbors \n",
        "def get_neighbors(val1, val2):\n",
        "  return [\n",
        "          (val1 - 1, val2 - 1),\n",
        "          (val1 - 1, val2),\n",
        "          (val1 - 1, val2 + 1),\n",
        "          (val1, val2 - 1),\n",
        "          (val1, val2 + 1),\n",
        "          (val1 + 1, val2 - 1),\n",
        "          (val1 + 1, val2),\n",
        "          (val1 + 1, val2 + 1)\n",
        "          ];"
      ],
      "metadata": {
        "id": "IWtHPNTotgZy"
      },
      "execution_count": null,
      "outputs": []
    },
    {
      "cell_type": "code",
      "source": [
        "coord_list = get_neighbors(val1 = 2, val2 = 1);\n",
        "print(coord_list);"
      ],
      "metadata": {
        "colab": {
          "base_uri": "https://localhost:8080/"
        },
        "id": "B87P42YiuS__",
        "outputId": "0b440252-52de-4be0-9de6-4695b489674b"
      },
      "execution_count": null,
      "outputs": [
        {
          "output_type": "stream",
          "name": "stdout",
          "text": [
            "[(1, 0), (1, 1), (1, 2), (2, 0), (2, 2), (3, 0), (3, 1), (3, 2)]\n"
          ]
        }
      ]
    },
    {
      "cell_type": "code",
      "source": [
        "# problem at corners\n",
        "coord_list = get_neighbors(val1 = 0, val2 = 0);\n",
        "print(coord_list);"
      ],
      "metadata": {
        "colab": {
          "base_uri": "https://localhost:8080/"
        },
        "id": "BF4141SCy_XJ",
        "outputId": "7ee68c92-58d0-4763-c912-9f8354a8e616"
      },
      "execution_count": null,
      "outputs": [
        {
          "output_type": "stream",
          "name": "stdout",
          "text": [
            "[(-1, -1), (-1, 0), (-1, 1), (0, -1), (0, 1), (1, -1), (1, 0), (1, 1)]\n"
          ]
        }
      ]
    },
    {
      "cell_type": "code",
      "source": [
        "# purpass the limit\n",
        "coord_list = get_neighbors(val1 = 4, val2 = 4);\n",
        "print(coord_list);"
      ],
      "metadata": {
        "colab": {
          "base_uri": "https://localhost:8080/"
        },
        "id": "1s1J7X7szUVW",
        "outputId": "30f462ce-9d6e-4a12-8951-d0b592b6fcde"
      },
      "execution_count": null,
      "outputs": [
        {
          "output_type": "stream",
          "name": "stdout",
          "text": [
            "[(3, 3), (3, 4), (3, 5), (4, 3), (4, 5), (5, 3), (5, 4), (5, 5)]\n"
          ]
        }
      ]
    },
    {
      "cell_type": "code",
      "source": [
        "# find the neighbors (improvement)\n",
        "def get_neighbors(val1, val2, v1_max = 5, v2_max = 5):\n",
        "  ans = [(val1 - 1, val2 - 1),\n",
        "         (val1 - 1, val2),\n",
        "         (val1 - 1, val2 + 1),\n",
        "         (val1, val2 - 1),\n",
        "         (val1, val2 + 1),\n",
        "         (val1 + 1, val2 - 1),\n",
        "         (val1 + 1, val2),\n",
        "         (val1 + 1, val2 + 1)];\n",
        "  # filtering the coordinates\n",
        "  ans = [(i, j) for i, j in ans if i >= 0 and j >= 0];    # eliminate negative coords\n",
        "  ans = [(i, j) for i, j in ans if i < v1_max and j < v2_max];    # eliminate outer coords\n",
        "  return ans;"
      ],
      "metadata": {
        "id": "CXSC817C0GU2"
      },
      "execution_count": null,
      "outputs": []
    },
    {
      "cell_type": "code",
      "source": [
        "# problem at corners\n",
        "coord_list = get_neighbors(val1 = 0, val2 = 0);\n",
        "print(coord_list);"
      ],
      "metadata": {
        "colab": {
          "base_uri": "https://localhost:8080/"
        },
        "id": "3ZkcIhYj0vGh",
        "outputId": "0b4ffe20-61b4-4465-d19e-d00e63366f54"
      },
      "execution_count": null,
      "outputs": [
        {
          "output_type": "stream",
          "name": "stdout",
          "text": [
            "[(0, 1), (1, 0), (1, 1)]\n"
          ]
        }
      ]
    },
    {
      "cell_type": "code",
      "source": [
        "# purpass the limit\n",
        "coord_list = get_neighbors(val1 = 4, val2 = 4);\n",
        "print(coord_list);"
      ],
      "metadata": {
        "colab": {
          "base_uri": "https://localhost:8080/"
        },
        "id": "aR06_zi50y1Z",
        "outputId": "fd76d441-7565-41e0-a79f-2307b4a57582"
      },
      "execution_count": null,
      "outputs": [
        {
          "output_type": "stream",
          "name": "stdout",
          "text": [
            "[(3, 3), (3, 4), (4, 3)]\n"
          ]
        }
      ]
    },
    {
      "cell_type": "markdown",
      "source": [
        "### 3. Simulation of Culture"
      ],
      "metadata": {
        "id": "tWEKyUAfAyjW"
      }
    },
    {
      "cell_type": "markdown",
      "source": [
        "#### 3.1. Agent class"
      ],
      "metadata": {
        "id": "1frWqkM8_X_1"
      }
    },
    {
      "cell_type": "code",
      "source": [
        "\"\"\" Axelrod Culture Model\n",
        "    1. At random, pick an agent, and pick one of it's neighbors\n",
        "    2. With probability equal to their cultural similarity, these agents interact \"\"\"\n",
        "\n",
        "values = 3;\n",
        "default_similarity_threshold = 30;  # the higher, the more tolerance, the more easy to interract\n",
        "\n",
        "class Agent():\n",
        "  def __init__(self, val1, val2, v1_max = 5, v2_max = 5) -> None:\n",
        "    self.val1, self.val2 = val1, val2;\n",
        "    self.v1_max, self.v2_max = v1_max, v2_max;\n",
        "    # RGB Coloring (represent 3 values of culture) ∊ {0, 255}\n",
        "    self.colors = np.random.choice(255, values);\n",
        "  \n",
        "  def similar(self, other_agent, th = default_similarity_threshold) -> bool:\n",
        "    def distance(v = self.colors, w = other_agent.colors) -> float:\n",
        "      return np.mean(np.abs(v - w));\n",
        "    \n",
        "    return distance() < th;\n",
        "  \n",
        "  # agent immitate the other agent: by replacing one of its features with the corresponding feature of the neighbor\n",
        "  def immitate(self, other_agent) -> None:\n",
        "    i = np.random.choice(values);\n",
        "    self.colors[i] = other_agent.colors[i];\n",
        "  \n",
        "  def select_one_neighbor(self) -> list:\n",
        "    neighbors = get_neighbors(self.val1, self.val2, self.v1_max, self.v2_max);\n",
        "    return random.choice(neighbors);"
      ],
      "metadata": {
        "id": "pdpqKH6OAzQh"
      },
      "execution_count": null,
      "outputs": []
    },
    {
      "cell_type": "markdown",
      "source": [
        "#### 3.2. Introduction to agent code"
      ],
      "metadata": {
        "id": "vtUSS0Am-nvI"
      }
    },
    {
      "cell_type": "code",
      "source": [
        "ahmed = Agent(0, 0);\n",
        "print(ahmed.colors);    # randomly colors"
      ],
      "metadata": {
        "colab": {
          "base_uri": "https://localhost:8080/"
        },
        "id": "fSkmbrpk-mmA",
        "outputId": "4173b4ca-2065-40e1-b455-91466c79dc68"
      },
      "execution_count": null,
      "outputs": [
        {
          "output_type": "stream",
          "name": "stdout",
          "text": [
            "[166 108  23]\n"
          ]
        }
      ]
    },
    {
      "cell_type": "code",
      "source": [
        "# all ahmed's neighbors\n",
        "print(get_neighbors(0, 0));"
      ],
      "metadata": {
        "colab": {
          "base_uri": "https://localhost:8080/"
        },
        "id": "8Aqw0wyf-2yS",
        "outputId": "6c647f7a-6ffb-42d5-a9e3-21f37901aeda"
      },
      "execution_count": null,
      "outputs": [
        {
          "output_type": "stream",
          "name": "stdout",
          "text": [
            "[(0, 1), (1, 0), (1, 1)]\n"
          ]
        }
      ]
    },
    {
      "cell_type": "code",
      "source": [
        "one_neighbor = ahmed.select_one_neighbor();   # select one neighbor randomly\n",
        "print(one_neighbor);"
      ],
      "metadata": {
        "colab": {
          "base_uri": "https://localhost:8080/"
        },
        "id": "8B8Sj6u4_C6F",
        "outputId": "f94b2ab0-388c-4d28-8aea-3056b009299d"
      },
      "execution_count": null,
      "outputs": [
        {
          "output_type": "stream",
          "name": "stdout",
          "text": [
            "(0, 1)\n"
          ]
        }
      ]
    },
    {
      "cell_type": "code",
      "source": [
        "# ahmed's color grid\n",
        "v_max = 50;\n",
        "values = 3;\n",
        "env = np.zeros([v_max, v_max, values], dtype = np.uint8)\n",
        "set_color(env, 0, 0, colors = ahmed.colors);\n",
        "plt.imshow(env);"
      ],
      "metadata": {
        "colab": {
          "base_uri": "https://localhost:8080/",
          "height": 267
        },
        "id": "4p2SazRg_Lz1",
        "outputId": "6b082adb-2dc0-4587-b59a-9cb27c558430"
      },
      "execution_count": null,
      "outputs": [
        {
          "output_type": "display_data",
          "data": {
            "image/png": "[encoded data removed]",
            "text/plain": [
              "<Figure size 432x288 with 1 Axes>"
            ]
          },
          "metadata": {
            "needs_background": "light"
          }
        }
      ]
    },
    {
      "cell_type": "markdown",
      "source": [
        "#### 3.3. Cultural class"
      ],
      "metadata": {
        "id": "ovAGn3CLA3nR"
      }
    },
    {
      "cell_type": "code",
      "source": [
        "similarity_threshold = 50;\n",
        "no_of_max_iteration = 1000;\n",
        "\n",
        "class Culture():\n",
        "  def __init__(self, v1_max, v2_max) -> None:\n",
        "    self.v1_max = v1_max;\n",
        "    self.v2_max = v2_max;\n",
        "    self.population = {(val1, val2): Agent(val1, val2, v1_max, v2_max)\n",
        "                        for val1 in range(self.v1_max) for val2 in range(self.v2_max)};\n",
        "  \n",
        "  def select_one_agent(self) -> int:\n",
        "    return random.choice(list(self.population.keys()));\n",
        "  \n",
        "  def run(self, time = no_of_max_iteration, th = similarity_threshold) -> None:\n",
        "    for i in range(time):\n",
        "      A_index = self.select_one_agent();\n",
        "      A = self.population[A_index];\n",
        "\n",
        "      B_index = self.select_one_agent();\n",
        "      B = self.population[B_index];\n",
        "\n",
        "      if A.similar(B, th):\n",
        "        A.immitate(B);"
      ],
      "metadata": {
        "id": "FM6vSF0kAPs7"
      },
      "execution_count": null,
      "outputs": []
    },
    {
      "cell_type": "code",
      "source": [
        "dimension = 10;\n",
        "values = 3;\n",
        "\n",
        "def draw_board(world, iteration = 0, threshold = 100, display = True) -> None:\n",
        "  v1_max, v2_max, population = world.v1_max, world.v2_max, world.population;\n",
        "  env = np.zeros([dimension * v1_max, dimension * v2_max, values], dtype = np.uint8);\n",
        "\n",
        "  for val1 in range(v1_max):\n",
        "    for val2 in range(v2_max):\n",
        "      set_color(env = env, x1 = val1, x2 = val2, colors = population[(val1, val2)].colors);\n",
        "  \n",
        "  plt.title(f\"iter {iteration}\");\n",
        "  if display:\n",
        "    plt.imshow(env);"
      ],
      "metadata": {
        "id": "hDi21jGKHpoy"
      },
      "execution_count": null,
      "outputs": []
    },
    {
      "cell_type": "markdown",
      "source": [
        "#### 3.4. Introduction to Cultural code"
      ],
      "metadata": {
        "id": "MVs9knA1cNne"
      }
    },
    {
      "cell_type": "code",
      "source": [
        "world = Culture(v1_max = 20, v2_max = 20);\n",
        "draw_board(world, threshold = 100);"
      ],
      "metadata": {
        "colab": {
          "base_uri": "https://localhost:8080/",
          "height": 282
        },
        "id": "4s8Srrj1bhI1",
        "outputId": "f655942e-a475-4763-9ab5-a81143d9ad2a"
      },
      "execution_count": null,
      "outputs": [
        {
          "output_type": "display_data",
          "data": {
            "image/png": "[encoded data removed]",
            "text/plain": [
              "<Figure size 432x288 with 1 Axes>"
            ]
          },
          "metadata": {
            "needs_background": "light"
          }
        }
      ]
    },
    {
      "cell_type": "code",
      "source": [
        "world = Culture(v1_max = 5, v2_max = 5);\n",
        "draw_board(world, threshold = 100);"
      ],
      "metadata": {
        "colab": {
          "base_uri": "https://localhost:8080/",
          "height": 282
        },
        "id": "3V33DdQCcJFG",
        "outputId": "7d0f1776-15ad-4c61-d3bb-c8c0825195bd"
      },
      "execution_count": null,
      "outputs": [
        {
          "output_type": "display_data",
          "data": {
            "image/png": "[encoded data removed]",
            "text/plain": [
              "<Figure size 432x288 with 1 Axes>"
            ]
          },
          "metadata": {
            "needs_background": "light"
          }
        }
      ]
    },
    {
      "cell_type": "markdown",
      "source": [
        "#### 3.5. Simulation of Culture"
      ],
      "metadata": {
        "id": "r1UA4MoYdEQX"
      }
    },
    {
      "cell_type": "code",
      "source": [
        "world = Culture(v1_max = 20, v2_max = 20);\n",
        "for i in range(0, 6000, 1000):\n",
        "  world.run(time = i, th = 100)\n",
        "  draw_board(world, i, threshold = 100);"
      ],
      "metadata": {
        "colab": {
          "base_uri": "https://localhost:8080/",
          "height": 282
        },
        "id": "6IUNhIUzdan_",
        "outputId": "ffac990d-b24a-40d0-f8e0-c7fb764a4ee7"
      },
      "execution_count": null,
      "outputs": [
        {
          "output_type": "display_data",
          "data": {
            "image/png": "[encoded data removed]",
            "text/plain": [
              "<Figure size 432x288 with 1 Axes>"
            ]
          },
          "metadata": {
            "needs_background": "light"
          }
        }
      ]
    },
    {
      "cell_type": "code",
      "source": [
        "for i in range(0, 20000, 1000):\n",
        "  world.run(time = i, th = 100)\n",
        "  draw_board(world, i, threshold = 100);"
      ],
      "metadata": {
        "colab": {
          "base_uri": "https://localhost:8080/",
          "height": 282
        },
        "id": "VgCQdb1Jce6Y",
        "outputId": "1b4f103a-aac6-4782-a7fa-5c861129d4ab"
      },
      "execution_count": null,
      "outputs": [
        {
          "output_type": "display_data",
          "data": {
            "image/png": "[encoded data removed]",
            "text/plain": [
              "<Figure size 432x288 with 1 Axes>"
            ]
          },
          "metadata": {
            "needs_background": "light"
          }
        }
      ]
    },
    {
      "cell_type": "code",
      "source": [
        "for i in range(0, 60000, 1000):\n",
        "  world.run(time = i, th = 100)\n",
        "  draw_board(world, i, threshold = 100);"
      ],
      "metadata": {
        "colab": {
          "base_uri": "https://localhost:8080/",
          "height": 282
        },
        "id": "GK497jIac326",
        "outputId": "f89525a5-595b-4c05-f275-386f1011222b"
      },
      "execution_count": null,
      "outputs": [
        {
          "output_type": "display_data",
          "data": {
            "image/png": "[encoded data removed]",
            "text/plain": [
              "<Figure size 432x288 with 1 Axes>"
            ]
          },
          "metadata": {
            "needs_background": "light"
          }
        }
      ]
    },
    {
      "cell_type": "markdown",
      "source": [
        "# Artificial Collective Intelligence"
      ],
      "metadata": {
        "id": "Wc7DQhjwhAMq"
      }
    },
    {
      "cell_type": "markdown",
      "source": [
        "source: https://youtube.com/playlist?list=PLD4TWcPfbZO8jdml6-od2Yxc2y_qgMB2h"
      ],
      "metadata": {
        "id": "D4lvte-1hKRR"
      }
    },
    {
      "cell_type": "markdown",
      "source": [
        "## Lecture 3: Self Organizzing Map (SOM)"
      ],
      "metadata": {
        "id": "k8jDPqd0gi51"
      }
    },
    {
      "cell_type": "code",
      "source": [
        ""
      ],
      "metadata": {
        "id": "cx5iXyUsgkg5"
      },
      "execution_count": null,
      "outputs": []
    }
  ]
}