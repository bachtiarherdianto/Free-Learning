{
  "nbformat": 4,
  "nbformat_minor": 0,
  "metadata": {
    "colab": {
      "name": "myesqiel.ipynb",
      "provenance": [],
      "collapsed_sections": [
        "g3MPo7Z0noFI",
        "YGITtKgCnPv3",
        "O2eGj9b1naK2",
        "49w_gZhVnflE",
        "LeN7sdL7nijg",
        "fC6sEq8WvDk9"
      ]
    },
    "kernelspec": {
      "name": "python3",
      "display_name": "Python 3"
    }
  },
  "cells": [
    {
      "cell_type": "code",
      "metadata": {
        "id": "WHhAJbg7fUHR"
      },
      "source": [
        "from pandas.io import gbq   # for import data from Google BigQuery"
      ],
      "execution_count": null,
      "outputs": []
    },
    {
      "cell_type": "code",
      "metadata": {
        "id": "vXCpM_HjfbN_"
      },
      "source": [
        "# preparation Google Cloud project for importing data from Google BigQuey\n",
        "# Project Name    : My Project 94029\n",
        "# Project ID      : metal-node-317815\n",
        "# Project Number  : 675126865121\n",
        "\n",
        "# function to import data from BigQuery\n",
        "def read_query(query):\n",
        "  return gbq.read_gbq(query, project_id=\"metal-node-317815\")  "
      ],
      "execution_count": null,
      "outputs": []
    },
    {
      "cell_type": "markdown",
      "metadata": {
        "id": "g3MPo7Z0noFI"
      },
      "source": [
        "# Introduction\n",
        "\n",
        "The data retrieve from [Google BigQuery](https://console.cloud.google.com/marketplace/product/city-of-new-york/nyc-citi-bike)"
      ]
    },
    {
      "cell_type": "code",
      "metadata": {
        "colab": {
          "base_uri": "https://localhost:8080/",
          "height": 184
        },
        "id": "zIImhgZmhdcA",
        "outputId": "d0e02792-501a-439b-a27c-dd6f5c400849"
      },
      "source": [
        "query_citibike_stations = \"\"\"\n",
        "SELECT * \n",
        "FROM `bigquery-public-data.new_york_citibike.citibike_stations`\n",
        "LIMIT 2\n",
        "\"\"\"\n",
        "\n",
        "df1 = read_query(query_citibike_stations)\n",
        "df1"
      ],
      "execution_count": null,
      "outputs": [
        {
          "output_type": "execute_result",
          "data": {
            "text/html": [
              "<div>\n",
              "<style scoped>\n",
              "    .dataframe tbody tr th:only-of-type {\n",
              "        vertical-align: middle;\n",
              "    }\n",
              "\n",
              "    .dataframe tbody tr th {\n",
              "        vertical-align: top;\n",
              "    }\n",
              "\n",
              "    .dataframe thead th {\n",
              "        text-align: right;\n",
              "    }\n",
              "</style>\n",
              "<table border=\"1\" class=\"dataframe\">\n",
              "  <thead>\n",
              "    <tr style=\"text-align: right;\">\n",
              "      <th></th>\n",
              "      <th>station_id</th>\n",
              "      <th>name</th>\n",
              "      <th>short_name</th>\n",
              "      <th>latitude</th>\n",
              "      <th>longitude</th>\n",
              "      <th>region_id</th>\n",
              "      <th>rental_methods</th>\n",
              "      <th>capacity</th>\n",
              "      <th>eightd_has_key_dispenser</th>\n",
              "      <th>num_bikes_available</th>\n",
              "      <th>num_bikes_disabled</th>\n",
              "      <th>num_docks_available</th>\n",
              "      <th>num_docks_disabled</th>\n",
              "      <th>is_installed</th>\n",
              "      <th>is_renting</th>\n",
              "      <th>is_returning</th>\n",
              "      <th>eightd_has_available_keys</th>\n",
              "      <th>last_reported</th>\n",
              "    </tr>\n",
              "  </thead>\n",
              "  <tbody>\n",
              "    <tr>\n",
              "      <th>0</th>\n",
              "      <td>173</td>\n",
              "      <td>Broadway &amp; W 49 St</td>\n",
              "      <td>6708.02</td>\n",
              "      <td>-73.984527</td>\n",
              "      <td>40.760683</td>\n",
              "      <td>71</td>\n",
              "      <td>KEY,CREDITCARD</td>\n",
              "      <td>0</td>\n",
              "      <td>False</td>\n",
              "      <td>0</td>\n",
              "      <td>0</td>\n",
              "      <td>0</td>\n",
              "      <td>0</td>\n",
              "      <td>False</td>\n",
              "      <td>False</td>\n",
              "      <td>False</td>\n",
              "      <td>False</td>\n",
              "      <td>1970-01-01</td>\n",
              "    </tr>\n",
              "    <tr>\n",
              "      <th>1</th>\n",
              "      <td>393</td>\n",
              "      <td>E 5 St &amp; Avenue C</td>\n",
              "      <td>5545.04</td>\n",
              "      <td>-73.979955</td>\n",
              "      <td>40.722992</td>\n",
              "      <td>71</td>\n",
              "      <td>KEY,CREDITCARD</td>\n",
              "      <td>0</td>\n",
              "      <td>False</td>\n",
              "      <td>0</td>\n",
              "      <td>0</td>\n",
              "      <td>0</td>\n",
              "      <td>0</td>\n",
              "      <td>False</td>\n",
              "      <td>False</td>\n",
              "      <td>False</td>\n",
              "      <td>False</td>\n",
              "      <td>1970-01-01</td>\n",
              "    </tr>\n",
              "  </tbody>\n",
              "</table>\n",
              "</div>"
            ],
            "text/plain": [
              "   station_id                name  ... eightd_has_available_keys  last_reported\n",
              "0         173  Broadway & W 49 St  ...                     False     1970-01-01\n",
              "1         393   E 5 St & Avenue C  ...                     False     1970-01-01\n",
              "\n",
              "[2 rows x 18 columns]"
            ]
          },
          "metadata": {
            "tags": []
          },
          "execution_count": 25
        }
      ]
    },
    {
      "cell_type": "code",
      "metadata": {
        "colab": {
          "base_uri": "https://localhost:8080/",
          "height": 167
        },
        "id": "qOdiunNWffo5",
        "outputId": "7b067cc3-d0a6-44cd-d4f5-36d35962724f"
      },
      "source": [
        "query_citibike_trips = \"\"\"\n",
        "SELECT * \n",
        "FROM `bigquery-public-data.new_york_citibike.citibike_trips`\n",
        "WHERE starttime >= '2015-01-01 00:00:00' AND starttime <= '2017-12-31 23:59:59'\n",
        "LIMIT 2\n",
        "\"\"\"\n",
        "\n",
        "df2 = read_query(query_citibike_trips)\n",
        "df2"
      ],
      "execution_count": null,
      "outputs": [
        {
          "output_type": "execute_result",
          "data": {
            "text/html": [
              "<div>\n",
              "<style scoped>\n",
              "    .dataframe tbody tr th:only-of-type {\n",
              "        vertical-align: middle;\n",
              "    }\n",
              "\n",
              "    .dataframe tbody tr th {\n",
              "        vertical-align: top;\n",
              "    }\n",
              "\n",
              "    .dataframe thead th {\n",
              "        text-align: right;\n",
              "    }\n",
              "</style>\n",
              "<table border=\"1\" class=\"dataframe\">\n",
              "  <thead>\n",
              "    <tr style=\"text-align: right;\">\n",
              "      <th></th>\n",
              "      <th>tripduration</th>\n",
              "      <th>starttime</th>\n",
              "      <th>stoptime</th>\n",
              "      <th>start_station_id</th>\n",
              "      <th>start_station_name</th>\n",
              "      <th>start_station_latitude</th>\n",
              "      <th>start_station_longitude</th>\n",
              "      <th>end_station_id</th>\n",
              "      <th>end_station_name</th>\n",
              "      <th>end_station_latitude</th>\n",
              "      <th>end_station_longitude</th>\n",
              "      <th>bikeid</th>\n",
              "      <th>usertype</th>\n",
              "      <th>birth_year</th>\n",
              "      <th>gender</th>\n",
              "      <th>customer_plan</th>\n",
              "    </tr>\n",
              "  </thead>\n",
              "  <tbody>\n",
              "    <tr>\n",
              "      <th>0</th>\n",
              "      <td>1186</td>\n",
              "      <td>2015-12-30 13:02:38</td>\n",
              "      <td>2015-12-30 13:22:25</td>\n",
              "      <td>280</td>\n",
              "      <td>E 10 St &amp; 5 Ave</td>\n",
              "      <td>40.733320</td>\n",
              "      <td>-73.995101</td>\n",
              "      <td>254</td>\n",
              "      <td>W 11 St &amp; 6 Ave</td>\n",
              "      <td>40.735324</td>\n",
              "      <td>-73.998004</td>\n",
              "      <td>22598</td>\n",
              "      <td>Subscriber</td>\n",
              "      <td>1945</td>\n",
              "      <td>female</td>\n",
              "      <td></td>\n",
              "    </tr>\n",
              "    <tr>\n",
              "      <th>1</th>\n",
              "      <td>799</td>\n",
              "      <td>2017-09-02 16:27:37</td>\n",
              "      <td>2017-09-02 16:40:57</td>\n",
              "      <td>335</td>\n",
              "      <td>Washington Pl &amp; Broadway</td>\n",
              "      <td>40.729039</td>\n",
              "      <td>-73.994046</td>\n",
              "      <td>540</td>\n",
              "      <td>Lexington Ave &amp; E 29 St</td>\n",
              "      <td>40.743116</td>\n",
              "      <td>-73.982154</td>\n",
              "      <td>28833</td>\n",
              "      <td>Subscriber</td>\n",
              "      <td>1997</td>\n",
              "      <td>male</td>\n",
              "      <td></td>\n",
              "    </tr>\n",
              "  </tbody>\n",
              "</table>\n",
              "</div>"
            ],
            "text/plain": [
              "   tripduration           starttime  ...  gender  customer_plan\n",
              "0          1186 2015-12-30 13:02:38  ...  female               \n",
              "1           799 2017-09-02 16:27:37  ...    male               \n",
              "\n",
              "[2 rows x 16 columns]"
            ]
          },
          "metadata": {
            "tags": []
          },
          "execution_count": 11
        }
      ]
    },
    {
      "cell_type": "markdown",
      "metadata": {
        "id": "YGITtKgCnPv3"
      },
      "source": [
        "# Matching Column Value"
      ]
    },
    {
      "cell_type": "code",
      "metadata": {
        "colab": {
          "base_uri": "https://localhost:8080/",
          "height": 175
        },
        "id": "UH0SVTS3gbnw",
        "outputId": "58efaafc-e427-430b-9f2f-9648e337cf70"
      },
      "source": [
        "myquery = \"\"\"\n",
        "SELECT station_id, start_station_id, tripduration AS span_time_in_sec\n",
        "FROM `bigquery-public-data.new_york_citibike.citibike_stations`, `bigquery-public-data.new_york_citibike.citibike_trips`\n",
        "WHERE station_id = start_station_id \n",
        "      AND starttime >= '2018-01-01 00:00:00' AND starttime <= '2018-12-31 23:59:59'\n",
        "LIMIT 4\n",
        "\"\"\"\n",
        "\n",
        "df = read_query(myquery)\n",
        "df"
      ],
      "execution_count": null,
      "outputs": [
        {
          "output_type": "execute_result",
          "data": {
            "text/html": [
              "<div>\n",
              "<style scoped>\n",
              "    .dataframe tbody tr th:only-of-type {\n",
              "        vertical-align: middle;\n",
              "    }\n",
              "\n",
              "    .dataframe tbody tr th {\n",
              "        vertical-align: top;\n",
              "    }\n",
              "\n",
              "    .dataframe thead th {\n",
              "        text-align: right;\n",
              "    }\n",
              "</style>\n",
              "<table border=\"1\" class=\"dataframe\">\n",
              "  <thead>\n",
              "    <tr style=\"text-align: right;\">\n",
              "      <th></th>\n",
              "      <th>station_id</th>\n",
              "      <th>start_station_id</th>\n",
              "      <th>span_time_in_sec</th>\n",
              "    </tr>\n",
              "  </thead>\n",
              "  <tbody>\n",
              "    <tr>\n",
              "      <th>0</th>\n",
              "      <td>443</td>\n",
              "      <td>443</td>\n",
              "      <td>772</td>\n",
              "    </tr>\n",
              "    <tr>\n",
              "      <th>1</th>\n",
              "      <td>3244</td>\n",
              "      <td>3244</td>\n",
              "      <td>209</td>\n",
              "    </tr>\n",
              "    <tr>\n",
              "      <th>2</th>\n",
              "      <td>383</td>\n",
              "      <td>383</td>\n",
              "      <td>669</td>\n",
              "    </tr>\n",
              "    <tr>\n",
              "      <th>3</th>\n",
              "      <td>307</td>\n",
              "      <td>307</td>\n",
              "      <td>436</td>\n",
              "    </tr>\n",
              "  </tbody>\n",
              "</table>\n",
              "</div>"
            ],
            "text/plain": [
              "   station_id  start_station_id  span_time_in_sec\n",
              "0         443               443               772\n",
              "1        3244              3244               209\n",
              "2         383               383               669\n",
              "3         307               307               436"
            ]
          },
          "metadata": {
            "tags": []
          },
          "execution_count": 15
        }
      ]
    },
    {
      "cell_type": "markdown",
      "metadata": {
        "id": "O2eGj9b1naK2"
      },
      "source": [
        "# Inner Join"
      ]
    },
    {
      "cell_type": "markdown",
      "metadata": {
        "id": "TtRbTApFqDCX"
      },
      "source": [
        "The **INNER JOIN** keyword selects all rows from both the tables as long as the condition satisfies. This keyword will create the result-set by combining all rows from both the tables where the condition satisfies, i.e. value of common field will be same"
      ]
    },
    {
      "cell_type": "markdown",
      "metadata": {
        "id": "n56zg5DHxFZO"
      },
      "source": [
        "`SELECT` table1.column1, table2.column2, table2.column1,...\n",
        "\n",
        "`FROM` table1\n",
        "\n",
        "`INNER JOIN` table2\n",
        "\n",
        "`ON` table1.matching_column = table2.matching_column"
      ]
    },
    {
      "cell_type": "code",
      "metadata": {
        "colab": {
          "base_uri": "https://localhost:8080/",
          "height": 175
        },
        "id": "_OfKCP3C51II",
        "outputId": "20d9584a-60f2-4334-9494-a831da581be2"
      },
      "source": [
        "myquery = \"\"\"\n",
        "SELECT station_id, start_station_id, tripduration AS span_time_in_sec\n",
        "FROM `bigquery-public-data.new_york_citibike.citibike_trips` \n",
        "      INNER JOIN `bigquery-public-data.new_york_citibike.citibike_stations`\n",
        "      ON station_id = start_station_id\n",
        "WHERE starttime >= '2018-01-01 00:00:00' AND starttime <= '2018-12-31 23:59:59'\n",
        "LIMIT 4\n",
        "\"\"\"\n",
        "\n",
        "df = read_query(myquery)\n",
        "df"
      ],
      "execution_count": null,
      "outputs": [
        {
          "output_type": "execute_result",
          "data": {
            "text/html": [
              "<div>\n",
              "<style scoped>\n",
              "    .dataframe tbody tr th:only-of-type {\n",
              "        vertical-align: middle;\n",
              "    }\n",
              "\n",
              "    .dataframe tbody tr th {\n",
              "        vertical-align: top;\n",
              "    }\n",
              "\n",
              "    .dataframe thead th {\n",
              "        text-align: right;\n",
              "    }\n",
              "</style>\n",
              "<table border=\"1\" class=\"dataframe\">\n",
              "  <thead>\n",
              "    <tr style=\"text-align: right;\">\n",
              "      <th></th>\n",
              "      <th>station_id</th>\n",
              "      <th>start_station_id</th>\n",
              "      <th>span_time_in_sec</th>\n",
              "    </tr>\n",
              "  </thead>\n",
              "  <tbody>\n",
              "    <tr>\n",
              "      <th>0</th>\n",
              "      <td>247</td>\n",
              "      <td>247</td>\n",
              "      <td>291</td>\n",
              "    </tr>\n",
              "    <tr>\n",
              "      <th>1</th>\n",
              "      <td>3497</td>\n",
              "      <td>3497</td>\n",
              "      <td>2567</td>\n",
              "    </tr>\n",
              "    <tr>\n",
              "      <th>2</th>\n",
              "      <td>347</td>\n",
              "      <td>347</td>\n",
              "      <td>649</td>\n",
              "    </tr>\n",
              "    <tr>\n",
              "      <th>3</th>\n",
              "      <td>3163</td>\n",
              "      <td>3163</td>\n",
              "      <td>1500</td>\n",
              "    </tr>\n",
              "  </tbody>\n",
              "</table>\n",
              "</div>"
            ],
            "text/plain": [
              "   station_id  start_station_id  span_time_in_sec\n",
              "0         247               247               291\n",
              "1        3497              3497              2567\n",
              "2         347               347               649\n",
              "3        3163              3163              1500"
            ]
          },
          "metadata": {
            "tags": []
          },
          "execution_count": 16
        }
      ]
    },
    {
      "cell_type": "code",
      "metadata": {
        "colab": {
          "base_uri": "https://localhost:8080/",
          "height": 175
        },
        "id": "zNW7NGjc6QlW",
        "outputId": "75e6ed03-9a1d-4c6c-afbc-c7683429be66"
      },
      "source": [
        "myquery = \"\"\"\n",
        "SELECT station_id, start_station_id, tripduration AS span_time_in_sec\n",
        "FROM `bigquery-public-data.new_york_citibike.citibike_stations` \n",
        "      INNER JOIN `bigquery-public-data.new_york_citibike.citibike_trips`\n",
        "      ON station_id = start_station_id\n",
        "WHERE starttime >= '2018-01-01 00:00:00' AND starttime <= '2018-12-31 23:59:59'\n",
        "LIMIT 4\n",
        "\"\"\"\n",
        "\n",
        "df = read_query(myquery)\n",
        "df"
      ],
      "execution_count": null,
      "outputs": [
        {
          "output_type": "execute_result",
          "data": {
            "text/html": [
              "<div>\n",
              "<style scoped>\n",
              "    .dataframe tbody tr th:only-of-type {\n",
              "        vertical-align: middle;\n",
              "    }\n",
              "\n",
              "    .dataframe tbody tr th {\n",
              "        vertical-align: top;\n",
              "    }\n",
              "\n",
              "    .dataframe thead th {\n",
              "        text-align: right;\n",
              "    }\n",
              "</style>\n",
              "<table border=\"1\" class=\"dataframe\">\n",
              "  <thead>\n",
              "    <tr style=\"text-align: right;\">\n",
              "      <th></th>\n",
              "      <th>station_id</th>\n",
              "      <th>start_station_id</th>\n",
              "      <th>span_time_in_sec</th>\n",
              "    </tr>\n",
              "  </thead>\n",
              "  <tbody>\n",
              "    <tr>\n",
              "      <th>0</th>\n",
              "      <td>3284</td>\n",
              "      <td>3284</td>\n",
              "      <td>743</td>\n",
              "    </tr>\n",
              "    <tr>\n",
              "      <th>1</th>\n",
              "      <td>387</td>\n",
              "      <td>387</td>\n",
              "      <td>531</td>\n",
              "    </tr>\n",
              "    <tr>\n",
              "      <th>2</th>\n",
              "      <td>2021</td>\n",
              "      <td>2021</td>\n",
              "      <td>286</td>\n",
              "    </tr>\n",
              "    <tr>\n",
              "      <th>3</th>\n",
              "      <td>3514</td>\n",
              "      <td>3514</td>\n",
              "      <td>468</td>\n",
              "    </tr>\n",
              "  </tbody>\n",
              "</table>\n",
              "</div>"
            ],
            "text/plain": [
              "   station_id  start_station_id  span_time_in_sec\n",
              "0        3284              3284               743\n",
              "1         387               387               531\n",
              "2        2021              2021               286\n",
              "3        3514              3514               468"
            ]
          },
          "metadata": {
            "tags": []
          },
          "execution_count": 17
        }
      ]
    },
    {
      "cell_type": "markdown",
      "metadata": {
        "id": "49w_gZhVnflE"
      },
      "source": [
        "# Left Join"
      ]
    },
    {
      "cell_type": "markdown",
      "metadata": {
        "id": "ublg6S4woyO9"
      },
      "source": [
        "The **LEFT JOIN** returns all the rows of the table on the left side of the join and matching rows for the table on the right side of join. The rows for which there is no matching row on right side, the result set will contain _null_. **LEFT JOIN** is also known as **LEFT OUTER**"
      ]
    },
    {
      "cell_type": "markdown",
      "metadata": {
        "id": "ntm7j-3Wys-m"
      },
      "source": [
        "`SELECT` table1.column1, table1.column2, table2.column1,...\n",
        "\n",
        "`FROM` table1\n",
        "\n",
        "`LEFT JOIN` table2\n",
        "\n",
        "`ON` table1.matching_column = table2.matching_column"
      ]
    },
    {
      "cell_type": "code",
      "metadata": {
        "id": "tQAnbuuk8Fh-",
        "colab": {
          "base_uri": "https://localhost:8080/",
          "height": 175
        },
        "outputId": "c491e258-a8d2-4a30-e8f7-8c4b101dd2c5"
      },
      "source": [
        "myquery = \"\"\"\n",
        "SELECT station_id, start_station_id, tripduration AS span_time_in_sec\n",
        "FROM `bigquery-public-data.new_york_citibike.citibike_trips` \n",
        "      LEFT JOIN `bigquery-public-data.new_york_citibike.citibike_stations`\n",
        "      ON station_id = start_station_id\n",
        "WHERE starttime >= '2018-01-01 00:00:00' AND starttime <= '2018-12-31 23:59:59'\n",
        "LIMIT 4\n",
        "\"\"\"\n",
        "\n",
        "df = read_query(myquery)\n",
        "df"
      ],
      "execution_count": null,
      "outputs": [
        {
          "output_type": "execute_result",
          "data": {
            "text/html": [
              "<div>\n",
              "<style scoped>\n",
              "    .dataframe tbody tr th:only-of-type {\n",
              "        vertical-align: middle;\n",
              "    }\n",
              "\n",
              "    .dataframe tbody tr th {\n",
              "        vertical-align: top;\n",
              "    }\n",
              "\n",
              "    .dataframe thead th {\n",
              "        text-align: right;\n",
              "    }\n",
              "</style>\n",
              "<table border=\"1\" class=\"dataframe\">\n",
              "  <thead>\n",
              "    <tr style=\"text-align: right;\">\n",
              "      <th></th>\n",
              "      <th>station_id</th>\n",
              "      <th>start_station_id</th>\n",
              "      <th>span_time_in_sec</th>\n",
              "    </tr>\n",
              "  </thead>\n",
              "  <tbody>\n",
              "    <tr>\n",
              "      <th>0</th>\n",
              "      <td>NaN</td>\n",
              "      <td>3431</td>\n",
              "      <td>381</td>\n",
              "    </tr>\n",
              "    <tr>\n",
              "      <th>1</th>\n",
              "      <td>3284.0</td>\n",
              "      <td>3284</td>\n",
              "      <td>743</td>\n",
              "    </tr>\n",
              "    <tr>\n",
              "      <th>2</th>\n",
              "      <td>387.0</td>\n",
              "      <td>387</td>\n",
              "      <td>531</td>\n",
              "    </tr>\n",
              "    <tr>\n",
              "      <th>3</th>\n",
              "      <td>2021.0</td>\n",
              "      <td>2021</td>\n",
              "      <td>286</td>\n",
              "    </tr>\n",
              "  </tbody>\n",
              "</table>\n",
              "</div>"
            ],
            "text/plain": [
              "   station_id  start_station_id  span_time_in_sec\n",
              "0         NaN              3431               381\n",
              "1      3284.0              3284               743\n",
              "2       387.0               387               531\n",
              "3      2021.0              2021               286"
            ]
          },
          "metadata": {
            "tags": []
          },
          "execution_count": 18
        }
      ]
    },
    {
      "cell_type": "code",
      "metadata": {
        "colab": {
          "base_uri": "https://localhost:8080/",
          "height": 175
        },
        "id": "3ZKAGogIm4Ha",
        "outputId": "d3ecff0a-cb87-4ba2-d331-b7702b205dc8"
      },
      "source": [
        "myquery = \"\"\"\n",
        "SELECT station_id, start_station_id, tripduration AS span_time_in_sec\n",
        "FROM `bigquery-public-data.new_york_citibike.citibike_stations` \n",
        "      LEFT JOIN `bigquery-public-data.new_york_citibike.citibike_trips`\n",
        "      ON station_id = start_station_id\n",
        "WHERE starttime >= '2018-01-01 00:00:00' AND starttime <= '2018-12-31 23:59:59'\n",
        "LIMIT 4\n",
        "\"\"\"\n",
        "\n",
        "df = read_query(myquery)\n",
        "df"
      ],
      "execution_count": null,
      "outputs": [
        {
          "output_type": "execute_result",
          "data": {
            "text/html": [
              "<div>\n",
              "<style scoped>\n",
              "    .dataframe tbody tr th:only-of-type {\n",
              "        vertical-align: middle;\n",
              "    }\n",
              "\n",
              "    .dataframe tbody tr th {\n",
              "        vertical-align: top;\n",
              "    }\n",
              "\n",
              "    .dataframe thead th {\n",
              "        text-align: right;\n",
              "    }\n",
              "</style>\n",
              "<table border=\"1\" class=\"dataframe\">\n",
              "  <thead>\n",
              "    <tr style=\"text-align: right;\">\n",
              "      <th></th>\n",
              "      <th>station_id</th>\n",
              "      <th>start_station_id</th>\n",
              "      <th>span_time_in_sec</th>\n",
              "    </tr>\n",
              "  </thead>\n",
              "  <tbody>\n",
              "    <tr>\n",
              "      <th>0</th>\n",
              "      <td>503</td>\n",
              "      <td>503</td>\n",
              "      <td>363</td>\n",
              "    </tr>\n",
              "    <tr>\n",
              "      <th>1</th>\n",
              "      <td>321</td>\n",
              "      <td>321</td>\n",
              "      <td>886</td>\n",
              "    </tr>\n",
              "    <tr>\n",
              "      <th>2</th>\n",
              "      <td>369</td>\n",
              "      <td>369</td>\n",
              "      <td>980</td>\n",
              "    </tr>\n",
              "    <tr>\n",
              "      <th>3</th>\n",
              "      <td>341</td>\n",
              "      <td>341</td>\n",
              "      <td>890</td>\n",
              "    </tr>\n",
              "  </tbody>\n",
              "</table>\n",
              "</div>"
            ],
            "text/plain": [
              "   station_id  start_station_id  span_time_in_sec\n",
              "0         503               503               363\n",
              "1         321               321               886\n",
              "2         369               369               980\n",
              "3         341               341               890"
            ]
          },
          "metadata": {
            "tags": []
          },
          "execution_count": 19
        }
      ]
    },
    {
      "cell_type": "markdown",
      "metadata": {
        "id": "LeN7sdL7nijg"
      },
      "source": [
        "# Right Join"
      ]
    },
    {
      "cell_type": "markdown",
      "metadata": {
        "id": "6YUibRyNo5KZ"
      },
      "source": [
        "The **RIGHT JOIN** is similar to LEFT JOIN, but this join returns all the rows of the table on the right side of the join and matching rows for the table on the left side of join. The rows for which there is no matching row on left side, the result-set will contain _null_. The **RIGHT JOIN** is also known as **RIGHT OUTER JOIN**"
      ]
    },
    {
      "cell_type": "markdown",
      "metadata": {
        "id": "9MzbVqGx3wMf"
      },
      "source": [
        "`SELECT` table1.column1, table2.column2, table2.column1,...\n",
        "\n",
        "`FROM` table1\n",
        "\n",
        "`RIGHT JOIN` table2\n",
        "\n",
        "`ON` table1.matching_column = table2.matching_column"
      ]
    },
    {
      "cell_type": "code",
      "metadata": {
        "colab": {
          "base_uri": "https://localhost:8080/",
          "height": 175
        },
        "id": "MpCbpSaEm5W6",
        "outputId": "1ec5c47d-e6cb-4d21-92a5-950ca3c70c17"
      },
      "source": [
        "myquery = \"\"\"\n",
        "SELECT station_id, start_station_id, tripduration AS span_time_in_sec\n",
        "FROM `bigquery-public-data.new_york_citibike.citibike_trips` \n",
        "      RIGHT JOIN `bigquery-public-data.new_york_citibike.citibike_stations`\n",
        "      ON station_id = start_station_id\n",
        "WHERE starttime >= '2018-01-01 00:00:00' AND starttime <= '2018-12-31 23:59:59'\n",
        "LIMIT 4\n",
        "\"\"\"\n",
        "\n",
        "df = read_query(myquery)\n",
        "df"
      ],
      "execution_count": null,
      "outputs": [
        {
          "output_type": "execute_result",
          "data": {
            "text/html": [
              "<div>\n",
              "<style scoped>\n",
              "    .dataframe tbody tr th:only-of-type {\n",
              "        vertical-align: middle;\n",
              "    }\n",
              "\n",
              "    .dataframe tbody tr th {\n",
              "        vertical-align: top;\n",
              "    }\n",
              "\n",
              "    .dataframe thead th {\n",
              "        text-align: right;\n",
              "    }\n",
              "</style>\n",
              "<table border=\"1\" class=\"dataframe\">\n",
              "  <thead>\n",
              "    <tr style=\"text-align: right;\">\n",
              "      <th></th>\n",
              "      <th>station_id</th>\n",
              "      <th>start_station_id</th>\n",
              "      <th>span_time_in_sec</th>\n",
              "    </tr>\n",
              "  </thead>\n",
              "  <tbody>\n",
              "    <tr>\n",
              "      <th>0</th>\n",
              "      <td>3158</td>\n",
              "      <td>3158</td>\n",
              "      <td>414</td>\n",
              "    </tr>\n",
              "    <tr>\n",
              "      <th>1</th>\n",
              "      <td>291</td>\n",
              "      <td>291</td>\n",
              "      <td>614</td>\n",
              "    </tr>\n",
              "    <tr>\n",
              "      <th>2</th>\n",
              "      <td>3137</td>\n",
              "      <td>3137</td>\n",
              "      <td>849</td>\n",
              "    </tr>\n",
              "    <tr>\n",
              "      <th>3</th>\n",
              "      <td>537</td>\n",
              "      <td>537</td>\n",
              "      <td>722</td>\n",
              "    </tr>\n",
              "  </tbody>\n",
              "</table>\n",
              "</div>"
            ],
            "text/plain": [
              "   station_id  start_station_id  span_time_in_sec\n",
              "0        3158              3158               414\n",
              "1         291               291               614\n",
              "2        3137              3137               849\n",
              "3         537               537               722"
            ]
          },
          "metadata": {
            "tags": []
          },
          "execution_count": 20
        }
      ]
    },
    {
      "cell_type": "code",
      "metadata": {
        "id": "m8XLJOTcm6fP",
        "colab": {
          "base_uri": "https://localhost:8080/",
          "height": 175
        },
        "outputId": "84dd35ce-1e81-4197-8eb6-39941bdd17dc"
      },
      "source": [
        "myquery = \"\"\"\n",
        "SELECT station_id, start_station_id, tripduration AS span_time_in_sec\n",
        "FROM `bigquery-public-data.new_york_citibike.citibike_stations` \n",
        "      RIGHT JOIN `bigquery-public-data.new_york_citibike.citibike_trips`\n",
        "      ON station_id = start_station_id\n",
        "WHERE starttime >= '2018-01-01 00:00:00' AND starttime <= '2018-12-31 23:59:59'\n",
        "LIMIT 4\n",
        "\"\"\"\n",
        "\n",
        "df = read_query(myquery)\n",
        "df"
      ],
      "execution_count": null,
      "outputs": [
        {
          "output_type": "execute_result",
          "data": {
            "text/html": [
              "<div>\n",
              "<style scoped>\n",
              "    .dataframe tbody tr th:only-of-type {\n",
              "        vertical-align: middle;\n",
              "    }\n",
              "\n",
              "    .dataframe tbody tr th {\n",
              "        vertical-align: top;\n",
              "    }\n",
              "\n",
              "    .dataframe thead th {\n",
              "        text-align: right;\n",
              "    }\n",
              "</style>\n",
              "<table border=\"1\" class=\"dataframe\">\n",
              "  <thead>\n",
              "    <tr style=\"text-align: right;\">\n",
              "      <th></th>\n",
              "      <th>station_id</th>\n",
              "      <th>start_station_id</th>\n",
              "      <th>span_time_in_sec</th>\n",
              "    </tr>\n",
              "  </thead>\n",
              "  <tbody>\n",
              "    <tr>\n",
              "      <th>0</th>\n",
              "      <td>NaN</td>\n",
              "      <td>3431</td>\n",
              "      <td>381</td>\n",
              "    </tr>\n",
              "    <tr>\n",
              "      <th>1</th>\n",
              "      <td>3284.0</td>\n",
              "      <td>3284</td>\n",
              "      <td>743</td>\n",
              "    </tr>\n",
              "    <tr>\n",
              "      <th>2</th>\n",
              "      <td>387.0</td>\n",
              "      <td>387</td>\n",
              "      <td>531</td>\n",
              "    </tr>\n",
              "    <tr>\n",
              "      <th>3</th>\n",
              "      <td>2021.0</td>\n",
              "      <td>2021</td>\n",
              "      <td>286</td>\n",
              "    </tr>\n",
              "  </tbody>\n",
              "</table>\n",
              "</div>"
            ],
            "text/plain": [
              "   station_id  start_station_id  span_time_in_sec\n",
              "0         NaN              3431               381\n",
              "1      3284.0              3284               743\n",
              "2       387.0               387               531\n",
              "3      2021.0              2021               286"
            ]
          },
          "metadata": {
            "tags": []
          },
          "execution_count": 21
        }
      ]
    },
    {
      "cell_type": "markdown",
      "metadata": {
        "id": "fC6sEq8WvDk9"
      },
      "source": [
        "# Full Join"
      ]
    },
    {
      "cell_type": "markdown",
      "metadata": {
        "id": "XOs2L4_Op8GV"
      },
      "source": [
        "The **FULL JOIN** creates the result-set by combining result of both LEFT JOIN and RIGHT JOIN. The result-set will contain all the rows from both the tables. The rows for which there is no matching, the result-set will contain _null_ values."
      ]
    },
    {
      "cell_type": "markdown",
      "metadata": {
        "id": "ISRyNmJg4uSG"
      },
      "source": [
        "`SELECT` table1.column1, table1.column2, table2.column1,...\n",
        "\n",
        "`FROM` table1\n",
        "\n",
        "`FULL JOIN` table2\n",
        "\n",
        "`ON` table1.matching_column = table2.matching_column"
      ]
    },
    {
      "cell_type": "code",
      "metadata": {
        "colab": {
          "base_uri": "https://localhost:8080/",
          "height": 175
        },
        "id": "x3RHWLslutTs",
        "outputId": "c7c95e5b-9007-48bf-aac8-30cfc965fac5"
      },
      "source": [
        "myquery = \"\"\"\n",
        "SELECT station_id, start_station_id, tripduration AS span_time_in_sec\n",
        "FROM `bigquery-public-data.new_york_citibike.citibike_trips` \n",
        "      FULL JOIN `bigquery-public-data.new_york_citibike.citibike_stations`\n",
        "      ON station_id = start_station_id\n",
        "WHERE starttime >= '2018-01-01 00:00:00' AND starttime <= '2018-12-31 23:59:59'\n",
        "LIMIT 4\n",
        "\"\"\"\n",
        "\n",
        "df = read_query(myquery)\n",
        "df"
      ],
      "execution_count": null,
      "outputs": [
        {
          "output_type": "execute_result",
          "data": {
            "text/html": [
              "<div>\n",
              "<style scoped>\n",
              "    .dataframe tbody tr th:only-of-type {\n",
              "        vertical-align: middle;\n",
              "    }\n",
              "\n",
              "    .dataframe tbody tr th {\n",
              "        vertical-align: top;\n",
              "    }\n",
              "\n",
              "    .dataframe thead th {\n",
              "        text-align: right;\n",
              "    }\n",
              "</style>\n",
              "<table border=\"1\" class=\"dataframe\">\n",
              "  <thead>\n",
              "    <tr style=\"text-align: right;\">\n",
              "      <th></th>\n",
              "      <th>station_id</th>\n",
              "      <th>start_station_id</th>\n",
              "      <th>span_time_in_sec</th>\n",
              "    </tr>\n",
              "  </thead>\n",
              "  <tbody>\n",
              "    <tr>\n",
              "      <th>0</th>\n",
              "      <td>3244</td>\n",
              "      <td>3244</td>\n",
              "      <td>330</td>\n",
              "    </tr>\n",
              "    <tr>\n",
              "      <th>1</th>\n",
              "      <td>341</td>\n",
              "      <td>341</td>\n",
              "      <td>763</td>\n",
              "    </tr>\n",
              "    <tr>\n",
              "      <th>2</th>\n",
              "      <td>432</td>\n",
              "      <td>432</td>\n",
              "      <td>438</td>\n",
              "    </tr>\n",
              "    <tr>\n",
              "      <th>3</th>\n",
              "      <td>3674</td>\n",
              "      <td>3674</td>\n",
              "      <td>995</td>\n",
              "    </tr>\n",
              "  </tbody>\n",
              "</table>\n",
              "</div>"
            ],
            "text/plain": [
              "   station_id  start_station_id  span_time_in_sec\n",
              "0        3244              3244               330\n",
              "1         341               341               763\n",
              "2         432               432               438\n",
              "3        3674              3674               995"
            ]
          },
          "metadata": {
            "tags": []
          },
          "execution_count": 22
        }
      ]
    },
    {
      "cell_type": "code",
      "metadata": {
        "colab": {
          "base_uri": "https://localhost:8080/",
          "height": 175
        },
        "id": "FteRXW7svSRU",
        "outputId": "ecb72488-2df4-47d1-f662-5ce72c0df4e0"
      },
      "source": [
        "myquery = \"\"\"\n",
        "SELECT station_id, start_station_id, tripduration AS span_time_in_sec\n",
        "FROM `bigquery-public-data.new_york_citibike.citibike_stations` \n",
        "      FULL JOIN `bigquery-public-data.new_york_citibike.citibike_trips`\n",
        "      ON station_id = start_station_id\n",
        "WHERE starttime >= '2018-01-01 00:00:00' AND starttime <= '2018-12-31 23:59:59'\n",
        "LIMIT 4\n",
        "\"\"\"\n",
        "\n",
        "df = read_query(myquery)\n",
        "df"
      ],
      "execution_count": null,
      "outputs": [
        {
          "output_type": "execute_result",
          "data": {
            "text/html": [
              "<div>\n",
              "<style scoped>\n",
              "    .dataframe tbody tr th:only-of-type {\n",
              "        vertical-align: middle;\n",
              "    }\n",
              "\n",
              "    .dataframe tbody tr th {\n",
              "        vertical-align: top;\n",
              "    }\n",
              "\n",
              "    .dataframe thead th {\n",
              "        text-align: right;\n",
              "    }\n",
              "</style>\n",
              "<table border=\"1\" class=\"dataframe\">\n",
              "  <thead>\n",
              "    <tr style=\"text-align: right;\">\n",
              "      <th></th>\n",
              "      <th>station_id</th>\n",
              "      <th>start_station_id</th>\n",
              "      <th>span_time_in_sec</th>\n",
              "    </tr>\n",
              "  </thead>\n",
              "  <tbody>\n",
              "    <tr>\n",
              "      <th>0</th>\n",
              "      <td>408</td>\n",
              "      <td>408</td>\n",
              "      <td>923</td>\n",
              "    </tr>\n",
              "    <tr>\n",
              "      <th>1</th>\n",
              "      <td>474</td>\n",
              "      <td>474</td>\n",
              "      <td>535</td>\n",
              "    </tr>\n",
              "    <tr>\n",
              "      <th>2</th>\n",
              "      <td>336</td>\n",
              "      <td>336</td>\n",
              "      <td>260</td>\n",
              "    </tr>\n",
              "    <tr>\n",
              "      <th>3</th>\n",
              "      <td>127</td>\n",
              "      <td>127</td>\n",
              "      <td>346</td>\n",
              "    </tr>\n",
              "  </tbody>\n",
              "</table>\n",
              "</div>"
            ],
            "text/plain": [
              "   station_id  start_station_id  span_time_in_sec\n",
              "0         408               408               923\n",
              "1         474               474               535\n",
              "2         336               336               260\n",
              "3         127               127               346"
            ]
          },
          "metadata": {
            "tags": []
          },
          "execution_count": 23
        }
      ]
    },
    {
      "cell_type": "markdown",
      "metadata": {
        "id": "32TmV1UNrzH5"
      },
      "source": [
        "# New York: What are the most popular Citi Bike stations? \n",
        "Using data from [Google BigQuery](https://console.cloud.google.com/marketplace/product/city-of-new-york/nyc-citi-bike), find top 3 the most popular Citi Bike stations"
      ]
    },
    {
      "cell_type": "code",
      "metadata": {
        "colab": {
          "base_uri": "https://localhost:8080/",
          "height": 143
        },
        "id": "5e7y4Tx4rqqj",
        "outputId": "eb42f745-44bb-4f90-88b4-a682be5dae02"
      },
      "source": [
        "myquery = \"\"\"\n",
        "SELECT start_station_name, \n",
        "       start_station_latitude,\n",
        "       start_station_longitude,\n",
        "       COUNT(*) AS num_trips\n",
        "FROM `bigquery-public-data.new_york.citibike_trips`\n",
        "GROUP BY 1, 2, 3\n",
        "ORDER BY num_trips DESC\n",
        "LIMIT 3\n",
        "\"\"\"\n",
        "\n",
        "df = read_query(myquery)\n",
        "df"
      ],
      "execution_count": null,
      "outputs": [
        {
          "output_type": "execute_result",
          "data": {
            "text/html": [
              "<div>\n",
              "<style scoped>\n",
              "    .dataframe tbody tr th:only-of-type {\n",
              "        vertical-align: middle;\n",
              "    }\n",
              "\n",
              "    .dataframe tbody tr th {\n",
              "        vertical-align: top;\n",
              "    }\n",
              "\n",
              "    .dataframe thead th {\n",
              "        text-align: right;\n",
              "    }\n",
              "</style>\n",
              "<table border=\"1\" class=\"dataframe\">\n",
              "  <thead>\n",
              "    <tr style=\"text-align: right;\">\n",
              "      <th></th>\n",
              "      <th>start_station_name</th>\n",
              "      <th>start_station_latitude</th>\n",
              "      <th>start_station_longitude</th>\n",
              "      <th>num_trips</th>\n",
              "    </tr>\n",
              "  </thead>\n",
              "  <tbody>\n",
              "    <tr>\n",
              "      <th>0</th>\n",
              "      <td>E 17 St &amp; Broadway</td>\n",
              "      <td>40.737050</td>\n",
              "      <td>-73.990093</td>\n",
              "      <td>291615</td>\n",
              "    </tr>\n",
              "    <tr>\n",
              "      <th>1</th>\n",
              "      <td>Lafayette St &amp; E 8 St</td>\n",
              "      <td>40.730287</td>\n",
              "      <td>-73.990765</td>\n",
              "      <td>277060</td>\n",
              "    </tr>\n",
              "    <tr>\n",
              "      <th>2</th>\n",
              "      <td>W 21 St &amp; 6 Ave</td>\n",
              "      <td>40.741740</td>\n",
              "      <td>-73.994156</td>\n",
              "      <td>275348</td>\n",
              "    </tr>\n",
              "  </tbody>\n",
              "</table>\n",
              "</div>"
            ],
            "text/plain": [
              "      start_station_name  ...  num_trips\n",
              "0     E 17 St & Broadway  ...     291615\n",
              "1  Lafayette St & E 8 St  ...     277060\n",
              "2        W 21 St & 6 Ave  ...     275348\n",
              "\n",
              "[3 rows x 4 columns]"
            ]
          },
          "metadata": {
            "tags": []
          },
          "execution_count": 25
        }
      ]
    },
    {
      "cell_type": "markdown",
      "metadata": {
        "id": "7rL8EyhltBIN"
      },
      "source": [
        "# New York Citi Bike Trips: What are the most popular routes by subscriber type?\n",
        "Using data from [Google BigQuery](https://console.cloud.google.com/marketplace/product/city-of-new-york/nyc-citi-bike), find top 3 the most popular routes by subscriber type"
      ]
    },
    {
      "cell_type": "code",
      "metadata": {
        "colab": {
          "base_uri": "https://localhost:8080/",
          "height": 143
        },
        "id": "ahCbBs-NsAcN",
        "outputId": "f3024602-e8ea-4e06-ed96-b2a15447097f"
      },
      "source": [
        "myquery = \"\"\"\n",
        "SELECT usertype, \n",
        "       CONCAT(start_station_name, \" to \", end_station_name) as route, \n",
        "       COUNT(*) as num_trips,\n",
        "       ROUND(AVG(cast(tripduration as int64) / 60),2) as duration\n",
        "FROM `bigquery-public-data.new_york.citibike_trips`\n",
        "WHERE usertype = 'Subscriber'\n",
        "GROUP BY start_station_name, end_station_name, usertype\n",
        "ORDER BY num_trips DESC\n",
        "LIMIT 3\n",
        "\"\"\"\n",
        "\n",
        "df = read_query(myquery)\n",
        "df"
      ],
      "execution_count": null,
      "outputs": [
        {
          "output_type": "execute_result",
          "data": {
            "text/html": [
              "<div>\n",
              "<style scoped>\n",
              "    .dataframe tbody tr th:only-of-type {\n",
              "        vertical-align: middle;\n",
              "    }\n",
              "\n",
              "    .dataframe tbody tr th {\n",
              "        vertical-align: top;\n",
              "    }\n",
              "\n",
              "    .dataframe thead th {\n",
              "        text-align: right;\n",
              "    }\n",
              "</style>\n",
              "<table border=\"1\" class=\"dataframe\">\n",
              "  <thead>\n",
              "    <tr style=\"text-align: right;\">\n",
              "      <th></th>\n",
              "      <th>usertype</th>\n",
              "      <th>route</th>\n",
              "      <th>num_trips</th>\n",
              "      <th>duration</th>\n",
              "    </tr>\n",
              "  </thead>\n",
              "  <tbody>\n",
              "    <tr>\n",
              "      <th>0</th>\n",
              "      <td>Subscriber</td>\n",
              "      <td>W 21 St &amp; 6 Ave to 9 Ave &amp; W 22 St</td>\n",
              "      <td>11594</td>\n",
              "      <td>5.35</td>\n",
              "    </tr>\n",
              "    <tr>\n",
              "      <th>1</th>\n",
              "      <td>Subscriber</td>\n",
              "      <td>W 21 St &amp; 6 Ave to W 22 St &amp; 10 Ave</td>\n",
              "      <td>10451</td>\n",
              "      <td>6.95</td>\n",
              "    </tr>\n",
              "    <tr>\n",
              "      <th>2</th>\n",
              "      <td>Subscriber</td>\n",
              "      <td>E 7 St &amp; Avenue A to Lafayette St &amp; E 8 St</td>\n",
              "      <td>9639</td>\n",
              "      <td>5.59</td>\n",
              "    </tr>\n",
              "  </tbody>\n",
              "</table>\n",
              "</div>"
            ],
            "text/plain": [
              "     usertype                                       route  num_trips  duration\n",
              "0  Subscriber          W 21 St & 6 Ave to 9 Ave & W 22 St      11594      5.35\n",
              "1  Subscriber         W 21 St & 6 Ave to W 22 St & 10 Ave      10451      6.95\n",
              "2  Subscriber  E 7 St & Avenue A to Lafayette St & E 8 St       9639      5.59"
            ]
          },
          "metadata": {
            "tags": []
          },
          "execution_count": 29
        }
      ]
    },
    {
      "cell_type": "markdown",
      "metadata": {
        "id": "AmIL2v58tCK5"
      },
      "source": [
        "# New York Citi Bike Trips: What are the top routes by gender? \n",
        "Using data from [Google BigQuery](https://console.cloud.google.com/marketplace/product/city-of-new-york/nyc-citi-bike), find top 3 routes by gender"
      ]
    },
    {
      "cell_type": "code",
      "metadata": {
        "colab": {
          "base_uri": "https://localhost:8080/",
          "height": 143
        },
        "id": "nJl1AMBDtDK6",
        "outputId": "5fa90e17-d705-4de2-c23e-c45c65676be3"
      },
      "source": [
        "myquery = \"\"\"\n",
        "SELECT CONCAT(start_station_name, \" to \", end_station_name) AS route,\n",
        "       COUNT(*) AS num_trips\n",
        "FROM `bigquery-public-data.new_york.citibike_trips`\n",
        "WHERE gender = \"female\"\n",
        "      AND CAST(starttime AS string) LIKE '2016%'\n",
        "GROUP BY start_station_name,\n",
        "         end_station_name\n",
        "ORDER BY num_trips DESC\n",
        "LIMIT 3\n",
        "\"\"\"\n",
        "\n",
        "df = read_query(myquery)\n",
        "df"
      ],
      "execution_count": null,
      "outputs": [
        {
          "output_type": "execute_result",
          "data": {
            "text/html": [
              "<div>\n",
              "<style scoped>\n",
              "    .dataframe tbody tr th:only-of-type {\n",
              "        vertical-align: middle;\n",
              "    }\n",
              "\n",
              "    .dataframe tbody tr th {\n",
              "        vertical-align: top;\n",
              "    }\n",
              "\n",
              "    .dataframe thead th {\n",
              "        text-align: right;\n",
              "    }\n",
              "</style>\n",
              "<table border=\"1\" class=\"dataframe\">\n",
              "  <thead>\n",
              "    <tr style=\"text-align: right;\">\n",
              "      <th></th>\n",
              "      <th>route</th>\n",
              "      <th>num_trips</th>\n",
              "    </tr>\n",
              "  </thead>\n",
              "  <tbody>\n",
              "    <tr>\n",
              "      <th>0</th>\n",
              "      <td>W 21 St &amp; 6 Ave to W 22 St &amp; 10 Ave</td>\n",
              "      <td>942</td>\n",
              "    </tr>\n",
              "    <tr>\n",
              "      <th>1</th>\n",
              "      <td>N 6 St &amp; Bedford Ave to Wythe Ave &amp; Metropolit...</td>\n",
              "      <td>905</td>\n",
              "    </tr>\n",
              "    <tr>\n",
              "      <th>2</th>\n",
              "      <td>W 21 St &amp; 6 Ave to 9 Ave &amp; W 22 St</td>\n",
              "      <td>809</td>\n",
              "    </tr>\n",
              "  </tbody>\n",
              "</table>\n",
              "</div>"
            ],
            "text/plain": [
              "                                               route  num_trips\n",
              "0                W 21 St & 6 Ave to W 22 St & 10 Ave        942\n",
              "1  N 6 St & Bedford Ave to Wythe Ave & Metropolit...        905\n",
              "2                 W 21 St & 6 Ave to 9 Ave & W 22 St        809"
            ]
          },
          "metadata": {
            "tags": []
          },
          "execution_count": 30
        }
      ]
    },
    {
      "cell_type": "markdown",
      "metadata": {
        "id": "JlTYvn1JBifV"
      },
      "source": [
        "# Calculate the average trip duration per station on a monthly basis in 2018\n",
        "Calculate the average trip duration per `start_station_id` on a monthly basis in 2018 -extracted from trips's starttime- and print the `station name`. Sort by month ascending and average trip duration descending, then only print the first 5 rows"
      ]
    },
    {
      "cell_type": "code",
      "metadata": {
        "id": "As3skiVxxlBg",
        "colab": {
          "base_uri": "https://localhost:8080/",
          "height": 206
        },
        "outputId": "52d389ba-a06a-4d9c-db7c-fea6e39033b5"
      },
      "source": [
        "myquery = \"\"\"\n",
        "SELECT FORMAT_DATE(\"%Y-%m\", starttime) AS month, \n",
        "       start_station_id, start_station_name,  \n",
        "       ROUND(AVG(tripduration), 2) AS avg_trip_duration\n",
        "FROM `bigquery-public-data.new_york_citibike.citibike_trips`\n",
        "WHERE starttime >= '2018-01-01 00:00:00' AND starttime <= '2018-12-31 23:59:59'\n",
        "GROUP BY month, start_station_id, start_station_name\n",
        "ORDER BY month ASC, avg_trip_duration DESC\n",
        "LIMIT 5\n",
        "\"\"\"\n",
        "\n",
        "df = read_query(myquery)\n",
        "df"
      ],
      "execution_count": null,
      "outputs": [
        {
          "output_type": "execute_result",
          "data": {
            "text/html": [
              "<div>\n",
              "<style scoped>\n",
              "    .dataframe tbody tr th:only-of-type {\n",
              "        vertical-align: middle;\n",
              "    }\n",
              "\n",
              "    .dataframe tbody tr th {\n",
              "        vertical-align: top;\n",
              "    }\n",
              "\n",
              "    .dataframe thead th {\n",
              "        text-align: right;\n",
              "    }\n",
              "</style>\n",
              "<table border=\"1\" class=\"dataframe\">\n",
              "  <thead>\n",
              "    <tr style=\"text-align: right;\">\n",
              "      <th></th>\n",
              "      <th>month</th>\n",
              "      <th>start_station_id</th>\n",
              "      <th>start_station_name</th>\n",
              "      <th>avg_trip_duration</th>\n",
              "    </tr>\n",
              "  </thead>\n",
              "  <tbody>\n",
              "    <tr>\n",
              "      <th>0</th>\n",
              "      <td>2018-01</td>\n",
              "      <td>3082</td>\n",
              "      <td>Hope St &amp; Union Ave</td>\n",
              "      <td>44090.61</td>\n",
              "    </tr>\n",
              "    <tr>\n",
              "      <th>1</th>\n",
              "      <td>2018-01</td>\n",
              "      <td>3537</td>\n",
              "      <td>Carlton Ave &amp; Dean St</td>\n",
              "      <td>34165.41</td>\n",
              "    </tr>\n",
              "    <tr>\n",
              "      <th>2</th>\n",
              "      <td>2018-01</td>\n",
              "      <td>3485</td>\n",
              "      <td>NYCBS Depot - RIS</td>\n",
              "      <td>20677.00</td>\n",
              "    </tr>\n",
              "    <tr>\n",
              "      <th>3</th>\n",
              "      <td>2018-01</td>\n",
              "      <td>3650</td>\n",
              "      <td>8D Mobile 01</td>\n",
              "      <td>17775.89</td>\n",
              "    </tr>\n",
              "    <tr>\n",
              "      <th>4</th>\n",
              "      <td>2018-01</td>\n",
              "      <td>501</td>\n",
              "      <td>FDR Drive &amp; E 35 St</td>\n",
              "      <td>9635.16</td>\n",
              "    </tr>\n",
              "  </tbody>\n",
              "</table>\n",
              "</div>"
            ],
            "text/plain": [
              "     month  start_station_id     start_station_name  avg_trip_duration\n",
              "0  2018-01              3082    Hope St & Union Ave           44090.61\n",
              "1  2018-01              3537  Carlton Ave & Dean St           34165.41\n",
              "2  2018-01              3485      NYCBS Depot - RIS           20677.00\n",
              "3  2018-01              3650           8D Mobile 01           17775.89\n",
              "4  2018-01               501    FDR Drive & E 35 St            9635.16"
            ]
          },
          "metadata": {
            "tags": []
          },
          "execution_count": 5
        }
      ]
    },
    {
      "cell_type": "markdown",
      "metadata": {
        "id": "9XGxeGJTBz-z"
      },
      "source": [
        "# Find the most favorite start station and end station for male customers in 2017\n",
        "Pull the most favorite start station and end station for male customers in 2017 -year filter extracted from trip's starttime"
      ]
    },
    {
      "cell_type": "code",
      "metadata": {
        "colab": {
          "base_uri": "https://localhost:8080/",
          "height": 81
        },
        "id": "TtYsTxQdB8Ji",
        "outputId": "974559be-6600-4630-aa13-40391ef856f4"
      },
      "source": [
        "myquery = \"\"\"\n",
        "SELECT gender, \n",
        "       start_station_name AS favorite_start_station, \n",
        "       end_station_name AS favorite_end_station\n",
        "FROM `bigquery-public-data.new_york_citibike.citibike_trips`\n",
        "WHERE starttime >= '2017-01-01 00:00:00' \n",
        "      AND starttime <= '2017-12-31 23:59:59' AND gender = 'male'\n",
        "GROUP BY gender, favorite_start_station, favorite_end_station\n",
        "ORDER BY COUNT(start_station_id) DESC, COUNT(end_station_id) DESC\n",
        "LIMIT 1\n",
        "\"\"\"\n",
        "\n",
        "df = read_query(myquery)\n",
        "df"
      ],
      "execution_count": null,
      "outputs": [
        {
          "output_type": "execute_result",
          "data": {
            "text/html": [
              "<div>\n",
              "<style scoped>\n",
              "    .dataframe tbody tr th:only-of-type {\n",
              "        vertical-align: middle;\n",
              "    }\n",
              "\n",
              "    .dataframe tbody tr th {\n",
              "        vertical-align: top;\n",
              "    }\n",
              "\n",
              "    .dataframe thead th {\n",
              "        text-align: right;\n",
              "    }\n",
              "</style>\n",
              "<table border=\"1\" class=\"dataframe\">\n",
              "  <thead>\n",
              "    <tr style=\"text-align: right;\">\n",
              "      <th></th>\n",
              "      <th>gender</th>\n",
              "      <th>favorite_start_station</th>\n",
              "      <th>favorite_end_station</th>\n",
              "    </tr>\n",
              "  </thead>\n",
              "  <tbody>\n",
              "    <tr>\n",
              "      <th>0</th>\n",
              "      <td>male</td>\n",
              "      <td>E 7 St &amp; Avenue A</td>\n",
              "      <td>Cooper Square &amp; E 7 St</td>\n",
              "    </tr>\n",
              "  </tbody>\n",
              "</table>\n",
              "</div>"
            ],
            "text/plain": [
              "  gender favorite_start_station    favorite_end_station\n",
              "0   male      E 7 St & Avenue A  Cooper Square & E 7 St"
            ]
          },
          "metadata": {
            "tags": []
          },
          "execution_count": 6
        }
      ]
    },
    {
      "cell_type": "markdown",
      "metadata": {
        "id": "eQEyhGi-B87A"
      },
      "source": [
        "# Show the top 3 stations with the most total trip duration each year\n",
        "Pull the top 3 stations with the most total trip duration each year, between 2015 to 2018 -year filter extracted from trip's starttime. Sort by year ascending. For each year, rank these stations in the ascending order, with the 1st rank as the station with the most total trip duration"
      ]
    },
    {
      "cell_type": "code",
      "metadata": {
        "colab": {
          "base_uri": "https://localhost:8080/",
          "height": 426
        },
        "id": "LudEUeqyCUlg",
        "outputId": "bcdf7b6e-4593-4fd2-9dfc-e7fa19ed0203"
      },
      "source": [
        "myquery = \"\"\"\n",
        "SELECT year,\n",
        "       station_name,\n",
        "       total_trip_duration,\n",
        "       rank\n",
        "FROM (\n",
        "      SELECT FORMAT_DATE(\"%Y\", starttime) AS year,\n",
        "             start_station_name AS station_name,\n",
        "             SUM(tripduration) AS total_trip_duration,\n",
        "             ROW_NUMBER() OVER (PARTITION BY FORMAT_DATE(\"%Y\", starttime) \n",
        "                          ORDER BY SUM(tripduration) DESC) AS rank\n",
        "      FROM `bigquery-public-data.new_york_citibike.citibike_trips`\n",
        "      WHERE starttime >= '2015-01-01 00:00:00' \n",
        "            AND starttime <= '2018-12-31 23:59:59'\n",
        "      GROUP BY starttime, start_station_name\n",
        "      )\n",
        "WHERE rank <= 3\n",
        "ORDER BY year\n",
        "\"\"\"\n",
        "\n",
        "df = read_query(myquery)\n",
        "df"
      ],
      "execution_count": null,
      "outputs": [
        {
          "output_type": "execute_result",
          "data": {
            "text/html": [
              "<div>\n",
              "<style scoped>\n",
              "    .dataframe tbody tr th:only-of-type {\n",
              "        vertical-align: middle;\n",
              "    }\n",
              "\n",
              "    .dataframe tbody tr th {\n",
              "        vertical-align: top;\n",
              "    }\n",
              "\n",
              "    .dataframe thead th {\n",
              "        text-align: right;\n",
              "    }\n",
              "</style>\n",
              "<table border=\"1\" class=\"dataframe\">\n",
              "  <thead>\n",
              "    <tr style=\"text-align: right;\">\n",
              "      <th></th>\n",
              "      <th>year</th>\n",
              "      <th>station_name</th>\n",
              "      <th>total_trip_duration</th>\n",
              "      <th>rank</th>\n",
              "    </tr>\n",
              "  </thead>\n",
              "  <tbody>\n",
              "    <tr>\n",
              "      <th>0</th>\n",
              "      <td>2015</td>\n",
              "      <td>Lexington Ave &amp; E 24 St</td>\n",
              "      <td>5864661</td>\n",
              "      <td>1</td>\n",
              "    </tr>\n",
              "    <tr>\n",
              "      <th>1</th>\n",
              "      <td>2015</td>\n",
              "      <td>South St &amp; Whitehall St</td>\n",
              "      <td>5174309</td>\n",
              "      <td>2</td>\n",
              "    </tr>\n",
              "    <tr>\n",
              "      <th>2</th>\n",
              "      <td>2015</td>\n",
              "      <td>Greenwich Ave &amp; Charles St</td>\n",
              "      <td>3742976</td>\n",
              "      <td>3</td>\n",
              "    </tr>\n",
              "    <tr>\n",
              "      <th>3</th>\n",
              "      <td>2016</td>\n",
              "      <td>Fulton St &amp; Grand Ave</td>\n",
              "      <td>6707533</td>\n",
              "      <td>1</td>\n",
              "    </tr>\n",
              "    <tr>\n",
              "      <th>4</th>\n",
              "      <td>2016</td>\n",
              "      <td>Vesey Pl &amp; River Terrace</td>\n",
              "      <td>6177145</td>\n",
              "      <td>2</td>\n",
              "    </tr>\n",
              "    <tr>\n",
              "      <th>5</th>\n",
              "      <td>2016</td>\n",
              "      <td>Central Park S &amp; 6 Ave</td>\n",
              "      <td>6053789</td>\n",
              "      <td>3</td>\n",
              "    </tr>\n",
              "    <tr>\n",
              "      <th>6</th>\n",
              "      <td>2017</td>\n",
              "      <td>Fulton St &amp; Rockwell Pl</td>\n",
              "      <td>9735948</td>\n",
              "      <td>1</td>\n",
              "    </tr>\n",
              "    <tr>\n",
              "      <th>7</th>\n",
              "      <td>2017</td>\n",
              "      <td>Atlantic Ave &amp; Fort Greene Pl</td>\n",
              "      <td>9582723</td>\n",
              "      <td>2</td>\n",
              "    </tr>\n",
              "    <tr>\n",
              "      <th>8</th>\n",
              "      <td>2017</td>\n",
              "      <td>Fulton St &amp; Utica Ave</td>\n",
              "      <td>9340261</td>\n",
              "      <td>3</td>\n",
              "    </tr>\n",
              "    <tr>\n",
              "      <th>9</th>\n",
              "      <td>2018</td>\n",
              "      <td>Hope St &amp; Union Ave</td>\n",
              "      <td>19510049</td>\n",
              "      <td>1</td>\n",
              "    </tr>\n",
              "    <tr>\n",
              "      <th>10</th>\n",
              "      <td>2018</td>\n",
              "      <td>Grand Army Plaza &amp; Plaza St West</td>\n",
              "      <td>15962256</td>\n",
              "      <td>2</td>\n",
              "    </tr>\n",
              "    <tr>\n",
              "      <th>11</th>\n",
              "      <td>2018</td>\n",
              "      <td>Kingston Ave &amp; Herkimer St</td>\n",
              "      <td>15020934</td>\n",
              "      <td>3</td>\n",
              "    </tr>\n",
              "  </tbody>\n",
              "</table>\n",
              "</div>"
            ],
            "text/plain": [
              "    year                      station_name  total_trip_duration  rank\n",
              "0   2015           Lexington Ave & E 24 St              5864661     1\n",
              "1   2015           South St & Whitehall St              5174309     2\n",
              "2   2015        Greenwich Ave & Charles St              3742976     3\n",
              "3   2016             Fulton St & Grand Ave              6707533     1\n",
              "4   2016          Vesey Pl & River Terrace              6177145     2\n",
              "5   2016            Central Park S & 6 Ave              6053789     3\n",
              "6   2017           Fulton St & Rockwell Pl              9735948     1\n",
              "7   2017     Atlantic Ave & Fort Greene Pl              9582723     2\n",
              "8   2017             Fulton St & Utica Ave              9340261     3\n",
              "9   2018               Hope St & Union Ave             19510049     1\n",
              "10  2018  Grand Army Plaza & Plaza St West             15962256     2\n",
              "11  2018        Kingston Ave & Herkimer St             15020934     3"
            ]
          },
          "metadata": {
            "tags": []
          },
          "execution_count": 7
        }
      ]
    },
    {
      "cell_type": "markdown",
      "metadata": {
        "id": "XCoABcOUCV5K"
      },
      "source": [
        "# Pivot Table: Flight Table"
      ]
    },
    {
      "cell_type": "code",
      "metadata": {
        "colab": {
          "base_uri": "https://localhost:8080/",
          "height": 175
        },
        "id": "SuTl4eowCU81",
        "outputId": "55a996a9-cbab-46a4-b460-70b2a32def84"
      },
      "source": [
        "myquery = \"\"\"\n",
        "SELECT airline, departure_airport, AVG(departure_delay)\n",
        "FROM `bigquery-samples.airline_ontime_data.flights`\n",
        "GROUP BY 1, 2\n",
        "\"\"\"\n",
        "\n",
        "df = read_query(myquery)\n",
        "df.head(4)"
      ],
      "execution_count": null,
      "outputs": [
        {
          "output_type": "execute_result",
          "data": {
            "text/html": [
              "<div>\n",
              "<style scoped>\n",
              "    .dataframe tbody tr th:only-of-type {\n",
              "        vertical-align: middle;\n",
              "    }\n",
              "\n",
              "    .dataframe tbody tr th {\n",
              "        vertical-align: top;\n",
              "    }\n",
              "\n",
              "    .dataframe thead th {\n",
              "        text-align: right;\n",
              "    }\n",
              "</style>\n",
              "<table border=\"1\" class=\"dataframe\">\n",
              "  <thead>\n",
              "    <tr style=\"text-align: right;\">\n",
              "      <th></th>\n",
              "      <th>airline</th>\n",
              "      <th>departure_airport</th>\n",
              "      <th>f0_</th>\n",
              "    </tr>\n",
              "  </thead>\n",
              "  <tbody>\n",
              "    <tr>\n",
              "      <th>0</th>\n",
              "      <td>NW</td>\n",
              "      <td>BOS</td>\n",
              "      <td>5.649114</td>\n",
              "    </tr>\n",
              "    <tr>\n",
              "      <th>1</th>\n",
              "      <td>NW</td>\n",
              "      <td>JAC</td>\n",
              "      <td>4.636426</td>\n",
              "    </tr>\n",
              "    <tr>\n",
              "      <th>2</th>\n",
              "      <td>WN</td>\n",
              "      <td>BHM</td>\n",
              "      <td>8.494801</td>\n",
              "    </tr>\n",
              "    <tr>\n",
              "      <th>3</th>\n",
              "      <td>DL</td>\n",
              "      <td>SJU</td>\n",
              "      <td>2.809100</td>\n",
              "    </tr>\n",
              "  </tbody>\n",
              "</table>\n",
              "</div>"
            ],
            "text/plain": [
              "  airline departure_airport       f0_\n",
              "0      NW               BOS  5.649114\n",
              "1      NW               JAC  4.636426\n",
              "2      WN               BHM  8.494801\n",
              "3      DL               SJU  2.809100"
            ]
          },
          "metadata": {
            "tags": []
          },
          "execution_count": 16
        }
      ]
    },
    {
      "cell_type": "code",
      "metadata": {
        "colab": {
          "base_uri": "https://localhost:8080/",
          "height": 238
        },
        "id": "WeFUOQ8wG8Wq",
        "outputId": "5f9018ce-6a62-41cb-8907-0de5a28a4b89"
      },
      "source": [
        "myquery = \"\"\"\n",
        "SELECT airline, COUNT(airline) AS frequency\n",
        "FROM `bigquery-samples.airline_ontime_data.flights`\n",
        "GROUP BY airline\n",
        "ORDER BY frequency DESC\n",
        "LIMIT 6\n",
        "\"\"\"\n",
        "\n",
        "df = read_query(myquery)\n",
        "df"
      ],
      "execution_count": null,
      "outputs": [
        {
          "output_type": "execute_result",
          "data": {
            "text/html": [
              "<div>\n",
              "<style scoped>\n",
              "    .dataframe tbody tr th:only-of-type {\n",
              "        vertical-align: middle;\n",
              "    }\n",
              "\n",
              "    .dataframe tbody tr th {\n",
              "        vertical-align: top;\n",
              "    }\n",
              "\n",
              "    .dataframe thead th {\n",
              "        text-align: right;\n",
              "    }\n",
              "</style>\n",
              "<table border=\"1\" class=\"dataframe\">\n",
              "  <thead>\n",
              "    <tr style=\"text-align: right;\">\n",
              "      <th></th>\n",
              "      <th>airline</th>\n",
              "      <th>frequency</th>\n",
              "    </tr>\n",
              "  </thead>\n",
              "  <tbody>\n",
              "    <tr>\n",
              "      <th>0</th>\n",
              "      <td>WN</td>\n",
              "      <td>11723133</td>\n",
              "    </tr>\n",
              "    <tr>\n",
              "      <th>1</th>\n",
              "      <td>AA</td>\n",
              "      <td>6822440</td>\n",
              "    </tr>\n",
              "    <tr>\n",
              "      <th>2</th>\n",
              "      <td>DL</td>\n",
              "      <td>6607317</td>\n",
              "    </tr>\n",
              "    <tr>\n",
              "      <th>3</th>\n",
              "      <td>OO</td>\n",
              "      <td>5158971</td>\n",
              "    </tr>\n",
              "    <tr>\n",
              "      <th>4</th>\n",
              "      <td>UA</td>\n",
              "      <td>5043578</td>\n",
              "    </tr>\n",
              "    <tr>\n",
              "      <th>5</th>\n",
              "      <td>MQ</td>\n",
              "      <td>5020385</td>\n",
              "    </tr>\n",
              "  </tbody>\n",
              "</table>\n",
              "</div>"
            ],
            "text/plain": [
              "  airline  frequency\n",
              "0      WN   11723133\n",
              "1      AA    6822440\n",
              "2      DL    6607317\n",
              "3      OO    5158971\n",
              "4      UA    5043578\n",
              "5      MQ    5020385"
            ]
          },
          "metadata": {
            "tags": []
          },
          "execution_count": 14
        }
      ]
    },
    {
      "cell_type": "code",
      "metadata": {
        "colab": {
          "base_uri": "https://localhost:8080/",
          "height": 175
        },
        "id": "4f2CMfKeDw11",
        "outputId": "bf8e9220-9678-4a7f-cffc-98ebdb190491"
      },
      "source": [
        "myquery = \"\"\"\n",
        "SELECT * \n",
        "FROM (\n",
        "  SELECT airline, departure_airport, departure_delay\n",
        "  FROM `bigquery-samples.airline_ontime_data.flights`)\n",
        "PIVOT (\n",
        "  AVG(departure_delay) AS avg_delay\n",
        "  FOR airline in ('WN', 'AA', 'DL', 'OO', 'UA', 'MQ'))\n",
        "\"\"\"\n",
        "\n",
        "df = read_query(myquery)\n",
        "df.head(4)"
      ],
      "execution_count": null,
      "outputs": [
        {
          "output_type": "execute_result",
          "data": {
            "text/html": [
              "<div>\n",
              "<style scoped>\n",
              "    .dataframe tbody tr th:only-of-type {\n",
              "        vertical-align: middle;\n",
              "    }\n",
              "\n",
              "    .dataframe tbody tr th {\n",
              "        vertical-align: top;\n",
              "    }\n",
              "\n",
              "    .dataframe thead th {\n",
              "        text-align: right;\n",
              "    }\n",
              "</style>\n",
              "<table border=\"1\" class=\"dataframe\">\n",
              "  <thead>\n",
              "    <tr style=\"text-align: right;\">\n",
              "      <th></th>\n",
              "      <th>departure_airport</th>\n",
              "      <th>avg_delay_WN</th>\n",
              "      <th>avg_delay_AA</th>\n",
              "      <th>avg_delay_DL</th>\n",
              "      <th>avg_delay_OO</th>\n",
              "      <th>avg_delay_UA</th>\n",
              "      <th>avg_delay_MQ</th>\n",
              "    </tr>\n",
              "  </thead>\n",
              "  <tbody>\n",
              "    <tr>\n",
              "      <th>0</th>\n",
              "      <td>HNL</td>\n",
              "      <td>NaN</td>\n",
              "      <td>5.651569</td>\n",
              "      <td>3.053920</td>\n",
              "      <td>NaN</td>\n",
              "      <td>4.806615</td>\n",
              "      <td>NaN</td>\n",
              "    </tr>\n",
              "    <tr>\n",
              "      <th>1</th>\n",
              "      <td>OKC</td>\n",
              "      <td>7.338191</td>\n",
              "      <td>3.172036</td>\n",
              "      <td>5.041696</td>\n",
              "      <td>5.422330</td>\n",
              "      <td>1.777040</td>\n",
              "      <td>9.765432</td>\n",
              "    </tr>\n",
              "    <tr>\n",
              "      <th>2</th>\n",
              "      <td>BHM</td>\n",
              "      <td>8.494801</td>\n",
              "      <td>5.413125</td>\n",
              "      <td>5.013780</td>\n",
              "      <td>11.584052</td>\n",
              "      <td>NaN</td>\n",
              "      <td>9.564232</td>\n",
              "    </tr>\n",
              "    <tr>\n",
              "      <th>3</th>\n",
              "      <td>TUS</td>\n",
              "      <td>7.241627</td>\n",
              "      <td>6.085681</td>\n",
              "      <td>4.267448</td>\n",
              "      <td>3.345292</td>\n",
              "      <td>3.389318</td>\n",
              "      <td>-0.394254</td>\n",
              "    </tr>\n",
              "  </tbody>\n",
              "</table>\n",
              "</div>"
            ],
            "text/plain": [
              "  departure_airport  avg_delay_WN  ...  avg_delay_UA  avg_delay_MQ\n",
              "0               HNL           NaN  ...      4.806615           NaN\n",
              "1               OKC      7.338191  ...      1.777040      9.765432\n",
              "2               BHM      8.494801  ...           NaN      9.564232\n",
              "3               TUS      7.241627  ...      3.389318     -0.394254\n",
              "\n",
              "[4 rows x 7 columns]"
            ]
          },
          "metadata": {
            "tags": []
          },
          "execution_count": 15
        }
      ]
    },
    {
      "cell_type": "markdown",
      "metadata": {
        "id": "uq2La6qgIEiD"
      },
      "source": [
        "# Pivot Table: Stackoverflow user"
      ]
    },
    {
      "cell_type": "code",
      "metadata": {
        "colab": {
          "base_uri": "https://localhost:8080/",
          "height": 175
        },
        "id": "EsYSXVaVEh7U",
        "outputId": "7f734916-d83a-478e-e962-d68b275e301d"
      },
      "source": [
        "myquery = \"\"\"\n",
        "SELECT tag, EXTRACT(YEAR FROM creation_date) AS year, COUNT(tags) AS frequency\n",
        "FROM `bigquery-public-data.stackoverflow.posts_questions`, \n",
        "      UNNEST(SPLIT(tags, '|')) AS tag\n",
        "WHERE tags IS NOT null\n",
        "GROUP BY 1, 2\n",
        "ORDER BY year DESC, frequency DESC\n",
        "\"\"\"\n",
        "\n",
        "df = read_query(myquery)\n",
        "df.head(4)"
      ],
      "execution_count": null,
      "outputs": [
        {
          "output_type": "execute_result",
          "data": {
            "text/html": [
              "<div>\n",
              "<style scoped>\n",
              "    .dataframe tbody tr th:only-of-type {\n",
              "        vertical-align: middle;\n",
              "    }\n",
              "\n",
              "    .dataframe tbody tr th {\n",
              "        vertical-align: top;\n",
              "    }\n",
              "\n",
              "    .dataframe thead th {\n",
              "        text-align: right;\n",
              "    }\n",
              "</style>\n",
              "<table border=\"1\" class=\"dataframe\">\n",
              "  <thead>\n",
              "    <tr style=\"text-align: right;\">\n",
              "      <th></th>\n",
              "      <th>tag</th>\n",
              "      <th>year</th>\n",
              "      <th>frequency</th>\n",
              "    </tr>\n",
              "  </thead>\n",
              "  <tbody>\n",
              "    <tr>\n",
              "      <th>0</th>\n",
              "      <td>python</td>\n",
              "      <td>2021</td>\n",
              "      <td>135538</td>\n",
              "    </tr>\n",
              "    <tr>\n",
              "      <th>1</th>\n",
              "      <td>javascript</td>\n",
              "      <td>2021</td>\n",
              "      <td>96506</td>\n",
              "    </tr>\n",
              "    <tr>\n",
              "      <th>2</th>\n",
              "      <td>java</td>\n",
              "      <td>2021</td>\n",
              "      <td>49836</td>\n",
              "    </tr>\n",
              "    <tr>\n",
              "      <th>3</th>\n",
              "      <td>reactjs</td>\n",
              "      <td>2021</td>\n",
              "      <td>43359</td>\n",
              "    </tr>\n",
              "  </tbody>\n",
              "</table>\n",
              "</div>"
            ],
            "text/plain": [
              "          tag  year  frequency\n",
              "0      python  2021     135538\n",
              "1  javascript  2021      96506\n",
              "2        java  2021      49836\n",
              "3     reactjs  2021      43359"
            ]
          },
          "metadata": {
            "tags": []
          },
          "execution_count": 20
        }
      ]
    },
    {
      "cell_type": "code",
      "metadata": {
        "colab": {
          "base_uri": "https://localhost:8080/",
          "height": 230
        },
        "id": "sE8LGZRDKiaM",
        "outputId": "12c55986-60c7-4d3b-f0ff-b7afc4965679"
      },
      "source": [
        "myquery = \"\"\"\n",
        "SELECT *\n",
        "FROM (\n",
        "  SELECT tag, EXTRACT(YEAR FROM creation_date) AS year\n",
        "  FROM `bigquery-public-data.stackoverflow.posts_questions`, \n",
        "        UNNEST(SPLIT(tags, '|')) AS tag)\n",
        "PIVOT (\n",
        "  COUNT (*) AS frequency\n",
        "  FOR year IN (2011, 2012, 2013, 2014, 2015, 2016, 2017, 2018, 2019, 2020))\n",
        "\"\"\"\n",
        "\n",
        "df = read_query(myquery)\n",
        "df.head(4)"
      ],
      "execution_count": null,
      "outputs": [
        {
          "output_type": "execute_result",
          "data": {
            "text/html": [
              "<div>\n",
              "<style scoped>\n",
              "    .dataframe tbody tr th:only-of-type {\n",
              "        vertical-align: middle;\n",
              "    }\n",
              "\n",
              "    .dataframe tbody tr th {\n",
              "        vertical-align: top;\n",
              "    }\n",
              "\n",
              "    .dataframe thead th {\n",
              "        text-align: right;\n",
              "    }\n",
              "</style>\n",
              "<table border=\"1\" class=\"dataframe\">\n",
              "  <thead>\n",
              "    <tr style=\"text-align: right;\">\n",
              "      <th></th>\n",
              "      <th>tag</th>\n",
              "      <th>frequency_2011</th>\n",
              "      <th>frequency_2012</th>\n",
              "      <th>frequency_2013</th>\n",
              "      <th>frequency_2014</th>\n",
              "      <th>frequency_2015</th>\n",
              "      <th>frequency_2016</th>\n",
              "      <th>frequency_2017</th>\n",
              "      <th>frequency_2018</th>\n",
              "      <th>frequency_2019</th>\n",
              "      <th>frequency_2020</th>\n",
              "    </tr>\n",
              "  </thead>\n",
              "  <tbody>\n",
              "    <tr>\n",
              "      <th>0</th>\n",
              "      <td>lighttpd</td>\n",
              "      <td>124</td>\n",
              "      <td>150</td>\n",
              "      <td>151</td>\n",
              "      <td>101</td>\n",
              "      <td>74</td>\n",
              "      <td>89</td>\n",
              "      <td>60</td>\n",
              "      <td>42</td>\n",
              "      <td>36</td>\n",
              "      <td>34</td>\n",
              "    </tr>\n",
              "    <tr>\n",
              "      <th>1</th>\n",
              "      <td>vba</td>\n",
              "      <td>3651</td>\n",
              "      <td>6740</td>\n",
              "      <td>12842</td>\n",
              "      <td>16544</td>\n",
              "      <td>21776</td>\n",
              "      <td>23493</td>\n",
              "      <td>26120</td>\n",
              "      <td>23924</td>\n",
              "      <td>22285</td>\n",
              "      <td>19357</td>\n",
              "    </tr>\n",
              "    <tr>\n",
              "      <th>2</th>\n",
              "      <td>ocaml</td>\n",
              "      <td>401</td>\n",
              "      <td>521</td>\n",
              "      <td>737</td>\n",
              "      <td>746</td>\n",
              "      <td>789</td>\n",
              "      <td>679</td>\n",
              "      <td>632</td>\n",
              "      <td>599</td>\n",
              "      <td>533</td>\n",
              "      <td>479</td>\n",
              "    </tr>\n",
              "    <tr>\n",
              "      <th>3</th>\n",
              "      <td>hidden-markov-models</td>\n",
              "      <td>24</td>\n",
              "      <td>56</td>\n",
              "      <td>59</td>\n",
              "      <td>49</td>\n",
              "      <td>60</td>\n",
              "      <td>49</td>\n",
              "      <td>56</td>\n",
              "      <td>47</td>\n",
              "      <td>37</td>\n",
              "      <td>37</td>\n",
              "    </tr>\n",
              "  </tbody>\n",
              "</table>\n",
              "</div>"
            ],
            "text/plain": [
              "                    tag  frequency_2011  ...  frequency_2019  frequency_2020\n",
              "0              lighttpd             124  ...              36              34\n",
              "1                   vba            3651  ...           22285           19357\n",
              "2                 ocaml             401  ...             533             479\n",
              "3  hidden-markov-models              24  ...              37              37\n",
              "\n",
              "[4 rows x 11 columns]"
            ]
          },
          "metadata": {
            "tags": []
          },
          "execution_count": 21
        }
      ]
    }
  ]
}