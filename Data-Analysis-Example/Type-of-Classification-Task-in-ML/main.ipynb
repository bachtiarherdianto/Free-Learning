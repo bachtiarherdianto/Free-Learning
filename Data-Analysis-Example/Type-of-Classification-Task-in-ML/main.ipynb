{
  "nbformat": 4,
  "nbformat_minor": 0,
  "metadata": {
    "colab": {
      "name": "mozarella.ipynb",
      "provenance": [],
      "collapsed_sections": []
    },
    "kernelspec": {
      "name": "python3",
      "display_name": "Python 3"
    }
  },
  "cells": [
    {
      "cell_type": "code",
      "source": [
        "# https://machinelearningmastery.com/types-of-classification-in-machine-learning/\n",
        "# https://machinelearningmastery.com/feature-importance-and-feature-selection-with-xgboost-in-python/"
      ],
      "metadata": {
        "id": "tOy4sVTmWuFO"
      },
      "execution_count": null,
      "outputs": []
    },
    {
      "cell_type": "markdown",
      "source": [
        "# Types of Classification Tasks in Machine Learning"
      ],
      "metadata": {
        "id": "MjKn2o4idL0M"
      }
    },
    {
      "cell_type": "markdown",
      "source": [
        "Classification is a task that requires the use of machine learning algorithms that can learn how to assign a class label to examples from the problem domain. An easy to understand example is classifying emails as _\"spam\"_ or _\"not spam\"_.\n",
        "\n",
        "Thus, in this time, we will look at several different methods for doing classification, that are:\n",
        "\n",
        "1.   Binary Classification\n",
        "2.   Multi-Class Classification\n",
        "3.   Multi-Label Classification\n",
        "4.   Imbalanced Classification\n",
        "\n",
        "In a nutshell, the study of classification involves:\n",
        "\n",
        "*   _Classification predictive modeling_ involves assigning a class label to input examples.\n",
        "*   _Binary classification_ refers to predicting one of two classes and _multi-class classification_ involves predicting one of more than two classes.\n",
        "*   _Multi-label classification_ involves predicting one or more classes for each example and _imbalanced classification_ refers to classification tasks where the distribution of examples across the classes is not equal."
      ],
      "metadata": {
        "id": "re6dC4TMdU1o"
      }
    },
    {
      "cell_type": "markdown",
      "source": [
        "## Classification Predictive Modeling"
      ],
      "metadata": {
        "id": "SxP687tQitPw"
      }
    },
    {
      "cell_type": "code",
      "source": [
        "from numpy import where\n",
        "from collections import Counter\n",
        "import matplotlib.pyplot as plt"
      ],
      "metadata": {
        "id": "RX55IqLcyt7f"
      },
      "execution_count": null,
      "outputs": []
    },
    {
      "cell_type": "markdown",
      "source": [
        "### Binary Classification"
      ],
      "metadata": {
        "id": "tDI60BMJizWm"
      }
    },
    {
      "cell_type": "markdown",
      "source": [
        "Binary classification refers to those classification tasks that have two class labels, such as: Email spam detection (spam or not), churn prediction (churn or not), and conversion prediction (buy or not). Typically, binary classification tasks involve one class that is the normal state and another class that is the abnormal state. For example _\"not spam\"_ is the normal state, and _\"spam\"_ is the abnormal state. Another example is _\"cancer not detedted\"_ is the normal state of a task that involves a medical test and _\"cancer detected\"_ is the abnormal state. *The class for the normal state is assigned the class label 0, and the class with the abnormal state is assigned the class label 1.* \n",
        "\n",
        "It is common to a model a binary classification task with a model that predicts a _Bernouli probability distribution_ for each example. The Bernouli distribution is a discrete probability distributionn that covers a case where an event will have a binary outcome as either a 0 or 1. For a classification, this means that the model predicts a probability of an example belonging to class 1, or the abnormal state.\n",
        "\n",
        "Popular algorithms that can be used for binary classification include:\n",
        "*   Logistic Regression\n",
        "*   k-Nearnest Neighbors\n",
        "*   Decision Trees\n",
        "*   Support Vector Machine\n",
        "*   Naive Bayes\n"
      ],
      "metadata": {
        "id": "52NE_Tt6vLtQ"
      }
    },
    {
      "cell_type": "markdown",
      "source": [
        "For example, we can use the `make_blobs()` function to generate a synthetic binary classification dataset."
      ],
      "metadata": {
        "id": "zu2jFEoq1Y4j"
      }
    },
    {
      "cell_type": "code",
      "source": [
        "from sklearn.datasets import make_blobs"
      ],
      "metadata": {
        "id": "APuUMebgjCxx"
      },
      "execution_count": null,
      "outputs": []
    },
    {
      "cell_type": "code",
      "source": [
        "# define dataset: 1000 examples that belong to 1 of 2 classes, each with 2 input features\n",
        "X, y = make_blobs(n_samples=1000, centers=2, random_state=1)\n",
        "print(X.shape, y.shape) # summarize dataset shape"
      ],
      "metadata": {
        "colab": {
          "base_uri": "https://localhost:8080/"
        },
        "id": "XPSA4LO01r4p",
        "outputId": "3a1ecffb-4686-4a16-f171-6ffe3a74adab"
      },
      "execution_count": null,
      "outputs": [
        {
          "output_type": "stream",
          "name": "stdout",
          "text": [
            "(1000, 2) (1000,)\n"
          ]
        }
      ]
    },
    {
      "cell_type": "markdown",
      "source": [
        "Running the example, first, summarizes the created dataset showing the 1000 examples divided into input $(X)$ and output $(y)$ elements."
      ],
      "metadata": {
        "id": "g2gszHnDVVSU"
      }
    },
    {
      "cell_type": "code",
      "source": [
        "# summarize observations by class label\n",
        "counter = Counter(y)\n",
        "print(counter)"
      ],
      "metadata": {
        "id": "ltMSJuvN2Qyn",
        "colab": {
          "base_uri": "https://localhost:8080/"
        },
        "outputId": "757ddb72-7fe6-418e-f220-c1e93237bd6d"
      },
      "execution_count": null,
      "outputs": [
        {
          "output_type": "stream",
          "name": "stdout",
          "text": [
            "Counter({0: 500, 1: 500})\n"
          ]
        }
      ]
    },
    {
      "cell_type": "markdown",
      "source": [
        "The distribution of the class labels is then summarized, showing that instances belong to either class 0 or class 1 and that there are 500 examples in each class."
      ],
      "metadata": {
        "id": "SrJICDXnVyUr"
      }
    },
    {
      "cell_type": "code",
      "source": [
        "# summarize first few examples\n",
        "for i in range(10):\n",
        "  print(X[i], y[i])"
      ],
      "metadata": {
        "colab": {
          "base_uri": "https://localhost:8080/"
        },
        "id": "F2VDbsZkVkOJ",
        "outputId": "fe0dc6c1-10ab-4bd3-c1e2-e2c7228147d2"
      },
      "execution_count": null,
      "outputs": [
        {
          "output_type": "stream",
          "name": "stdout",
          "text": [
            "[-3.05837272  4.48825769] 0\n",
            "[-8.60973869 -3.72714879] 1\n",
            "[1.37129721 5.23107449] 0\n",
            "[-9.33917563 -2.9544469 ] 1\n",
            "[-11.57178593  -3.85275513] 1\n",
            "[-11.42257341  -4.85679127] 1\n",
            "[-10.44518578  -3.76476563] 1\n",
            "[-10.44603561  -3.26065964] 1\n",
            "[-0.61947075  3.48804983] 0\n",
            "[-10.91115591  -4.5772537 ] 1\n"
          ]
        }
      ]
    },
    {
      "cell_type": "markdown",
      "source": [
        "Next, the first 10 examples in the dataset are summarized, showing the input values are numeric and the target values are integers that represent the class membership."
      ],
      "metadata": {
        "id": "Ti-vrkmRWEwH"
      }
    },
    {
      "cell_type": "code",
      "source": [
        "# plot the dataset and color the class label\n",
        "for label, tmp in counter.items():\n",
        "  row = where(y == label)[0]\n",
        "  plt.scatter(X[row, 0], X[row, 1], label=str(label))\n",
        "\n",
        "plt.legend()\n",
        "plt.show()"
      ],
      "metadata": {
        "colab": {
          "base_uri": "https://localhost:8080/",
          "height": 265
        },
        "id": "avAVzbL3XdFu",
        "outputId": "1f39ff8f-0cf6-4387-b740-b026fa6ce5f3"
      },
      "execution_count": null,
      "outputs": [
        {
          "output_type": "display_data",
          "data": {
            "image/png": "[encoded data removed]",
            "text/plain": [
              "<Figure size 432x288 with 1 Axes>"
            ]
          },
          "metadata": {
            "needs_background": "light"
          }
        }
      ]
    },
    {
      "cell_type": "markdown",
      "source": [
        "Finnaly, a scatter plot is created for the input variables in the dataset and the points are colored based on their class value. We can see two distinct clusters that we might expect would be easy to dicriminate."
      ],
      "metadata": {
        "id": "xzrwXTsLWFn4"
      }
    },
    {
      "cell_type": "markdown",
      "source": [
        "### Multi-Class Classification"
      ],
      "metadata": {
        "id": "2E0u0HLSi3NB"
      }
    },
    {
      "cell_type": "markdown",
      "source": [
        "Multi-class classification refers to those classification tasks that have more than two class labels. Example include:\n",
        "*   Face classification\n",
        "*   Plant species classification\n",
        "*   Optical character recognition\n",
        "\n",
        "Unlike binary classification, multi-class classification does not have the notion of normal and abnormal outcomes. Instead, examples are classified as belonging to one among a range of known classes. \n",
        "\n",
        "The number of class labels may be very large on several problems. For example, a model mayt predict a photo as belonging to one among thousands of tens of thousands of faces in a face recognition system.\n",
        "\n",
        "Problems that involve predicting a sequence of words, such as text translation models, may also be considered a special type of multi-class classification. Each word in the sequence of words to be prewdicted involves a multi-class classification where the size of the vocabulary defines the number of possible classes that may be predicted and could be tens or hundreds of thousands of words in size.\n",
        "\n",
        "It is common to model a multi-class classification task with a model that predicts a _Multinoulli probability distribution_ for each example.\n",
        "\n",
        "_The Multinoulli distribution_ is a discrete probability distribution that covers a case where an event will have a categorical outcome, e.g. $K$ in {1, 2, ..., $K$}. For classification, this means that the model predicts the probability of an example belonging to each class label.\n",
        "\n",
        "Many algorithms used for binary classification can be used for multi-class classification. Popular algorithms that can be used for multi-class classification include:\n",
        "*   k-Nearnest Neighbors\n",
        "*   Decision Trees\n",
        "*   Naive Bayes\n",
        "*   Random Forest\n",
        "*   Gradient Boosting\n",
        "\n",
        "Algorithms that are designed for binary classification can be adapted for use for multi-class problems. This involves using a strategy of fitting multiple binary classification models for each class vs. all other classes (called one-vs-rest) or one model for each pair of classes (called one-vs-one).\n",
        "*   **One-vs-Rest**: fit one binary classification model for each class vs. all other classes.\n",
        "*   **One-vs-One**: fot one binary classification model for each pair of classes.\n",
        "\n",
        "Binary classification algorithms that can use these strategies for multi-class classification include:\n",
        "*   Logistic Regression\n",
        "*   Support Vector Machine\n",
        "\n",
        "\n"
      ],
      "metadata": {
        "id": "tQUN3lVfbWJ3"
      }
    },
    {
      "cell_type": "markdown",
      "source": [
        "For example, we can use the `make_blobs()` function to generate a synthetic binary classification dataset."
      ],
      "metadata": {
        "id": "jKKbqMXlfbx6"
      }
    },
    {
      "cell_type": "markdown",
      "source": [
        ""
      ],
      "metadata": {
        "id": "2Z8N3hBVfxNc"
      }
    },
    {
      "cell_type": "code",
      "source": [
        ""
      ],
      "metadata": {
        "id": "vX2whg9sjCQ5"
      },
      "execution_count": null,
      "outputs": []
    },
    {
      "cell_type": "markdown",
      "source": [
        "The distribution of the class labels is then summarized, showing that instances belong to either class 0 or class 1 and that there are 500 examples in each class."
      ],
      "metadata": {
        "id": "M2yzSUlCffMV"
      }
    },
    {
      "cell_type": "code",
      "source": [
        ""
      ],
      "metadata": {
        "id": "F41rguyLff9S"
      },
      "execution_count": null,
      "outputs": []
    },
    {
      "cell_type": "markdown",
      "source": [
        "Next, the first 10 examples in the dataset are summarized, showing the input values are numeric and the target values are integers that represent the class membership."
      ],
      "metadata": {
        "id": "D5Z7Z-eXflcw"
      }
    },
    {
      "cell_type": "code",
      "source": [
        ""
      ],
      "metadata": {
        "id": "OxoEQzgJfm1W"
      },
      "execution_count": null,
      "outputs": []
    },
    {
      "cell_type": "markdown",
      "source": [
        "Finnaly, a scatter plot is created for the input variables in the dataset and the points are colored based on their class value. We can see two distinct clusters that we might expect would be easy to dicriminate."
      ],
      "metadata": {
        "id": "TfaNJiK7foqq"
      }
    },
    {
      "cell_type": "markdown",
      "source": [
        "### Multi-Label Classification"
      ],
      "metadata": {
        "id": "FEE2awRBi6QT"
      }
    },
    {
      "cell_type": "code",
      "source": [
        ""
      ],
      "metadata": {
        "id": "wni8s9TqjBvt"
      },
      "execution_count": null,
      "outputs": []
    },
    {
      "cell_type": "markdown",
      "source": [
        "### Imbalanced Classification"
      ],
      "metadata": {
        "id": "Nsx_zC0Ni9yz"
      }
    },
    {
      "cell_type": "code",
      "source": [
        ""
      ],
      "metadata": {
        "id": "1inPKhM8_zl9"
      },
      "execution_count": null,
      "outputs": []
    },
    {
      "cell_type": "markdown",
      "source": [
        "# Developing XGBoost Model"
      ],
      "metadata": {
        "id": "ziZJWkbG3h4x"
      }
    },
    {
      "cell_type": "markdown",
      "source": [
        "**XGBoost** is an implementation of gradient boosted decision trees designed for speed and performance that is dominative competitive machine learning."
      ],
      "metadata": {
        "id": "VGiHHE883pjI"
      }
    },
    {
      "cell_type": "markdown",
      "source": [
        "## Problem Description: Predict Onset of Diabetes"
      ],
      "metadata": {
        "id": "zvK_kLDr349x"
      }
    },
    {
      "cell_type": "markdown",
      "source": [
        "This dataset is compresed of 8 input variables that describe medical details of patients and one output variable whether the patient will have an onset of diabetes within 5 years. Predictor variables includes the number of pregnancies the patient has had, their BMI, insulin level, age, and so on. In particular, all patients here are females at least 21 years old of Pima Indian heritage."
      ],
      "metadata": {
        "id": "jkR5B3aU3_Y9"
      }
    },
    {
      "cell_type": "markdown",
      "source": [
        "**Inspiration:** Can you build a machine learning model to accurately predict whether or not the patients in the dataset have diabetes or not?"
      ],
      "metadata": {
        "id": "SD6g6jcL4tDe"
      }
    },
    {
      "cell_type": "code",
      "source": [
        "from numpy import loadtxt   # to load CSV as a numpy array\n",
        "from xgboost import XGBClassifier\n",
        "from sklearn.model_selection import train_test_split\n",
        "from sklearn.metrics import accuracy_score"
      ],
      "metadata": {
        "id": "433EMJdw3mMP"
      },
      "execution_count": null,
      "outputs": []
    },
    {
      "cell_type": "markdown",
      "source": [
        "## Load and Prepare Data"
      ],
      "metadata": {
        "id": "cJa5QPQlA1D8"
      }
    },
    {
      "cell_type": "code",
      "source": [
        "dataset = loadtxt(\"/content/drive/MyDrive/Colab Notebooks/pima-indians-diabetes.csv\", delimiter=\",\")"
      ],
      "metadata": {
        "id": "uezFVl9--PNG"
      },
      "execution_count": null,
      "outputs": []
    },
    {
      "cell_type": "code",
      "source": [
        "dataset"
      ],
      "metadata": {
        "colab": {
          "base_uri": "https://localhost:8080/"
        },
        "id": "c84D1LSbG4jA",
        "outputId": "18f0cb99-8619-4d6d-8067-ea5c3067b392"
      },
      "execution_count": null,
      "outputs": [
        {
          "output_type": "execute_result",
          "data": {
            "text/plain": [
              "array([[  6.   , 148.   ,  72.   , ...,   0.627,  50.   ,   1.   ],\n",
              "       [  1.   ,  85.   ,  66.   , ...,   0.351,  31.   ,   0.   ],\n",
              "       [  8.   , 183.   ,  64.   , ...,   0.672,  32.   ,   1.   ],\n",
              "       ...,\n",
              "       [  5.   , 121.   ,  72.   , ...,   0.245,  30.   ,   0.   ],\n",
              "       [  1.   , 126.   ,  60.   , ...,   0.349,  47.   ,   1.   ],\n",
              "       [  1.   ,  93.   ,  70.   , ...,   0.315,  23.   ,   0.   ]])"
            ]
          },
          "metadata": {},
          "execution_count": 6
        }
      ]
    },
    {
      "cell_type": "markdown",
      "source": [
        "We have to separate the columns (attributes or features) of the dataset into input patterns $(x)$ and output patterns $(y)$."
      ],
      "metadata": {
        "id": "-5qku42_GhHG"
      }
    },
    {
      "cell_type": "code",
      "source": [
        "# split data into X and Y\n",
        "X = dataset[:,0:8]\n",
        "Y = dataset[:,8]"
      ],
      "metadata": {
        "id": "1uWG0WdEGVg3"
      },
      "execution_count": null,
      "outputs": []
    },
    {
      "cell_type": "code",
      "source": [
        "X   # input patterns"
      ],
      "metadata": {
        "colab": {
          "base_uri": "https://localhost:8080/"
        },
        "id": "zR6IhjZnG-59",
        "outputId": "a7ec4ade-a415-45e2-b31e-e0f47ae6662a"
      },
      "execution_count": null,
      "outputs": [
        {
          "output_type": "execute_result",
          "data": {
            "text/plain": [
              "array([[  6.   , 148.   ,  72.   , ...,  33.6  ,   0.627,  50.   ],\n",
              "       [  1.   ,  85.   ,  66.   , ...,  26.6  ,   0.351,  31.   ],\n",
              "       [  8.   , 183.   ,  64.   , ...,  23.3  ,   0.672,  32.   ],\n",
              "       ...,\n",
              "       [  5.   , 121.   ,  72.   , ...,  26.2  ,   0.245,  30.   ],\n",
              "       [  1.   , 126.   ,  60.   , ...,  30.1  ,   0.349,  47.   ],\n",
              "       [  1.   ,  93.   ,  70.   , ...,  30.4  ,   0.315,  23.   ]])"
            ]
          },
          "metadata": {},
          "execution_count": 8
        }
      ]
    },
    {
      "cell_type": "code",
      "source": [
        "Y   # output patterns"
      ],
      "metadata": {
        "colab": {
          "base_uri": "https://localhost:8080/"
        },
        "id": "aJdskjBiHG65",
        "outputId": "52355e23-4bc1-4169-c6fd-0f8fea9acbc7"
      },
      "execution_count": null,
      "outputs": [
        {
          "output_type": "execute_result",
          "data": {
            "text/plain": [
              "array([1., 0., 1., 0., 1., 0., 1., 0., 1., 1., 0., 1., 0., 1., 1., 1., 1.,\n",
              "       1., 0., 1., 0., 0., 1., 1., 1., 1., 1., 0., 0., 0., 0., 1., 0., 0.,\n",
              "       0., 0., 0., 1., 1., 1., 0., 0., 0., 1., 0., 1., 0., 0., 1., 0., 0.,\n",
              "       0., 0., 1., 0., 0., 1., 0., 0., 0., 0., 1., 0., 0., 1., 0., 1., 0.,\n",
              "       0., 0., 1., 0., 1., 0., 0., 0., 0., 0., 1., 0., 0., 0., 0., 0., 1.,\n",
              "       0., 0., 0., 1., 0., 0., 0., 0., 1., 0., 0., 0., 0., 0., 1., 1., 0.,\n",
              "       0., 0., 0., 0., 0., 0., 0., 1., 1., 1., 0., 0., 1., 1., 1., 0., 0.,\n",
              "       0., 1., 0., 0., 0., 1., 1., 0., 0., 1., 1., 1., 1., 1., 0., 0., 0.,\n",
              "       0., 0., 0., 0., 0., 0., 0., 1., 0., 0., 0., 0., 0., 0., 0., 0., 1.,\n",
              "       0., 1., 1., 0., 0., 0., 1., 0., 0., 0., 0., 1., 1., 0., 0., 0., 0.,\n",
              "       1., 1., 0., 0., 0., 1., 0., 1., 0., 1., 0., 0., 0., 0., 0., 1., 1.,\n",
              "       1., 1., 1., 0., 0., 1., 1., 0., 1., 0., 1., 1., 1., 0., 0., 0., 0.,\n",
              "       0., 0., 1., 1., 0., 1., 0., 0., 0., 1., 1., 1., 1., 0., 1., 1., 1.,\n",
              "       1., 0., 0., 0., 0., 0., 1., 0., 0., 1., 1., 0., 0., 0., 1., 1., 1.,\n",
              "       1., 0., 0., 0., 1., 1., 0., 1., 0., 0., 0., 0., 0., 0., 0., 0., 1.,\n",
              "       1., 0., 0., 0., 1., 0., 1., 0., 0., 1., 0., 1., 0., 0., 1., 1., 0.,\n",
              "       0., 0., 0., 0., 1., 0., 0., 0., 1., 0., 0., 1., 1., 0., 0., 1., 0.,\n",
              "       0., 0., 1., 1., 1., 0., 0., 1., 0., 1., 0., 1., 1., 0., 1., 0., 0.,\n",
              "       1., 0., 1., 1., 0., 0., 1., 0., 1., 0., 0., 1., 0., 1., 0., 1., 1.,\n",
              "       1., 0., 0., 1., 0., 1., 0., 0., 0., 1., 0., 0., 0., 0., 1., 1., 1.,\n",
              "       0., 0., 0., 0., 0., 0., 0., 0., 0., 1., 0., 0., 0., 0., 0., 1., 1.,\n",
              "       1., 0., 1., 1., 0., 0., 1., 0., 0., 1., 0., 0., 1., 1., 0., 0., 0.,\n",
              "       0., 1., 0., 0., 1., 0., 0., 0., 0., 0., 0., 0., 1., 1., 1., 0., 0.,\n",
              "       1., 0., 0., 1., 0., 0., 1., 0., 1., 1., 0., 1., 0., 1., 0., 1., 0.,\n",
              "       1., 1., 0., 0., 0., 0., 1., 1., 0., 1., 0., 1., 0., 0., 0., 0., 1.,\n",
              "       1., 0., 1., 0., 1., 0., 0., 0., 0., 0., 1., 0., 0., 0., 0., 1., 0.,\n",
              "       0., 1., 1., 1., 0., 0., 1., 0., 0., 1., 0., 0., 0., 1., 0., 0., 1.,\n",
              "       0., 0., 0., 0., 0., 0., 0., 0., 0., 1., 0., 0., 0., 0., 0., 0., 0.,\n",
              "       1., 0., 0., 0., 1., 0., 0., 0., 1., 1., 0., 0., 0., 0., 0., 0., 0.,\n",
              "       1., 0., 0., 0., 0., 1., 0., 0., 0., 1., 0., 0., 0., 1., 0., 0., 0.,\n",
              "       1., 0., 0., 0., 0., 1., 1., 0., 0., 0., 0., 0., 0., 1., 0., 0., 0.,\n",
              "       0., 0., 0., 0., 0., 0., 0., 0., 1., 0., 0., 0., 1., 1., 1., 1., 0.,\n",
              "       0., 1., 1., 0., 0., 0., 0., 0., 0., 0., 0., 0., 0., 0., 0., 0., 1.,\n",
              "       1., 0., 0., 0., 0., 0., 0., 0., 1., 0., 0., 0., 0., 0., 0., 0., 1.,\n",
              "       0., 1., 1., 0., 0., 0., 1., 0., 1., 0., 1., 0., 1., 0., 1., 0., 0.,\n",
              "       1., 0., 0., 1., 0., 0., 0., 0., 1., 1., 0., 1., 0., 0., 0., 0., 1.,\n",
              "       1., 0., 1., 0., 0., 0., 1., 1., 0., 0., 0., 0., 0., 0., 0., 0., 0.,\n",
              "       0., 1., 0., 0., 0., 0., 1., 0., 0., 1., 0., 0., 0., 1., 0., 0., 0.,\n",
              "       1., 1., 1., 0., 0., 0., 0., 0., 0., 1., 0., 0., 0., 1., 0., 1., 1.,\n",
              "       1., 1., 0., 1., 1., 0., 0., 0., 0., 0., 0., 0., 1., 1., 0., 1., 0.,\n",
              "       0., 1., 0., 1., 0., 0., 0., 0., 0., 1., 0., 1., 0., 1., 0., 1., 1.,\n",
              "       0., 0., 0., 0., 1., 1., 0., 0., 0., 1., 0., 1., 1., 0., 0., 1., 0.,\n",
              "       0., 1., 1., 0., 0., 1., 0., 0., 1., 0., 0., 0., 0., 0., 0., 0., 1.,\n",
              "       1., 1., 0., 0., 0., 0., 0., 0., 1., 1., 0., 0., 1., 0., 0., 1., 0.,\n",
              "       1., 1., 1., 0., 0., 1., 1., 1., 0., 1., 0., 1., 0., 1., 0., 0., 0.,\n",
              "       0., 1., 0.])"
            ]
          },
          "metadata": {},
          "execution_count": 9
        }
      ]
    },
    {
      "cell_type": "markdown",
      "source": [
        "Thus, we have to plit $x$ and $y$ data into a training and test dataset. The training set will be used toi prepare the **XGBoost** model and the test will be used to make new predictions, from we can evaluate the performance of the model"
      ],
      "metadata": {
        "id": "jjfWBanWHSuO"
      }
    },
    {
      "cell_type": "code",
      "source": [
        "# split data into train and test sets\n",
        "seed = 7\n",
        "test_size = 0.33\n",
        "X_train, X_test, Y_train, Y_test = train_test_split(X, Y, test_size=test_size, random_state=seed)"
      ],
      "metadata": {
        "id": "scXIse6kHq03"
      },
      "execution_count": null,
      "outputs": []
    },
    {
      "cell_type": "markdown",
      "source": [
        "## Train the XCGoost Model"
      ],
      "metadata": {
        "id": "h36r0BdJA43J"
      }
    },
    {
      "cell_type": "markdown",
      "source": [
        "XGBoost provides a wrapper class to allow models to be treated like classifiers or regrtessors in the scikit-learn framework.\n",
        "\n",
        "This meas we can use the full scikit-learn library with XGBoost models.\n",
        "\n",
        "The XGBoost model for classification is called **XGBClassifier**. We can create and fit it to our training dataset. Models are fir using the `model.fit()` function."
      ],
      "metadata": {
        "id": "BMg2qqFqKP8d"
      }
    },
    {
      "cell_type": "code",
      "source": [
        "# fit model no training data\n",
        "model = XGBClassifier()\n",
        "model.fit(X_train, Y_train)"
      ],
      "metadata": {
        "colab": {
          "base_uri": "https://localhost:8080/"
        },
        "id": "TCntDtKzA8By",
        "outputId": "1ca6bedd-6fae-4b45-dc15-46bfa5f9bb0a"
      },
      "execution_count": null,
      "outputs": [
        {
          "output_type": "execute_result",
          "data": {
            "text/plain": [
              "XGBClassifier()"
            ]
          },
          "metadata": {},
          "execution_count": 11
        }
      ]
    },
    {
      "cell_type": "markdown",
      "source": [
        "Reference about the defaults for the `XGBClassifier` and `XGBRegressor` can be found in the [XGBoost Python scikit-learn API](https://xgboost.readthedocs.io/en/latest/python/python_api.html#module-xgboost.sklearn)"
      ],
      "metadata": {
        "id": "zHo5yPJN3gY0"
      }
    },
    {
      "cell_type": "markdown",
      "source": [
        "Reference about the meaning of each parameter for the `XGBClassifier` and `XGBRegressor` and method to configure them can be found on the [XGBoost parameters page](https://xgboost.readthedocs.io/en/latest/parameter.html)"
      ],
      "metadata": {
        "id": "ArFwrg0R33Gb"
      }
    },
    {
      "cell_type": "markdown",
      "source": [
        "## Develop Prediction Model"
      ],
      "metadata": {
        "id": "odUVLhvyA9lz"
      }
    },
    {
      "cell_type": "markdown",
      "source": [
        "To make predition by XGBoost, we use the function `model.predict()`. By default, the predictions made by XGBoost are probabilities which resulted value is range between 0 and 1. Because this is a binary classification which resulted value have to either 0 and 1, we can convert the value to binary values by rounding them to either 0 or 1."
      ],
      "metadata": {
        "id": "a-yv-M6F4jmy"
      }
    },
    {
      "cell_type": "code",
      "source": [
        "# make predictions for test data\n",
        "Y_pred = model.predict(X_test)\n",
        "predictions = [round(i) for i in Y_pred]      # in form of 1 and 0"
      ],
      "metadata": {
        "id": "BwncU-mEA_nL"
      },
      "execution_count": null,
      "outputs": []
    },
    {
      "cell_type": "markdown",
      "source": [
        "Thus, we can evaluate the performance of the predictions by comparing them to the expected values. For this, we will use the built in `accuracy_score()` function in scikit-learn."
      ],
      "metadata": {
        "id": "S1mI3Qjy5Y_o"
      }
    },
    {
      "cell_type": "code",
      "source": [
        "# evaluate predictions\n",
        "accuracy = accuracy_score(Y_test, predictions)"
      ],
      "metadata": {
        "id": "hKulaSaDLgZN"
      },
      "execution_count": null,
      "outputs": []
    },
    {
      "cell_type": "code",
      "source": [
        "print(\"Accuracy: %.2f%%\" % (accuracy * 100.0))"
      ],
      "metadata": {
        "colab": {
          "base_uri": "https://localhost:8080/"
        },
        "id": "LXQwjdQjL6A7",
        "outputId": "a3c9beaf-a987-44e3-e6a6-ad0680a4c98f"
      },
      "execution_count": null,
      "outputs": [
        {
          "output_type": "stream",
          "name": "stdout",
          "text": [
            "Accuracy: 77.95%\n"
          ]
        }
      ]
    },
    {
      "cell_type": "markdown",
      "source": [
        "**Note:** The results may vary given the stochastic nature of the algorithm or evaluation procedure, or differences in numerical precision. "
      ],
      "metadata": {
        "id": "uLhMDfFj5_k7"
      }
    },
    {
      "cell_type": "markdown",
      "source": [
        "## Feature Importance"
      ],
      "metadata": {
        "id": "1ydUZ7xGMRMe"
      }
    },
    {
      "cell_type": "markdown",
      "source": [
        "A benefit of using gradient boosting is that after the boosted trees are constructed, it is relatively straighforward to retrieve importance scores for each attribute.\n",
        "\n",
        "Generally, importance provides a score that indicates how useful or valueable each feature was in the constructio of the boosted decision trees within the model. The more an attribute is used to make key decisions with decision trees, the higher its relative importance.\n",
        "\n",
        "This importance is calculated explicitly for each other.\n",
        "\n",
        "Importance is calculated for a single decision tree by the amount that each attribute split point improves the performance measure, weighted by the number of observations the node is responsible for. _The performance measure may be the purity (Gini index) used to select the split points or another more specific error function._ "
      ],
      "metadata": {
        "id": "I128k7Lh7xdM"
      }
    },
    {
      "cell_type": "markdown",
      "source": [
        "### Manually Plot Feature Importance"
      ],
      "metadata": {
        "id": "LP8aKtY29SMh"
      }
    },
    {
      "cell_type": "markdown",
      "source": [
        "A trained XGBoost model automatically calculates feature importance on your predictive modeling problem. These importance scores are available in the `feature_importances_` member variable of the trained model."
      ],
      "metadata": {
        "id": "Sijwo2PG9WQu"
      }
    },
    {
      "cell_type": "code",
      "source": [
        "import matplotlib.pyplot as plt"
      ],
      "metadata": {
        "id": "BYN0ubRuMdMz"
      },
      "execution_count": null,
      "outputs": []
    },
    {
      "cell_type": "code",
      "source": [
        "print(model.feature_importances_)"
      ],
      "metadata": {
        "colab": {
          "base_uri": "https://localhost:8080/"
        },
        "id": "AucoCso0MVzD",
        "outputId": "60df8b8e-b17d-4069-ccf2-d85953515136"
      },
      "execution_count": null,
      "outputs": [
        {
          "output_type": "stream",
          "name": "stdout",
          "text": [
            "[0.0775613  0.29183695 0.08493615 0.08040861 0.09472006 0.15973376\n",
            " 0.1021471  0.10865614]\n"
          ]
        }
      ]
    },
    {
      "cell_type": "code",
      "source": [
        "x_axis = range(len(model.feature_importances_))\n",
        "y_axis = model.feature_importances_\n",
        "plt.bar(x_axis, y_axis)\n",
        "plt.show()"
      ],
      "metadata": {
        "colab": {
          "base_uri": "https://localhost:8080/",
          "height": 265
        },
        "id": "hi-qgqzOMajm",
        "outputId": "a17c24aa-b68b-419f-b366-9b4b61d7ece1"
      },
      "execution_count": null,
      "outputs": [
        {
          "output_type": "display_data",
          "data": {
            "image/png": "[encoded data removed]",
            "text/plain": [
              "<Figure size 432x288 with 1 Axes>"
            ]
          },
          "metadata": {
            "needs_background": "light"
          }
        }
      ]
    },
    {
      "cell_type": "markdown",
      "source": [
        "### Using The Built-in XGBoost Feature Importance Plot"
      ],
      "metadata": {
        "id": "kmNpyufz92JB"
      }
    },
    {
      "cell_type": "markdown",
      "source": [
        "The XGBoost library provides a built-in function to plot features ordered by their importance. The function is called `plot_importance()` function."
      ],
      "metadata": {
        "id": "msReTO2ecdRr"
      }
    },
    {
      "cell_type": "code",
      "source": [
        "from xgboost import plot_importance"
      ],
      "metadata": {
        "id": "z0qOmHswMrDB"
      },
      "execution_count": null,
      "outputs": []
    },
    {
      "cell_type": "code",
      "source": [
        "plot_importance(model)\n",
        "plt.show()"
      ],
      "metadata": {
        "colab": {
          "base_uri": "https://localhost:8080/",
          "height": 295
        },
        "id": "bJr7mMnNM_Qt",
        "outputId": "e513f7d7-ef3a-4d21-94d8-64ba89c34b67"
      },
      "execution_count": null,
      "outputs": [
        {
          "output_type": "display_data",
          "data": {
            "image/png": "[encoded data removed]",
            "text/plain": [
              "<Figure size 432x288 with 1 Axes>"
            ]
          },
          "metadata": {
            "needs_background": "light"
          }
        }
      ]
    },
    {
      "cell_type": "markdown",
      "source": [
        "As you can see, the features are automatically named according to their index in the input array $(x)$ from $F0$ to $F7$."
      ],
      "metadata": {
        "id": "D3UnMM0Dcs_3"
      }
    },
    {
      "cell_type": "markdown",
      "source": [
        "### Feature Selection with XGBoost Feature Importance Scores"
      ],
      "metadata": {
        "id": "xZVsKeOdA6I1"
      }
    },
    {
      "cell_type": "code",
      "source": [
        "from numpy import sort\n",
        "from sklearn.feature_selection import SelectFromModel"
      ],
      "metadata": {
        "id": "AtlGzv5x-Z8q"
      },
      "execution_count": null,
      "outputs": []
    },
    {
      "cell_type": "code",
      "source": [
        "thresholds = sort(model.feature_importances_)\n",
        "for i in thresholds:\n",
        "  select = SelectFromModel(model, threshold=i, prefit=True)\n",
        "  select_x_train = select.transform(X_train)\n",
        "  select_model = XGBClassifier()\n",
        "  select_model.fit(select_x_train, Y_train)\n",
        "  select_x_test = select.transform(X_test)\n",
        "  select_y_pred = select_model.predict(select_x_test)\n",
        "  select_predictions = [round(i) for i in select_y_pred]\n",
        "  select_accuracy = accuracy_score(Y_test, select_predictions)\n",
        "  print(\"Threshold: %.3f, n: %d, Accuracy: %.2f%%\" % (i, select_x_train.shape[1], select_accuracy*100.0))"
      ],
      "metadata": {
        "colab": {
          "base_uri": "https://localhost:8080/"
        },
        "id": "abRnSP9dNC4u",
        "outputId": "116321ad-c4bb-47db-aa3b-efe0c345d4a4"
      },
      "execution_count": null,
      "outputs": [
        {
          "output_type": "stream",
          "name": "stdout",
          "text": [
            "Threshold: 0.078, n: 8, Accuracy: 77.95%\n",
            "Threshold: 0.080, n: 7, Accuracy: 76.38%\n",
            "Threshold: 0.085, n: 6, Accuracy: 77.56%\n",
            "Threshold: 0.095, n: 5, Accuracy: 76.38%\n",
            "Threshold: 0.102, n: 4, Accuracy: 76.38%\n",
            "Threshold: 0.109, n: 3, Accuracy: 74.80%\n",
            "Threshold: 0.160, n: 2, Accuracy: 75.98%\n",
            "Threshold: 0.292, n: 1, Accuracy: 70.08%\n"
          ]
        }
      ]
    }
  ]
}