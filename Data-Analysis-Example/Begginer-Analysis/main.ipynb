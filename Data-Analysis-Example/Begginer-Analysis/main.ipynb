{
  "nbformat": 4,
  "nbformat_minor": 0,
  "metadata": {
    "colab": {
      "name": "mytemplate3.ipynb",
      "provenance": [],
      "collapsed_sections": []
    },
    "kernelspec": {
      "name": "python3",
      "display_name": "Python 3"
    }
  },
  "cells": [
    {
      "cell_type": "code",
      "metadata": {
        "id": "cjrJ_nHGpFRD"
      },
      "source": [
        "import csv\n",
        "import operator\n",
        "import calendar\n",
        "import matplotlib.pyplot as plt\n",
        "from datetime import datetime\n",
        "from pprint import pprint"
      ],
      "execution_count": null,
      "outputs": []
    },
    {
      "cell_type": "markdown",
      "metadata": {
        "id": "8y4vboeRaFwm"
      },
      "source": [
        "**Possing Questions**\n",
        "\n",
        "1. What are the proportions of each users category (female/male/young/adult…) in each region?\n",
        "> This helps to make smart decisions in investing to provide certain types of bicycles, such as: if in region A most of your users are females then it is a clever choice to consider adding more women-specific-design bikes as in general women’s physique have different shapes than the average man physique\n",
        "2. In each region, what are proportions of each user type (subscriber/customer…)?\n",
        "> This can help conduct further studies to learn more about the user’s decision, to stay just a customer for example\n",
        "3. In each region, what are the parts of the day in which a high usage rate is recorder?\n",
        "> This helps to identify where and when should the company consider adding more bicycles to certain stations in order to target a larger group of users\n",
        "4. How is the rate of the bike’s usage evolving throughout the years in each region?\n",
        "> This gives a global overview of the business growth\n",
        "5. How many time (duration) each user is spending on the bike per year?\n",
        "> Result can be grouped per gender/region/time of the day (morning, night…) in order to spot trends which can influence the business growth, and with further studies, we can understand the reason behind behavior and take action to enhance the service"
      ]
    },
    {
      "cell_type": "markdown",
      "metadata": {
        "id": "L8NtLFyiacEH"
      },
      "source": [
        "# **Data Preparation**"
      ]
    },
    {
      "cell_type": "code",
      "metadata": {
        "id": "04FfMUCpchn9"
      },
      "source": [
        "def loc_id(filename):\n",
        "  return filename.split(\"-\")[0].split(\"/\")[-1]"
      ],
      "execution_count": null,
      "outputs": []
    },
    {
      "cell_type": "code",
      "metadata": {
        "id": "Pb63P4wdpg6Q"
      },
      "source": [
        "\"\"\" This functions prints and returns the first data point (second row) from a csv file that includes a header row\n",
        "    INPUT  : filename (strings): path of the data file\n",
        "    OUTPUT : second row in the file                                                                                 \"\"\"\n",
        "def print_first_point(filename):\n",
        "  city = loc_id(filename)\n",
        "  print(\"\\nCity: {}\".format(city))  # print city name for reference\n",
        "  with open(filename, \"r\") as f_in:\n",
        "    trip_reader = csv.DictReader(f_in)\n",
        "    first_trip = next(trip_reader)\n",
        "    pprint(first_trip)\n",
        "  \n",
        "  return (city, first_trip) # ouput city name and first trip for later testing"
      ],
      "execution_count": null,
      "outputs": []
    },
    {
      "cell_type": "code",
      "metadata": {
        "id": "c2gZJxnZ9vX2",
        "colab": {
          "base_uri": "https://localhost:8080/"
        },
        "outputId": "284f3439-a8ac-4d13-aa70-2b745a667f58"
      },
      "source": [
        "# list of files for each city\n",
        "data_files = [\"/content/drive/MyDrive/Colab Notebooks/NYC-CitiBike-2016.csv\",\n",
        "              \"/content/drive/MyDrive/Colab Notebooks/Chicago-Divvy-2016.csv\",\n",
        "              \"/content/drive/MyDrive/Colab Notebooks/Washington-CapitalBikeshare-2016.csv\"]\n",
        "\n",
        "# print the first trip from each file\n",
        "# then store in dictionary\n",
        "example_trips = {}\n",
        "for i in data_files:\n",
        "  location, first_journey = print_first_point(i)\n",
        "  example_trips[location] = first_journey"
      ],
      "execution_count": null,
      "outputs": [
        {
          "output_type": "stream",
          "text": [
            "\n",
            "City: NYC\n",
            "OrderedDict([('tripduration', '839'),\n",
            "             ('starttime', '1/1/2016 00:09:55'),\n",
            "             ('stoptime', '1/1/2016 00:23:54'),\n",
            "             ('start station id', '532'),\n",
            "             ('start station name', 'S 5 Pl & S 4 St'),\n",
            "             ('start station latitude', '40.710451'),\n",
            "             ('start station longitude', '-73.960876'),\n",
            "             ('end station id', '401'),\n",
            "             ('end station name', 'Allen St & Rivington St'),\n",
            "             ('end station latitude', '40.72019576'),\n",
            "             ('end station longitude', '-73.98997825'),\n",
            "             ('bikeid', '17109'),\n",
            "             ('usertype', 'Customer'),\n",
            "             ('birth year', ''),\n",
            "             ('gender', '0')])\n",
            "\n",
            "City: Chicago\n",
            "OrderedDict([('trip_id', '9080545'),\n",
            "             ('starttime', '3/31/2016 23:30'),\n",
            "             ('stoptime', '3/31/2016 23:46'),\n",
            "             ('bikeid', '2295'),\n",
            "             ('tripduration', '926'),\n",
            "             ('from_station_id', '156'),\n",
            "             ('from_station_name', 'Clark St & Wellington Ave'),\n",
            "             ('to_station_id', '166'),\n",
            "             ('to_station_name', 'Ashland Ave & Wrightwood Ave'),\n",
            "             ('usertype', 'Subscriber'),\n",
            "             ('gender', 'Male'),\n",
            "             ('birthyear', '1990')])\n",
            "\n",
            "City: Washington\n",
            "OrderedDict([('Duration (ms)', '427387'),\n",
            "             ('Start date', '3/31/2016 22:57'),\n",
            "             ('End date', '3/31/2016 23:04'),\n",
            "             ('Start station number', '31602'),\n",
            "             ('Start station', 'Park Rd & Holmead Pl NW'),\n",
            "             ('End station number', '31207'),\n",
            "             ('End station', 'Georgia Ave and Fairmont St NW'),\n",
            "             ('Bike number', 'W20842'),\n",
            "             ('Member Type', 'Registered')])\n"
          ],
          "name": "stdout"
        }
      ]
    },
    {
      "cell_type": "markdown",
      "metadata": {
        "id": "YV5o9ojmo1px"
      },
      "source": [
        "**Generate new data files with five values of interest for each trip:**\n",
        "\n",
        "- **Duration**: This has been given to us in seconds (New York, Chicago) and miliseconds (Washington). A more natural unit of analysis will be if all the trip durations are given in terms of _minutes_\n",
        "- **Month, Hour, Day of Week**: Ridership volume is likely to change based on the season, time of day, and wheter it is a weekday or weekend. Use the _start time_ to obtain these values. The New York data includes the seconds in their timestamps, while Washington and Chicago do not, thus the `datetime` package will be very useful here to make the needed conversions.\n",
        "- **User Type**: It is possible that users who are subscribed to a bike-share systems will have different patterns of use compared to users who only have temporary passes. Washington divides its users into two types: _Registered_ for users with annual, monthly, and other longer-term subscriptions, and _Casual_ for users with 24-hour, 3-day, and other short-term passes. The New York and Chicago data uses _Subscriber_ and _Customer_ for these groups, respectively. Regarding consistency, the data will convert into two main categories: _Subscriber_ and _Customer_."
      ]
    },
    {
      "cell_type": "code",
      "metadata": {
        "id": "1SN-N6c0vCBX"
      },
      "source": [
        "class TransformsData:\n",
        "  def __init__(self, dataframe, city):\n",
        "    self.dataframe = dataframe\n",
        "    self.city = city\n",
        "  \n",
        "  # takes as input a dictionary containing info about a single trip (dataframe) \n",
        "  # and its origin city (city) and returns the trip duration in units of minutes \n",
        "  # Note: Washington is in terms of miliseconds while \n",
        "  #       Chicago and NYC are in term of seconds\n",
        "  def convert_duration(self):\n",
        "    if (self.city == \"NYC\") | (self.city == \"Chicago\"):\n",
        "      duration = int(self.dataframe[\"tripduration\"])/60      # converion from seconds to minutes\n",
        "    elif (self.city == \"Washington\"):\n",
        "      duration = int(self.dataframe[\"Duration (ms)\"])/60000  # converion from miliseconds to minutes\n",
        "    \n",
        "    # return the value converted\n",
        "    return duration\n",
        "  \n",
        "  # takes as input a dictionary containing info about a single trip (dataframe)\n",
        "  # and its origin city (city) and returns the month, hour, and day of the week\n",
        "  # in which the trip was made\n",
        "  # Note: NYC includes seconds while Washington and Chicago are not\n",
        "  def convert_time_of_trip(self):\n",
        "    date_format = None\n",
        "    attribute_key = None\n",
        "    \n",
        "    # select pattern's format from the dataset\n",
        "    if (self.city == \"NYC\"):\n",
        "      date_format = \"%m/%d/%Y %H:%M:%S\"\n",
        "      attribute_key = \"starttime\"\n",
        "    elif (self.city == \"Chicago\"):\n",
        "      date_format = \"%m/%d/%Y %H:%M\"\n",
        "      attribute_key = \"starttime\"\n",
        "    elif (self.city == \"Washington\"):\n",
        "      date_format = \"%m/%d/%Y %H:%M\"\n",
        "      attribute_key = \"Start date\" \n",
        "  \n",
        "    # convert the pattern of date\n",
        "    month = datetime.strptime(self.dataframe[attribute_key], date_format).month\n",
        "    hour = datetime.strptime(self.dataframe[attribute_key], date_format).hour\n",
        "    day_of_week = datetime.strptime(self.dataframe[attribute_key], date_format).strftime(\"%A\")\n",
        "\n",
        "    return (month, hour, day_of_week)\n",
        "  \n",
        "  # takes as input a dictionary containing info about a single trip (dataframe)\n",
        "  # and its origin city (city) and returns the type of system's user that \n",
        "  # made the trip \n",
        "  # Note: Washington has different category names compared others\n",
        "  def convert_type_of_user(self):\n",
        "\n",
        "    # select the data and convert the pattern of type of user\n",
        "    if (self.city == \"Washington\"):\n",
        "      if (self.dataframe[\"Member Type\"] == \"Registered\"):\n",
        "        user_type = \"Subscriber\"\n",
        "      else:\n",
        "        user_type = \"Customer\"\n",
        "    elif (self.city == \"NYC\") | (self.city == \"Chicago\"):\n",
        "      user_type = self.dataframe[\"usertype\"]\n",
        "  \n",
        "    return user_type"
      ],
      "execution_count": null,
      "outputs": []
    },
    {
      "cell_type": "code",
      "metadata": {
        "id": "B7M7L3aWeR1C"
      },
      "source": [
        "# inheritance class to assert data transformation from class TransformData\n",
        "class AssertTrasformation(TransformsData):\n",
        "  def __init__(self, source, key_1, key_2, key_3):\n",
        "    super().__init__(None, None)  # initialize dataframe and city as null\n",
        "    self.path = source\n",
        "    self.key_1 = key_1\n",
        "    self.key_2 = key_2\n",
        "    self.key_3 = key_3\n",
        "  \n",
        "  def assert_duration(self):\n",
        "    for i in self.key_1:\n",
        "      self.dataframe = example_trips[loc_id(i)]   # initialize dataframe\n",
        "      self.city = i                               # initialize city\n",
        "      assert abs(self.convert_duration() - self.key_1[i]) < 0.001\n",
        "    \n",
        "    for i in self.path:\n",
        "      self.dataframe = example_trips[loc_id(i)]   # initialize dataframe\n",
        "      self.city = loc_id(i)                       # initialize city\n",
        "      print(\"Duration in minute results for {} {},\".format(loc_id(i), self.convert_duration()))\n",
        "      print(\"- the correct value for {} is {}\".format(loc_id(i), self.key_1[loc_id(i)]))\n",
        "    # additional space\n",
        "    print(\"\")\n",
        "  \n",
        "  def assert_day_of_trip(self):\n",
        "    for i in self.key_2:\n",
        "      self.dataframe = example_trips[loc_id(i)]   # initialize dataframe\n",
        "      self.city = i                               # initialize city\n",
        "      assert self.convert_time_of_trip() == self.key_2[i]\n",
        "    \n",
        "    for i in self.path:\n",
        "      self.dataframe = example_trips[loc_id(i)]   # initialize dataframe\n",
        "      self.city = loc_id(i)                       # initialize city\n",
        "      print(\"Time format results for {} {},\".format(loc_id(i), self.convert_time_of_trip()))\n",
        "      print(\"- the correct value for {} is {}\".format(loc_id(i),self.key_2[loc_id(i)]))\n",
        "    # additional space\n",
        "    print(\"\")\n",
        "  \n",
        "  def assert_type_of_user(self):\n",
        "    for i in self.key_3:\n",
        "      self.dataframe = example_trips[loc_id(i)]   # initialize dataframe\n",
        "      self.city = i                               # initialize city\n",
        "      assert self.convert_type_of_user() == self.key_3[i]\n",
        "    \n",
        "    for i in self.path:\n",
        "      self.dataframe = example_trips[loc_id(i)]   # initialize dataframe\n",
        "      self.city = loc_id(i)                       # initialize city\n",
        "      print(\"User type results for {} {},\".format(loc_id(i), self.convert_type_of_user()))\n",
        "      print(\"- the correct value for {} is {}\".format(loc_id(i),self.key_3[loc_id(i)]))\n",
        "    # additional space\n",
        "    print(\"\")\n",
        "  \n",
        "  def assert_transformation(self):\n",
        "    print(\"1. Assert for convertion duration:\")\n",
        "    self.assert_duration()\n",
        "    print(\"2. Assert for convertion day of trip:\")\n",
        "    self.assert_day_of_trip()\n",
        "    print(\"3. Assert for convertion type of user:\")\n",
        "    self.assert_type_of_user()"
      ],
      "execution_count": null,
      "outputs": []
    },
    {
      "cell_type": "code",
      "metadata": {
        "colab": {
          "base_uri": "https://localhost:8080/"
        },
        "id": "M2XJ58-oL7vC",
        "outputId": "004afdc4-0894-4d6f-cd0c-78b773964c25"
      },
      "source": [
        "# testing the code\n",
        "tests_1 = {\"NYC\": 13.9833,\n",
        "           \"Chicago\": 15.4333,\n",
        "           \"Washington\": 7.1231}\n",
        "\n",
        "tests_2 = {\"NYC\": (1, 0, \"Friday\"),\n",
        "           \"Chicago\": (3, 23, \"Thursday\"),\n",
        "           \"Washington\": (3, 22, \"Thursday\")}\n",
        "\n",
        "tests_3 = {\"NYC\": \"Customer\",\n",
        "           \"Chicago\": \"Subscriber\",\n",
        "           \"Washington\": \"Subscriber\"}\n",
        "\n",
        "AssertTrasformation(data_files, tests_1, tests_2, tests_3).assert_transformation()"
      ],
      "execution_count": null,
      "outputs": [
        {
          "output_type": "stream",
          "text": [
            "1. Assert for convertion duration:\n",
            "Duration in minute results for NYC 13.983333333333333,\n",
            "- the correct value for NYC is 13.9833\n",
            "Duration in minute results for Chicago 15.433333333333334,\n",
            "- the correct value for Chicago is 15.4333\n",
            "Duration in minute results for Washington 7.123116666666666,\n",
            "- the correct value for Washington is 7.1231\n",
            "\n",
            "2. Assert for convertion day of trip:\n",
            "Time format results for NYC (1, 0, 'Friday'),\n",
            "- the correct value for NYC is (1, 0, 'Friday')\n",
            "Time format results for Chicago (3, 23, 'Thursday'),\n",
            "- the correct value for Chicago is (3, 23, 'Thursday')\n",
            "Time format results for Washington (3, 22, 'Thursday'),\n",
            "- the correct value for Washington is (3, 22, 'Thursday')\n",
            "\n",
            "3. Assert for convertion type of user:\n",
            "User type results for NYC Customer,\n",
            "- the correct value for NYC is Customer\n",
            "User type results for Chicago Subscriber,\n",
            "- the correct value for Chicago is Subscriber\n",
            "User type results for Washington Subscriber,\n",
            "- the correct value for Washington is Subscriber\n",
            "\n"
          ],
          "name": "stdout"
        }
      ]
    },
    {
      "cell_type": "code",
      "metadata": {
        "id": "yvphTzIOsogo"
      },
      "source": [
        "\"\"\" This function takes full data from the specific input file\n",
        "    and writes the condensed data to a specific output file.\n",
        "    The city argument determines how the input file will be parsed. \"\"\"\n",
        "def condense_data(in_file, out_file, city):\n",
        "  with open(out_file, \"w\") as f_out, open(in_file, \"r\") as f_in:\n",
        "    out_colnames = [\"duration\", \"month\", \"hour\", \"day_of_week\", \"user_type\"]\n",
        "    trip_writer = csv.DictWriter(f_out, fieldnames = out_colnames)\n",
        "    trip_writer.writeheader()   # write header file\n",
        "    trip_reader = list(csv.DictReader(f_in))\n",
        "\n",
        "    for i in trip_reader:\n",
        "      new_point = {}  # temporary collect information for a row\n",
        "      c = TransformsData(i, city) # initialize\n",
        "      new_point[out_colnames[0]] = c.convert_duration()\n",
        "      new_point[out_colnames[1]], new_point[out_colnames[2]], new_point[out_colnames[3]] = c.convert_time_of_trip()\n",
        "      new_point[out_colnames[4]] = c.convert_type_of_user()\n",
        "\n",
        "      trip_writer.writerow(new_point)   # write rows file"
      ],
      "execution_count": null,
      "outputs": []
    },
    {
      "cell_type": "code",
      "metadata": {
        "colab": {
          "base_uri": "https://localhost:8080/"
        },
        "id": "Ysv8bFgarrcp",
        "outputId": "f06053ac-9b53-41e7-a67c-6059a2cd769c"
      },
      "source": [
        "cities_info = {\"NYC\":{\"in_file\": \"/content/drive/MyDrive/Colab Notebooks/NYC-CitiBike-2016.csv\",\n",
        "                             \"out_file\": \"/content/drive/MyDrive/Colab Notebooks/NYC-Summary-2016.csv\"},\n",
        "               \"Chicago\":{\"in_file\": \"/content/drive/MyDrive/Colab Notebooks/Chicago-Divvy-2016.csv\",\n",
        "                          \"out_file\": \"/content/drive/MyDrive/Colab Notebooks/Chicago-Summary-2016.csv\"},\n",
        "               \"Washington\":{\"in_file\": \"/content/drive/MyDrive/Colab Notebooks/Washington-CapitalBikeshare-2016.csv\",\n",
        "                      \"out_file\": \"/content/drive/MyDrive/Colab Notebooks/Washington-Summary-2016.csv\"}}\n",
        "\n",
        "# i --> city\n",
        "# j --> filenames\n",
        "for i, j in cities_info.items():\n",
        "  condense_data(j[\"in_file\"], j[\"out_file\"], i)\n",
        "  print_first_point(j[\"out_file\"])"
      ],
      "execution_count": null,
      "outputs": [
        {
          "output_type": "stream",
          "text": [
            "\n",
            "City: NYC\n",
            "OrderedDict([('duration', '13.983333333333333'),\n",
            "             ('month', '1'),\n",
            "             ('hour', '0'),\n",
            "             ('day_of_week', 'Friday'),\n",
            "             ('user_type', 'Customer')])\n",
            "\n",
            "City: Chicago\n",
            "OrderedDict([('duration', '15.433333333333334'),\n",
            "             ('month', '3'),\n",
            "             ('hour', '23'),\n",
            "             ('day_of_week', 'Thursday'),\n",
            "             ('user_type', 'Subscriber')])\n",
            "\n",
            "City: Washington\n",
            "OrderedDict([('duration', '7.123116666666666'),\n",
            "             ('month', '3'),\n",
            "             ('hour', '22'),\n",
            "             ('day_of_week', 'Thursday'),\n",
            "             ('user_type', 'Subscriber')])\n"
          ],
          "name": "stdout"
        }
      ]
    },
    {
      "cell_type": "markdown",
      "metadata": {
        "id": "S69rUlCuYWJJ"
      },
      "source": [
        "# **Exploratory Data Analysis**"
      ]
    },
    {
      "cell_type": "code",
      "metadata": {
        "id": "bRpysY3yaY3k"
      },
      "source": [
        "input_files = [\"/content/drive/MyDrive/Colab Notebooks/NYC-Summary-2016.csv\",\n",
        "              \"/content/drive/MyDrive/Colab Notebooks/Chicago-Summary-2016.csv\",\n",
        "              \"/content/drive/MyDrive/Colab Notebooks/Washington-Summary-2016.csv\"]"
      ],
      "execution_count": null,
      "outputs": []
    },
    {
      "cell_type": "code",
      "metadata": {
        "id": "N3txzVpN7CMW"
      },
      "source": [
        "class EDA:\n",
        "  def __init__(self, filename):\n",
        "    self.filename = filename\n",
        "  \n",
        "  # this method reads in a file with trip data and reports \n",
        "  # the number of trips made by subscribers, customrs, and total overall\n",
        "  def number_of_trips(self):\n",
        "    with open(self.filename, \"r\") as f_in:\n",
        "      reader = csv.DictReader(f_in)\n",
        "\n",
        "      # compute rides by type\n",
        "      number_of_subscribers = 0\n",
        "      number_of_customers = 0\n",
        "      for i in reader:\n",
        "        if (i[\"user_type\"] == \"Subscriber\"):\n",
        "          number_of_subscribers += 1\n",
        "        elif (i[\"user_type\"] == \"Customer\"):\n",
        "          number_of_customers += 1\n",
        "      \n",
        "      total_rider = number_of_subscribers + number_of_customers\n",
        "      return (number_of_subscribers, number_of_customers, total_rider)\n",
        "\n",
        "  # this method takes as an input a path of CSV file (filename) for a given city and returns: \n",
        "  # (1) the average trip length for each city, and (2) proportion of rides made in each city \n",
        "  # are longer than 30 minutes\n",
        "  def average_and_charged_proportion(self):\n",
        "    list_of_trip_duration = []\n",
        "    charged_trips = 0\n",
        "    with open(self.filename, \"r\") as f:\n",
        "      reader = csv.DictReader(f)\n",
        "      for i in reader:\n",
        "        trip_duration = float(i[\"duration\"])\n",
        "        list_of_trip_duration.append(trip_duration)\n",
        "        if (trip_duration > 30):\n",
        "          charged_trips += 1\n",
        "  \n",
        "    average_trip_length = sum(list_of_trip_duration)/len(list_of_trip_duration)\n",
        "    charged_rides_proportion = (charged_trips/len(list_of_trip_duration))*100\n",
        "    return average_trip_length, charged_rides_proportion\n",
        "  \n",
        "  # this method takes as an input a path of CSV file (input_filename) and then\n",
        "  # returns a dict that have for each user type the average trip duration\n",
        "  def average_rides_users(self):\n",
        "    number_of_subscriber = 0\n",
        "    number_of_customer = 0\n",
        "    result = {\"Subscriber\":0, \"Customer\":0}\n",
        "    with open(self.filename, \"r\") as f:\n",
        "      reader = csv.DictReader(f)\n",
        "      for i in reader:\n",
        "        if (i[\"user_type\"] == \"Subscriber\"):\n",
        "          number_of_subscriber += 1\n",
        "          result[\"Subscriber\"] += float(i[\"duration\"])\n",
        "        elif (i[\"user_type\"] == \"Customer\"):\n",
        "          number_of_customer += 1\n",
        "          result[\"Customer\"] += float(i[\"duration\"])\n",
        "  \n",
        "    result[\"Subscriber\"] = result[\"Subscriber\"]/number_of_subscriber\n",
        "    result[\"Customer\"] = result[\"Customer\"]/number_of_subscriber\n",
        "    return result\n",
        "  \n",
        "  # this method returns the bike trips durations \n",
        "  # for a certain user type in a certain city\n",
        "  def trip_times_by_user_type(self, user_type):\n",
        "    times = []\n",
        "    with open(self.filename, \"r\") as f:\n",
        "      reader = csv.DictReader(f)\n",
        "      for i in reader:\n",
        "        if (i[\"user_type\"] == user_type):\n",
        "          times.append(round(float(i[\"duration\"]), 2))\n",
        "  \n",
        "    return times\n",
        "  \n",
        "  # this method takes as an input a ridership informations file of a certain city\n",
        "  # then returns:\n",
        "  # (1) month_stats = Dict{month : number_of_trips}\n",
        "  # (2) mode_month = String ->  the month that has the highest ridership\n",
        "  # (3) mode_month_cust = String -> the month that has the highest ridership for customers\n",
        "  # (4) mode_month_subscri = String -> the month that has the highest ridership for subscribers\n",
        "  # (5) ratio_by_type = Dict{month : ratio} -> ratio of customers and subscribers for each month\n",
        "  def ridership_by_month(self):\n",
        "    month_stats = {1:0, 2:0, 3:0, 4:0, 5:0, 6:0, 7:0, 8:0, 9:0, 10:0, 11:0, 12:0}\n",
        "    cust_trips = {1:0, 2:0, 3:0, 4:0, 5:0, 6:0, 7:0, 8:0, 9:0, 10:0, 11:0, 12:0}\n",
        "    subscri_trips = {1:0, 2:0, 3:0, 4:0, 5:0, 6:0, 7:0, 8:0, 9:0, 10:0, 11:0, 12:0}\n",
        "\n",
        "    with open(self.filename, \"r\") as f:\n",
        "      reader = csv.DictReader(f)\n",
        "      for i in reader:\n",
        "        month_stats[int(i[\"month\"])] += 1\n",
        "        if (i[\"user_type\"] == \"Customer\"):\n",
        "          cust_trips[int(i[\"month\"])] += 1\n",
        "        elif (i[\"user_type\"] == \"Subscriber\"):\n",
        "          subscri_trips[int(i[\"month\"])] += 1\n",
        "\n",
        "    ratio_by_type = {i: round((cust_trips[i]/subscri_trips[i]), 2) for i in cust_trips}\n",
        "    mode_month = calendar.month_name[max(month_stats.items(), key=operator.itemgetter(1))[0]]\n",
        "    mode_month_cust = calendar.month_name[max(cust_trips.items(), key=operator.itemgetter(1))[0]]\n",
        "    mode_month_subscri =  calendar.month_name[max(subscri_trips.items(), key=operator.itemgetter(1))[0]]\n",
        "    return {\"mode_month\":mode_month, \"mode_month_cust\":mode_month_cust, \n",
        "            \"mode_month_subscri\":mode_month_subscri,\n",
        "            \"month_stats\":month_stats, \"month_ratio_by_type\":ratio_by_type,\n",
        "            \"month_cust_trips\":cust_trips, \"month_subscri_trips\":subscri_trips}"
      ],
      "execution_count": null,
      "outputs": []
    },
    {
      "cell_type": "markdown",
      "metadata": {
        "id": "BAiIAWWF2jGp"
      },
      "source": [
        "# Statistics"
      ]
    },
    {
      "cell_type": "markdown",
      "metadata": {
        "id": "7uabiQttj4BS"
      },
      "source": [
        "First, let's compute basic counts. The first some cell below contains a function that aim to used the csv file to iterate through a provide data, returning the number of trips made by subscribers and customers."
      ]
    },
    {
      "cell_type": "code",
      "metadata": {
        "id": "ejIzxQLY_cY8"
      },
      "source": [
        "class Statistic(EDA):   # inheritance from class EDA to analyze all cities input\n",
        "  def __init__(self, list_of_data_files):\n",
        "    super().__init__(None)                        # initialize filename as null\n",
        "    self.list_of_data_files = list_of_data_files\n",
        "  \n",
        "  # method to runs number_of_trips for all cities input\n",
        "  def dominations(self):\n",
        "    trips_count = {}\n",
        "    subscribers_proportion = {}\n",
        "    customers_proportion = {}\n",
        "    for i in self.list_of_data_files:\n",
        "      self.filename = i     # initialize input filename for class EDA\n",
        "      city = i.split(\"-\")[0].split(\"/\")[-1]\n",
        "      trips_count[city] = self.number_of_trips()[2]\n",
        "      subscribers_proportion[city] = self.number_of_trips()[0]/self.number_of_trips()[2]\n",
        "      customers_proportion[city] = self.number_of_trips()[1]/self.number_of_trips()[2]\n",
        "\n",
        "    alpha = max(trips_count.items(), key=operator.itemgetter(1))[0]\n",
        "    bravo = max(trips_count.items(), key=operator.itemgetter(1))[1]\n",
        "    charlie = max(subscribers_proportion.items(), key=operator.itemgetter(1))[0]\n",
        "    delta = max(subscribers_proportion.items(), key=operator.itemgetter(1))[1]\n",
        "    echo = max(customers_proportion.items(), key=operator.itemgetter(1))[0]\n",
        "    foxtrot = max(customers_proportion.items(), key=operator.itemgetter(1))[1]\n",
        "\n",
        "    return (alpha, bravo, charlie, delta, echo, foxtrot)\n",
        "  \n",
        "  # method to runs average_and_charged_proportion for all cities input\n",
        "  def investigation_charged_trips_each_city(self):\n",
        "    result = []\n",
        "    for i in self.list_of_data_files:\n",
        "      self.filename = i     # initialize input filename for class EDA\n",
        "      city_info = {}\n",
        "      city = i.split(\"-\")[0].split(\"/\")[-1]\n",
        "      city_info[\"city_name\"] = city\n",
        "      city_info[\"avg_trip_duration\"], city_info[\"charged_rides_proportion\"] = self.average_and_charged_proportion()\n",
        "      result.append(city_info)\n",
        "    # return as turple\n",
        "    return result\n",
        "  \n",
        "  # method to runs average_rides_users for all cities input\n",
        "  def identifies_usage(self):\n",
        "    result = []\n",
        "    max_rides_user = []\n",
        "    for i in self.list_of_data_files:\n",
        "      self.filename = i     # initialize input filename for class EDA\n",
        "      tmp1 = self.average_rides_users()\n",
        "      tmp2 = max(tmp1)\n",
        "      result.append(tmp1)\n",
        "      max_rides_user.append(tmp2)\n",
        "  \n",
        "    return result, max_rides_user"
      ],
      "execution_count": null,
      "outputs": []
    },
    {
      "cell_type": "markdown",
      "metadata": {
        "id": "ltooHrExhrSe"
      },
      "source": [
        "**Question**: Which city has the highest number of trips? Which city has the highest proportion of trips made by subscribers? Which city has the highest proportion of trips made by short-term customers?"
      ]
    },
    {
      "cell_type": "code",
      "metadata": {
        "colab": {
          "base_uri": "https://localhost:8080/"
        },
        "id": "ER8xqks0_sdh",
        "outputId": "c547f193-d770-4964-9da3-d429ffb66a1e"
      },
      "source": [
        "x1, x2, x3, x4, x5, x6 = Statistic(input_files).dominations()\n",
        "\n",
        "print(\"The city that has the highest number of trips is {} with a total of {} trips\".format(x1, x2))\n",
        "print(\"The city that has the highest proportion of trips made by subscribers is {} with a proportion of {:0.2f}\".format(x3, x4))\n",
        "print(\"The city that has the highest proportion of trips made by customers is {} with a proportion up to {:0.2f}\".format(x5, x6))"
      ],
      "execution_count": null,
      "outputs": [
        {
          "output_type": "stream",
          "text": [
            "The city that has the highest number of trips is NYC with a total of 276081 trips\n",
            "The city that has the highest proportion of trips made by subscribers is NYC with a proportion of 0.89\n",
            "The city that has the highest proportion of trips made by customers is Chicago with a proportion up to 0.24\n"
          ],
          "name": "stdout"
        }
      ]
    },
    {
      "cell_type": "markdown",
      "metadata": {
        "id": "5k6GSJfDXs9j"
      },
      "source": [
        "**Question**: Bike-share systems are designed for riders to take short trips. Most of the time, users are allowed to take trips of 30 minutes or less with no additional charges, with overage charges made for trips of longer than that duration. \n",
        "What is the average trip length for each city? What proportion of rides made in each city are longer than 30 minutes?"
      ]
    },
    {
      "cell_type": "code",
      "metadata": {
        "colab": {
          "base_uri": "https://localhost:8080/"
        },
        "id": "9B49NHc6yAEs",
        "outputId": "ece5ee07-1f85-4b93-a43e-7358f00e627f"
      },
      "source": [
        "list_of_information = Statistic(input_files).investigation_charged_trips_each_city()\n",
        "\n",
        "for i in list_of_information:\n",
        "  print(\"- city: {}\".format(i[\"city_name\"]))\n",
        "  print(\"- average trip duration: {:0.2f}\".format(i[\"avg_trip_duration\"]))\n",
        "  print(\"- proportion of charged ride: {:0.2f}\\n\".format(i[\"charged_rides_proportion\"]))"
      ],
      "execution_count": null,
      "outputs": [
        {
          "output_type": "stream",
          "text": [
            "- city: NYC\n",
            "- average trip duration: 15.81\n",
            "- proportion of charged ride: 7.30\n",
            "\n",
            "- city: Chicago\n",
            "- average trip duration: 16.56\n",
            "- proportion of charged ride: 8.33\n",
            "\n",
            "- city: Washington\n",
            "- average trip duration: 18.93\n",
            "- proportion of charged ride: 10.84\n",
            "\n"
          ],
          "name": "stdout"
        }
      ]
    },
    {
      "cell_type": "code",
      "metadata": {
        "colab": {
          "base_uri": "https://localhost:8080/"
        },
        "id": "mFs7rf-YaCWZ",
        "outputId": "65b18edf-0035-4784-f7a1-f1f45d7acd02"
      },
      "source": [
        "identifies, user = Statistic(input_files).identifies_usage()\n",
        "\n",
        "# extract the information\n",
        "for i in range(0, len(input_files)):\n",
        "  print(\"For {} The type of users that has the longer rides on average is {} with an average of {:0.2f} minutes\".format(loc_id(input_files[i]), user[i], identifies[i][user[i]]))"
      ],
      "execution_count": null,
      "outputs": [
        {
          "output_type": "stream",
          "text": [
            "For NYC The type of users that has the longer rides on average is Subscriber with an average of 13.68 minutes\n",
            "For Chicago The type of users that has the longer rides on average is Subscriber with an average of 12.07 minutes\n",
            "For Washington The type of users that has the longer rides on average is Subscriber with an average of 12.53 minutes\n"
          ],
          "name": "stdout"
        }
      ]
    },
    {
      "cell_type": "markdown",
      "metadata": {
        "id": "PRek6eQ5jr0Q"
      },
      "source": [
        "# Visualization"
      ]
    },
    {
      "cell_type": "code",
      "metadata": {
        "id": "0c_fAXpJQoNu"
      },
      "source": [
        "class Visualization(EDA):   # inheritance from class EDA to visualize all cities input\n",
        "  def __init__(self, list_of_data_files):\n",
        "    super().__init__(None)                        # initialize filename as null\n",
        "    self.list_of_data_files = list_of_data_files\n",
        "  \n",
        "  # method to collect all of the trip times as a list\n",
        "  # and then use the list to generate a histogram of trip times\n",
        "  def plot_trip_times(self, order):\n",
        "    filename = self.list_of_data_files[order]\n",
        "    city = loc_id(self.list_of_data_files[order])\n",
        "    times = []\n",
        "    with open(filename, \"r\") as f:\n",
        "      reader = csv.DictReader(f)\n",
        "      for i in reader:\n",
        "        times.append(round(float(i[\"duration\"]), 2))\n",
        "  \n",
        "    plt.hist(times)\n",
        "    plt.title(\"Histogram of \"+str(city)+\"'s bike trips duration\")\n",
        "    plt.xlabel(\"Duration in minutes\")\n",
        "    plt.ylabel(\"Frequency\")\n",
        "    plt.show()\n",
        "  \n",
        "  # method to runs plot_trip_times for all cities input\n",
        "  def histogram_of_trip_durations(self):\n",
        "    for i in range(0, len(self.list_of_data_files)):\n",
        "      print(\"\\nHistogram for {}\".format(loc_id(self.list_of_data_files[i])))\n",
        "      self.plot_trip_times(i)\n",
        "  \n",
        "  # method to plot the distribution of trip times for the Subscribers in all selected city \n",
        "  # add limit to the plots so that only trips of duration less than 75 minute are plotted\n",
        "  def plot_trip_times_by_user_type(self):\n",
        "    minutes = 75\n",
        "    wide_intervals = 5\n",
        "    bins = [wide_intervals * i for i in range(int(minutes/wide_intervals))]\n",
        "    for i in self.list_of_data_files:\n",
        "      self.filename = i\n",
        "      city = loc_id(i)\n",
        "      subscribers = self.trip_times_by_user_type(\"Subscriber\")\n",
        "      customers = self.trip_times_by_user_type(\"Customer\")\n",
        "\n",
        "      print(\"----------------------------------------------------------\")\n",
        "      print(\"Distribution of {}'s {} trip durations\".format(city, \"subscriber\"))\n",
        "      plt.hist(subscribers, bins, range=(0, minutes))\n",
        "      plt.xticks(range(0, 80, 5))   # used to set locations labels in the x-axis\n",
        "      plt.title(\"Distribution of \"+str(city)+\"'s Subscriber trips duration\")\n",
        "      plt.xlabel(\"Duration in minutes\")\n",
        "      plt.ylabel(\"Frequency\")\n",
        "      plt.show()\n",
        "\n",
        "      print(\"\\nDistribution of {}'s {} trip durations\".format(city,  \"customer\"))\n",
        "      plt.hist(customers, bins, range=(0, minutes))\n",
        "      plt.xticks(range(0, 80, 5))   # used to set locations labels in the x-axis\n",
        "      plt.title(\"Distribution of \"+str(city)+\"'s  Customer trips duration\")\n",
        "      plt.xlabel(\"Duration in minutes\")\n",
        "      plt.ylabel(\"Frequency\")\n",
        "      plt.show()\n",
        "\n",
        "  # this method plotting the monthly ridership using input:\n",
        "  # (1) monthly_stats(Dict) --> month_stats: contains the number of trips per month in a given city\n",
        "  # (2) monthly_sub(Dict) --> month_subscri_trips: contains the number of trips by subscribers per month in a given city\n",
        "  # (3) monthly_custs(Dict) --> month_cust_trips: contains the number of trips by customers per month in a given city\n",
        "  # (4) ratio(Dict) --> month_ratio_by_type: contains the ratio between subscribers and customers trips per month \n",
        "  #     in a given city\n",
        "  def plot_ridership_month(self):\n",
        "\n",
        "    # collecting results\n",
        "    results = {}\n",
        "    for i in self.list_of_data_files:\n",
        "      self.filename = i\n",
        "      city = i.split(\"-\")[0].split(\"/\")[-1]\n",
        "      results[city] = self.ridership_by_month()\n",
        "    \n",
        "    # visualize it\n",
        "    for key, value in results.items():\n",
        "      print(\"results for {}\".format(key))\n",
        "      print(\"- the month that has the highest ridership rate is: {}\".format(value[\"mode_month\"]))\n",
        "      print(\"- the month that has the highest ridership rate in term of subscribers is: {}\".format(value[\"mode_month_subscri\"]))\n",
        "      print(\"- the month that has the highest ridership rate in term of customers is: {}\".format(value[\"mode_month_cust\"]))\n",
        "      \n",
        "      print(\"visualization for {}'s distributions...\".format(key))\n",
        "      plt.bar(range(len(value[\"month_stats\"])), value[\"month_stats\"].values(), align=\"center\")\n",
        "      plt.title(\"monthly ridership report of {}\".format(key))\n",
        "      plt.xticks(range(len(value[\"month_stats\"])), value[\"month_stats\"].keys())\n",
        "      plt.show()\n",
        "      print(\"---------------------------\")\n",
        "      plt.bar(range(len(value[\"month_subscri_trips\"])), value[\"month_subscri_trips\"].values(), align=\"center\")\n",
        "      plt.title(\"monthly ridership by subscribers report of {}\".format(key))\n",
        "      plt.xticks(range(len(value[\"month_subscri_trips\"])), value[\"month_subscri_trips\"].keys())\n",
        "      plt.show()\n",
        "      print(\"---------------------------\")\n",
        "      plt.bar(range(len(value[\"month_cust_trips\"])), value[\"month_cust_trips\"].values(), align=\"center\")\n",
        "      plt.title(\"monthly ridership by customers report of {}\".format(key))\n",
        "      plt.xticks(range(len(value[\"month_cust_trips\"])), value[\"month_cust_trips\"].keys())\n",
        "      plt.show()\n",
        "      print(\"---------------------------\")\n",
        "      plt.bar(range(len(value[\"month_ratio_by_type\"])), value[\"month_ratio_by_type\"].values(), align=\"center\")\n",
        "      plt.title(\"monthly ratio of ridership by tipe report of {}\".format(key))\n",
        "      plt.xticks(range(len(value[\"month_ratio_by_type\"])), value[\"month_ratio_by_type\"].keys())\n",
        "      plt.show()\n",
        "      print(\"\\n\\n\")"
      ],
      "execution_count": null,
      "outputs": []
    },
    {
      "cell_type": "code",
      "metadata": {
        "colab": {
          "base_uri": "https://localhost:8080/",
          "height": 961
        },
        "id": "zlnr7HttQEdZ",
        "outputId": "02e4cf22-938b-4ef0-c20c-7e1e26740b43"
      },
      "source": [
        "Visualization(input_files).histogram_of_trip_durations()"
      ],
      "execution_count": null,
      "outputs": [
        {
          "output_type": "stream",
          "text": [
            "\n",
            "Histogram for NYC\n"
          ],
          "name": "stdout"
        },
        {
          "output_type": "display_data",
          "data": {
            "image/png": "[encoded data removed]",
            "text/plain": [
              "<Figure size 432x288 with 1 Axes>"
            ]
          },
          "metadata": {
            "tags": [],
            "needs_background": "light"
          }
        },
        {
          "output_type": "stream",
          "text": [
            "\n",
            "Histogram for Chicago\n"
          ],
          "name": "stdout"
        },
        {
          "output_type": "display_data",
          "data": {
            "image/png": "[encoded data removed]",
            "text/plain": [
              "<Figure size 432x288 with 1 Axes>"
            ]
          },
          "metadata": {
            "tags": [],
            "needs_background": "light"
          }
        },
        {
          "output_type": "stream",
          "text": [
            "\n",
            "Histogram for Washington\n"
          ],
          "name": "stdout"
        },
        {
          "output_type": "display_data",
          "data": {
            "image/png": "[encoded data removed]",
            "text/plain": [
              "<Figure size 432x288 with 1 Axes>"
            ]
          },
          "metadata": {
            "tags": [],
            "needs_background": "light"
          }
        }
      ]
    },
    {
      "cell_type": "markdown",
      "metadata": {
        "id": "28iL4wenj6M8"
      },
      "source": [
        "Plot the distribution of trip times for the Subscribers in all selected city. Add limit to the plots so that only trips of duration less than 75 minute are plotted. Also, set the plots up so that bars are in five-minute wide intervals.\n",
        "For each group, where is the peak of each distribution? How would you describe the shape of each distribution?"
      ]
    },
    {
      "cell_type": "code",
      "metadata": {
        "colab": {
          "base_uri": "https://localhost:8080/",
          "height": 1000
        },
        "id": "ZLZo9M3i_kVO",
        "outputId": "c25c4c83-5f8e-44b5-c924-9d12af13c3f5"
      },
      "source": [
        "Visualization(input_files).plot_trip_times_by_user_type()"
      ],
      "execution_count": null,
      "outputs": [
        {
          "output_type": "stream",
          "text": [
            "----------------------------------------------------------\n",
            "Distribution of NYC's subscriber trip durations\n"
          ],
          "name": "stdout"
        },
        {
          "output_type": "display_data",
          "data": {
            "image/png": "[encoded data removed]",
            "text/plain": [
              "<Figure size 432x288 with 1 Axes>"
            ]
          },
          "metadata": {
            "tags": [],
            "needs_background": "light"
          }
        },
        {
          "output_type": "stream",
          "text": [
            "\n",
            "Distribution of NYC's customer trip durations\n"
          ],
          "name": "stdout"
        },
        {
          "output_type": "display_data",
          "data": {
            "image/png": "[encoded data removed]",
            "text/plain": [
              "<Figure size 432x288 with 1 Axes>"
            ]
          },
          "metadata": {
            "tags": [],
            "needs_background": "light"
          }
        },
        {
          "output_type": "stream",
          "text": [
            "----------------------------------------------------------\n",
            "Distribution of Chicago's subscriber trip durations\n"
          ],
          "name": "stdout"
        },
        {
          "output_type": "display_data",
          "data": {
            "image/png": "[encoded data removed]",
            "text/plain": [
              "<Figure size 432x288 with 1 Axes>"
            ]
          },
          "metadata": {
            "tags": [],
            "needs_background": "light"
          }
        },
        {
          "output_type": "stream",
          "text": [
            "\n",
            "Distribution of Chicago's customer trip durations\n"
          ],
          "name": "stdout"
        },
        {
          "output_type": "display_data",
          "data": {
            "image/png": "[encoded data removed]",
            "text/plain": [
              "<Figure size 432x288 with 1 Axes>"
            ]
          },
          "metadata": {
            "tags": [],
            "needs_background": "light"
          }
        },
        {
          "output_type": "stream",
          "text": [
            "----------------------------------------------------------\n",
            "Distribution of Washington's subscriber trip durations\n"
          ],
          "name": "stdout"
        },
        {
          "output_type": "display_data",
          "data": {
            "image/png": "[encoded data removed]",
            "text/plain": [
              "<Figure size 432x288 with 1 Axes>"
            ]
          },
          "metadata": {
            "tags": [],
            "needs_background": "light"
          }
        },
        {
          "output_type": "stream",
          "text": [
            "\n",
            "Distribution of Washington's customer trip durations\n"
          ],
          "name": "stdout"
        },
        {
          "output_type": "display_data",
          "data": {
            "image/png": "[encoded data removed]",
            "text/plain": [
              "<Figure size 432x288 with 1 Axes>"
            ]
          },
          "metadata": {
            "tags": [],
            "needs_background": "light"
          }
        }
      ]
    },
    {
      "cell_type": "markdown",
      "metadata": {
        "id": "ho1sOlFul_aa"
      },
      "source": [
        "- How does ridership differ by month or season in each city?\n",
        "- Which month/season has the highest ridership in each city?\n",
        "- How does the ratio of Subscriber trips to Customers trips change in each of the three cities?"
      ]
    },
    {
      "cell_type": "code",
      "metadata": {
        "colab": {
          "base_uri": "https://localhost:8080/",
          "height": 1000
        },
        "id": "cGDEgUz3isSf",
        "outputId": "69a1a591-4357-4a2a-e3c1-54aceb66c737"
      },
      "source": [
        "Visualization(input_files).plot_ridership_month()"
      ],
      "execution_count": null,
      "outputs": [
        {
          "output_type": "stream",
          "text": [
            "results for NYC\n",
            "- the month that has the highest ridership rate is: September\n",
            "- the month that has the highest ridership rate in term of subscribers is: September\n",
            "- the month that has the highest ridership rate in term of customers is: August\n",
            "visualization for NYC's distributions...\n"
          ],
          "name": "stdout"
        },
        {
          "output_type": "display_data",
          "data": {
            "image/png": "[encoded data removed]",
            "text/plain": [
              "<Figure size 432x288 with 1 Axes>"
            ]
          },
          "metadata": {
            "tags": [],
            "needs_background": "light"
          }
        },
        {
          "output_type": "stream",
          "text": [
            "---------------------------\n"
          ],
          "name": "stdout"
        },
        {
          "output_type": "display_data",
          "data": {
            "image/png": "[encoded data removed]",
            "text/plain": [
              "<Figure size 432x288 with 1 Axes>"
            ]
          },
          "metadata": {
            "tags": [],
            "needs_background": "light"
          }
        },
        {
          "output_type": "stream",
          "text": [
            "---------------------------\n"
          ],
          "name": "stdout"
        },
        {
          "output_type": "display_data",
          "data": {
            "image/png": "[encoded data removed]",
            "text/plain": [
              "<Figure size 432x288 with 1 Axes>"
            ]
          },
          "metadata": {
            "tags": [],
            "needs_background": "light"
          }
        },
        {
          "output_type": "stream",
          "text": [
            "---------------------------\n"
          ],
          "name": "stdout"
        },
        {
          "output_type": "display_data",
          "data": {
            "image/png": "[encoded data removed]",
            "text/plain": [
              "<Figure size 432x288 with 1 Axes>"
            ]
          },
          "metadata": {
            "tags": [],
            "needs_background": "light"
          }
        },
        {
          "output_type": "stream",
          "text": [
            "\n",
            "\n",
            "\n",
            "results for Chicago\n",
            "- the month that has the highest ridership rate is: July\n",
            "- the month that has the highest ridership rate in term of subscribers is: June\n",
            "- the month that has the highest ridership rate in term of customers is: July\n",
            "visualization for Chicago's distributions...\n"
          ],
          "name": "stdout"
        },
        {
          "output_type": "display_data",
          "data": {
            "image/png": "[encoded data removed]",
            "text/plain": [
              "<Figure size 432x288 with 1 Axes>"
            ]
          },
          "metadata": {
            "tags": [],
            "needs_background": "light"
          }
        },
        {
          "output_type": "stream",
          "text": [
            "---------------------------\n"
          ],
          "name": "stdout"
        },
        {
          "output_type": "display_data",
          "data": {
            "image/png": "[encoded data removed]",
            "text/plain": [
              "<Figure size 432x288 with 1 Axes>"
            ]
          },
          "metadata": {
            "tags": [],
            "needs_background": "light"
          }
        },
        {
          "output_type": "stream",
          "text": [
            "---------------------------\n"
          ],
          "name": "stdout"
        },
        {
          "output_type": "display_data",
          "data": {
            "image/png": "[encoded data removed]",
            "text/plain": [
              "<Figure size 432x288 with 1 Axes>"
            ]
          },
          "metadata": {
            "tags": [],
            "needs_background": "light"
          }
        },
        {
          "output_type": "stream",
          "text": [
            "---------------------------\n"
          ],
          "name": "stdout"
        },
        {
          "output_type": "display_data",
          "data": {
            "image/png": "[encoded data removed]",
            "text/plain": [
              "<Figure size 432x288 with 1 Axes>"
            ]
          },
          "metadata": {
            "tags": [],
            "needs_background": "light"
          }
        },
        {
          "output_type": "stream",
          "text": [
            "\n",
            "\n",
            "\n",
            "results for Washington\n",
            "- the month that has the highest ridership rate is: July\n",
            "- the month that has the highest ridership rate in term of subscribers is: June\n",
            "- the month that has the highest ridership rate in term of customers is: July\n",
            "visualization for Washington's distributions...\n"
          ],
          "name": "stdout"
        },
        {
          "output_type": "display_data",
          "data": {
            "image/png": "[encoded data removed]",
            "text/plain": [
              "<Figure size 432x288 with 1 Axes>"
            ]
          },
          "metadata": {
            "tags": [],
            "needs_background": "light"
          }
        },
        {
          "output_type": "stream",
          "text": [
            "---------------------------\n"
          ],
          "name": "stdout"
        },
        {
          "output_type": "display_data",
          "data": {
            "image/png": "[encoded data removed]",
            "text/plain": [
              "<Figure size 432x288 with 1 Axes>"
            ]
          },
          "metadata": {
            "tags": [],
            "needs_background": "light"
          }
        },
        {
          "output_type": "stream",
          "text": [
            "---------------------------\n"
          ],
          "name": "stdout"
        },
        {
          "output_type": "display_data",
          "data": {
            "image/png": "[encoded data removed]",
            "text/plain": [
              "<Figure size 432x288 with 1 Axes>"
            ]
          },
          "metadata": {
            "tags": [],
            "needs_background": "light"
          }
        },
        {
          "output_type": "stream",
          "text": [
            "---------------------------\n"
          ],
          "name": "stdout"
        },
        {
          "output_type": "display_data",
          "data": {
            "image/png": "[encoded data removed]",
            "text/plain": [
              "<Figure size 432x288 with 1 Axes>"
            ]
          },
          "metadata": {
            "tags": [],
            "needs_background": "light"
          }
        },
        {
          "output_type": "stream",
          "text": [
            "\n",
            "\n",
            "\n"
          ],
          "name": "stdout"
        }
      ]
    },
    {
      "cell_type": "code",
      "metadata": {
        "colab": {
          "base_uri": "https://localhost:8080/"
        },
        "id": "9Ix8wADfDbne",
        "outputId": "733436d5-e0db-4836-95c8-7d5ef8b3d481"
      },
      "source": [
        "from subprocess import call\n",
        "call([\"python\", \"-m\", \"nbconvert\", \"madaraku.ipynb\"])"
      ],
      "execution_count": null,
      "outputs": [
        {
          "output_type": "execute_result",
          "data": {
            "text/plain": [
              "255"
            ]
          },
          "metadata": {
            "tags": []
          },
          "execution_count": 65
        }
      ]
    }
  ]
}