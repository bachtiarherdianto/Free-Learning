{
  "nbformat": 4,
  "nbformat_minor": 0,
  "metadata": {
    "colab": {
      "name": "main.ipynb",
      "provenance": [],
      "collapsed_sections": []
    },
    "kernelspec": {
      "name": "python3",
      "display_name": "Python 3"
    },
    "language_info": {
      "name": "python"
    }
  },
  "cells": [
    {
      "cell_type": "markdown",
      "source": [
        "# Installation and Import Module"
      ],
      "metadata": {
        "id": "ol9hBC29Tf6f"
      }
    },
    {
      "cell_type": "code",
      "execution_count": 3,
      "metadata": {
        "colab": {
          "base_uri": "https://localhost:8080/"
        },
        "id": "8gKFjJ4wS9Vp",
        "outputId": "411e6155-fbac-48cb-f5d1-10eee70cda50"
      },
      "outputs": [
        {
          "output_type": "stream",
          "name": "stdout",
          "text": [
            "\u001b[K     |████████████████████████████████| 9.6 MB 3.2 MB/s \n",
            "\u001b[K     |████████████████████████████████| 49 kB 5.2 MB/s \n",
            "\u001b[?25hSelecting previously unselected package libsuitesparseconfig5:amd64.\n",
            "(Reading database ... 155680 files and directories currently installed.)\n",
            "Preparing to unpack .../libsuitesparseconfig5_1%3a5.1.2-2_amd64.deb ...\n",
            "Unpacking libsuitesparseconfig5:amd64 (1:5.1.2-2) ...\n",
            "Selecting previously unselected package libamd2:amd64.\n",
            "Preparing to unpack .../libamd2_1%3a5.1.2-2_amd64.deb ...\n",
            "Unpacking libamd2:amd64 (1:5.1.2-2) ...\n",
            "Selecting previously unselected package libcolamd2:amd64.\n",
            "Preparing to unpack .../libcolamd2_1%3a5.1.2-2_amd64.deb ...\n",
            "Unpacking libcolamd2:amd64 (1:5.1.2-2) ...\n",
            "Selecting previously unselected package libglpk40:amd64.\n",
            "Preparing to unpack .../libglpk40_4.65-1_amd64.deb ...\n",
            "Unpacking libglpk40:amd64 (4.65-1) ...\n",
            "Selecting previously unselected package glpk-utils.\n",
            "Preparing to unpack .../glpk-utils_4.65-1_amd64.deb ...\n",
            "Unpacking glpk-utils (4.65-1) ...\n",
            "Setting up libsuitesparseconfig5:amd64 (1:5.1.2-2) ...\n",
            "Setting up libcolamd2:amd64 (1:5.1.2-2) ...\n",
            "Setting up libamd2:amd64 (1:5.1.2-2) ...\n",
            "Setting up libglpk40:amd64 (4.65-1) ...\n",
            "Setting up glpk-utils (4.65-1) ...\n",
            "Processing triggers for libc-bin (2.27-3ubuntu1.5) ...\n",
            "Processing triggers for man-db (2.8.3-2ubuntu0.1) ...\n"
          ]
        }
      ],
      "source": [
        "!pip install -q pyomo\n",
        "!apt-get install -y -qq glpk-utils"
      ]
    },
    {
      "cell_type": "code",
      "source": [
        "from sys import maxsize\n",
        "from pyomo.environ import *"
      ],
      "metadata": {
        "id": "FZtxloEdTjd4"
      },
      "execution_count": 4,
      "outputs": []
    },
    {
      "cell_type": "markdown",
      "source": [
        "# Linear Programming in Pyomo"
      ],
      "metadata": {
        "id": "kSM-LHzYT1PK"
      }
    },
    {
      "cell_type": "markdown",
      "source": [
        "The purpose of this model is to optimize the production of two products, 'A' and 'B', subject to constraints. The objective is to maximize profit\n",
        "\n",
        "\\begin{align}\n",
        "\\max_{x,y} \\mbox{profit} =  40 x + 30 y\n",
        "\\end{align}\n",
        "subject to\n",
        "\\begin{align}\n",
        "x & \\leq 40 \\\\\n",
        "x + 2y & \\leq 80 \\\\\n",
        "x + y & \\leq 100\n",
        "\\end{align}\n",
        "\n",
        "where $x$ refers the production of $Product A$, and $y$ to the production of $Product B$."
      ],
      "metadata": {
        "id": "TUrzfMgsT8Ac"
      }
    },
    {
      "cell_type": "code",
      "source": [
        "model = ConcreteModel();  # create a model\n",
        "index = [\"Product A\", \"Product B\"];   # index for x and y\n",
        "model.x = Var(index, domain=NonNegativeIntegers);   # create decision variable\n",
        "\n",
        "# objective function -> maximization\n",
        "model.maxprofit = Objective(expr=40*model.x[\"Product A\"]+30*model.x[\"Product B\"], sense=maximize);\n",
        "\n",
        "# constraints\n",
        "model.constraints = ConstraintList();\n",
        "model.constraints.add(model.x[\"Product A\"] <= 40);\n",
        "model.constraints.add(model.x[\"Product A\"] + 2*model.x[\"Product B\"] <= 80);\n",
        "model.constraints.add(model.x[\"Product A\"] + model.x[\"Product B\"] <= 100);"
      ],
      "metadata": {
        "id": "cYdDA2I5Tm_m"
      },
      "execution_count": 5,
      "outputs": []
    },
    {
      "cell_type": "code",
      "source": [
        "# solve\n",
        "solver = SolverFactory(\"glpk\");\n",
        "result = solver.solve(model);"
      ],
      "metadata": {
        "id": "kzcuB6KlT_2v"
      },
      "execution_count": 6,
      "outputs": []
    },
    {
      "cell_type": "code",
      "source": [
        "for i in index:\n",
        "  print(i, model.x[i]());"
      ],
      "metadata": {
        "colab": {
          "base_uri": "https://localhost:8080/"
        },
        "id": "DIE45feRUB-y",
        "outputId": "e58d323e-1fe2-4128-b6a5-5400b46d9858"
      },
      "execution_count": 7,
      "outputs": [
        {
          "output_type": "stream",
          "name": "stdout",
          "text": [
            "Product A 40.0\n",
            "Product B 20.0\n"
          ]
        }
      ]
    },
    {
      "cell_type": "code",
      "source": [
        ""
      ],
      "metadata": {
        "id": "nKQMljljUEQD"
      },
      "execution_count": null,
      "outputs": []
    }
  ]
}